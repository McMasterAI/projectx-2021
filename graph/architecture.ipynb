{
 "cells": [
  {
   "cell_type": "code",
   "execution_count": 1,
   "metadata": {},
   "outputs": [],
   "source": [
    "import torch\n",
    "from torch_geometric.data import Data\n",
    "from tqdm import tqdm"
   ]
  },
  {
   "cell_type": "markdown",
   "metadata": {},
   "source": [
    "# Creating Edges\n",
    "Index string_db, and connect nodes with a combined score over 500 (arbitrary)"
   ]
  },
  {
   "cell_type": "code",
   "execution_count": 2,
   "metadata": {},
   "outputs": [],
   "source": [
    "import json\n",
    "\n",
    "stringdb = json.load(open(\"../Corpuses/string_db.json\"))"
   ]
  },
  {
   "cell_type": "markdown",
   "metadata": {},
   "source": [
    "Mapping all gene names to a vocab, then creating an edge connection tensor"
   ]
  },
  {
   "cell_type": "code",
   "execution_count": 14,
   "metadata": {},
   "outputs": [
    {
     "name": "stderr",
     "output_type": "stream",
     "text": [
      "100%|██████████| 19386/19386 [00:00<00:00, 1682895.47it/s]"
     ]
    },
    {
     "name": "stdout",
     "output_type": "stream",
     "text": [
      "torch.Size([2, 3702])\n"
     ]
    },
    {
     "name": "stderr",
     "output_type": "stream",
     "text": [
      "\n"
     ]
    }
   ],
   "source": [
    "edge_index = [[], []] # starts, ends\n",
    "vocab = {}\n",
    "idx = 0\n",
    "for k, v in tqdm(stringdb.items()):\n",
    "    if 'combined_score' in v and int(v['combined_score']) > 500:\n",
    "        if k not in vocab:\n",
    "            vocab[k] = idx\n",
    "            idx += 1\n",
    "        if v['protein2'] not in vocab:\n",
    "            vocab[v['protein2']] = idx\n",
    "            idx += 1\n",
    "        \n",
    "        edge_index[0].extend([vocab[k], vocab[v['protein2']]])\n",
    "        edge_index[1].extend([vocab[v['protein2']], vocab[k]])\n",
    "edge_index = torch.tensor(edge_index, dtype=torch.long)\n",
    "print(edge_index.shape)"
   ]
  },
  {
   "cell_type": "code",
   "execution_count": null,
   "metadata": {},
   "outputs": [],
   "source": [
    "feat_vecs = None # attach in protbert inference here"
   ]
  },
  {
   "cell_type": "code",
   "execution_count": null,
   "metadata": {},
   "outputs": [],
   "source": [
    "data = Data(x=feat_vecs, edge_index=edge_index)"
   ]
  }
 ],
 "metadata": {
  "interpreter": {
   "hash": "1089fe65113b67ddef2f36d85cc3225dfd44ba404736c8c3d773195572854cbb"
  },
  "kernelspec": {
   "display_name": "Python 3.9.7 64-bit ('gnn': conda)",
   "language": "python",
   "name": "python3"
  },
  "language_info": {
   "codemirror_mode": {
    "name": "ipython",
    "version": 3
   },
   "file_extension": ".py",
   "mimetype": "text/x-python",
   "name": "python",
   "nbconvert_exporter": "python",
   "pygments_lexer": "ipython3",
   "version": "3.9.7"
  },
  "orig_nbformat": 4
 },
 "nbformat": 4,
 "nbformat_minor": 2
}
