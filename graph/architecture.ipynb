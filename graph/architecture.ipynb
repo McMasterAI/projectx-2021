{
 "cells": [
  {
   "cell_type": "code",
   "execution_count": 1,
   "metadata": {},
   "outputs": [],
   "source": [
    "import torch\n",
    "from torch_geometric.data import Data\n",
    "from tqdm import tqdm"
   ]
  },
  {
   "cell_type": "markdown",
   "metadata": {},
   "source": [
    "# Creating Edges\n",
    "Index string_db, and connect nodes with a combined score over 500 (arbitrary)"
   ]
  },
  {
   "cell_type": "code",
   "execution_count": 2,
   "metadata": {},
   "outputs": [],
   "source": [
    "import json\n",
    "\n",
    "stringdb = json.load(open(\"../Corpuses/string_db.json\"))"
   ]
  },
  {
   "cell_type": "markdown",
   "metadata": {},
   "source": [
    "Mapping all gene names to a vocab, then creating an edge connection tensor"
   ]
  },
  {
   "cell_type": "code",
   "execution_count": 3,
   "metadata": {},
   "outputs": [
    {
     "name": "stderr",
     "output_type": "stream",
     "text": [
      "100%|██████████| 19386/19386 [00:00<00:00, 1899740.13it/s]"
     ]
    },
    {
     "name": "stdout",
     "output_type": "stream",
     "text": [
      "torch.Size([2, 3702])\n"
     ]
    },
    {
     "name": "stderr",
     "output_type": "stream",
     "text": [
      "\n"
     ]
    }
   ],
   "source": [
    "edge_index = [[], []] # starts, ends\n",
    "vocab = {}\n",
    "idx = 0\n",
    "for k, v in tqdm(stringdb.items()):\n",
    "    if 'combined_score' in v and int(v['combined_score']) > 500:\n",
    "        if k not in vocab:\n",
    "            vocab[k] = idx\n",
    "            idx += 1\n",
    "        if v['protein2'] not in vocab:\n",
    "            vocab[v['protein2']] = idx\n",
    "            idx += 1\n",
    "        \n",
    "        edge_index[0].extend([vocab[k], vocab[v['protein2']]])\n",
    "        edge_index[1].extend([vocab[v['protein2']], vocab[k]])\n",
    "edge_index = torch.tensor(edge_index, dtype=torch.long)\n",
    "print(edge_index.shape)"
   ]
  },
  {
   "cell_type": "markdown",
   "metadata": {},
   "source": [
    "# Creating Node Feature Vectors"
   ]
  },
  {
   "cell_type": "code",
   "execution_count": 4,
   "metadata": {},
   "outputs": [
    {
     "name": "stderr",
     "output_type": "stream",
     "text": [
      "Some weights of the model checkpoint at Rostlab/prot_bert were not used when initializing BertForMaskedLM: ['cls.seq_relationship.weight', 'cls.seq_relationship.bias']\n",
      "- This IS expected if you are initializing BertForMaskedLM from the checkpoint of a model trained on another task or with another architecture (e.g. initializing a BertForSequenceClassification model from a BertForPreTraining model).\n",
      "- This IS NOT expected if you are initializing BertForMaskedLM from the checkpoint of a model that you expect to be exactly identical (initializing a BertForSequenceClassification model from a BertForSequenceClassification model).\n",
      "\u001b[33mWARNING [bioservices:UniProt:119]: \u001b[0m \u001b[34mThe URL (https://www.uniprot.org) provided cannot be reached.\u001b[0m\n"
     ]
    }
   ],
   "source": [
    "import sys\n",
    "import torch\n",
    "from bioservices import UniProt\n",
    "sys.path.append(\"../\")\n",
    "from protbert.inference import ProtBertModule\n",
    "\n",
    "protbert = ProtBertModule(torch.device('cpu'))\n",
    "u = UniProt(verbose=False)"
   ]
  },
  {
   "cell_type": "code",
   "execution_count": 5,
   "metadata": {},
   "outputs": [
    {
     "name": "stderr",
     "output_type": "stream",
     "text": [
      "  0%|          | 1/3289 [00:02<1:56:57,  2.13s/it]"
     ]
    }
   ],
   "source": [
    "from pprint import pprint\n",
    "from tqdm import tqdm\n",
    "\n",
    "feat_vecs = [] # attach in protbert inference here\n",
    "\n",
    "for node in tqdm(vocab.keys()):\n",
    "    # Finding associated protein for each gene\n",
    "    o = u.search(node, frmt=\"fasta\").split(\"\\n\")\n",
    "    fasta = \"\".join(o[1:])\n",
    "    \n",
    "    # inference\n",
    "    fasta = protbert.encode(fasta)\n",
    "    preds = protbert(fasta).logits\n",
    "    preds = torch.squeeze(preds).cpu().detach().numpy()\n",
    "    feat_vecs.append(preds)\n",
    "    del preds\n",
    "    del fasta"
   ]
  },
  {
   "cell_type": "code",
   "execution_count": null,
   "metadata": {},
   "outputs": [
    {
     "ename": "Error",
     "evalue": "Session cannot generate requests",
     "output_type": "error",
     "traceback": [
      "Error: Session cannot generate requests",
      "at S.executeCodeCell (/home/danwsl/.vscode-server/extensions/ms-toolsai.jupyter-2021.10.1101450599/out/client/extension.js:66:301742)",
      "at S.execute (/home/danwsl/.vscode-server/extensions/ms-toolsai.jupyter-2021.10.1101450599/out/client/extension.js:66:300732)",
      "at S.start (/home/danwsl/.vscode-server/extensions/ms-toolsai.jupyter-2021.10.1101450599/out/client/extension.js:66:296408)",
      "at processTicksAndRejections (internal/process/task_queues.js:93:5)",
      "at async t.CellExecutionQueue.executeQueuedCells (/home/danwsl/.vscode-server/extensions/ms-toolsai.jupyter-2021.10.1101450599/out/client/extension.js:66:312326)",
      "at async t.CellExecutionQueue.start (/home/danwsl/.vscode-server/extensions/ms-toolsai.jupyter-2021.10.1101450599/out/client/extension.js:66:311862)"
     ]
    }
   ],
   "source": [
    "data = Data(x=feat_vecs, edge_index=edge_index)"
   ]
  }
 ],
 "metadata": {
  "interpreter": {
   "hash": "1089fe65113b67ddef2f36d85cc3225dfd44ba404736c8c3d773195572854cbb"
  },
  "jupytext": {
   "formats": "ipynb,py:percent"
  },
  "kernelspec": {
   "display_name": "Python 3.9.7 64-bit ('gnn': conda)",
   "language": "python",
   "name": "python3"
  },
  "language_info": {
   "codemirror_mode": {
    "name": "ipython",
    "version": 3
   },
   "file_extension": ".py",
   "mimetype": "text/x-python",
   "name": "python",
   "nbconvert_exporter": "python",
   "pygments_lexer": "ipython3",
   "version": "3.9.7"
  }
 },
 "nbformat": 4,
 "nbformat_minor": 2
}
