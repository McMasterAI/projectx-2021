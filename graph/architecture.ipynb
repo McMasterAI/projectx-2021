{
 "cells": [
  {
   "cell_type": "code",
   "execution_count": 1,
   "metadata": {},
   "outputs": [],
   "source": [
    "import torch\n",
    "from torch_geometric.data import Data\n",
    "from tqdm import tqdm"
   ]
  },
  {
   "cell_type": "markdown",
   "metadata": {},
   "source": [
    "# Creating Edges\n",
    "Index string_db, and connect nodes with a combined score over 500 (arbitrary)"
   ]
  },
  {
   "cell_type": "code",
   "execution_count": 2,
   "metadata": {},
   "outputs": [],
   "source": [
    "import json\n",
    "\n",
    "stringdb = json.load(open(\"../Corpuses/string_db.json\"))"
   ]
  },
  {
   "cell_type": "markdown",
   "metadata": {},
   "source": [
    "Mapping all gene names to a vocab, then creating an edge connection tensor"
   ]
  },
  {
   "cell_type": "code",
   "execution_count": 3,
   "metadata": {},
   "outputs": [
    {
     "name": "stderr",
     "output_type": "stream",
     "text": [
      "100%|██████████| 19386/19386 [00:00<00:00, 430696.58it/s]"
     ]
    },
    {
     "name": "stdout",
     "output_type": "stream",
     "text": [
      "torch.Size([2, 3702])\n"
     ]
    },
    {
     "name": "stderr",
     "output_type": "stream",
     "text": [
      "\n"
     ]
    }
   ],
   "source": [
    "edge_index = [[], []] # starts, ends\n",
    "vocab = {}\n",
    "idx = 0\n",
    "for k, v in tqdm(stringdb.items()):\n",
    "    if 'combined_score' in v and int(v['combined_score']) > 500:\n",
    "        if k not in vocab:\n",
    "            vocab[k] = idx\n",
    "            idx += 1\n",
    "        if v['protein2'] not in vocab:\n",
    "            vocab[v['protein2']] = idx\n",
    "            idx += 1\n",
    "        \n",
    "        edge_index[0].extend([vocab[k], vocab[v['protein2']]])\n",
    "        edge_index[1].extend([vocab[v['protein2']], vocab[k]])\n",
    "edge_index = torch.tensor(edge_index, dtype=torch.long)\n",
    "print(edge_index.shape)"
   ]
  },
  {
   "cell_type": "markdown",
   "metadata": {},
   "source": [
    "# Creating Node Feature Vectors"
   ]
  },
  {
   "cell_type": "code",
   "execution_count": 4,
   "metadata": {},
   "outputs": [
    {
     "name": "stdout",
     "output_type": "stream",
     "text": [
      "Creating directory /home/dan/.config/bioservices \n"
     ]
    },
    {
     "ename": "ModuleNotFoundError",
     "evalue": "No module named 'transformers'",
     "output_type": "error",
     "traceback": [
      "\u001b[0;31m---------------------------------------------------------------------------\u001b[0m",
      "\u001b[0;31mModuleNotFoundError\u001b[0m                       Traceback (most recent call last)",
      "\u001b[0;32m<ipython-input-4-93ee0aeca3d2>\u001b[0m in \u001b[0;36m<module>\u001b[0;34m\u001b[0m\n\u001b[1;32m      3\u001b[0m \u001b[0;32mfrom\u001b[0m \u001b[0mbioservices\u001b[0m \u001b[0;32mimport\u001b[0m \u001b[0mUniProt\u001b[0m\u001b[0;34m\u001b[0m\u001b[0;34m\u001b[0m\u001b[0m\n\u001b[1;32m      4\u001b[0m \u001b[0msys\u001b[0m\u001b[0;34m.\u001b[0m\u001b[0mpath\u001b[0m\u001b[0;34m.\u001b[0m\u001b[0mappend\u001b[0m\u001b[0;34m(\u001b[0m\u001b[0;34m\"../\"\u001b[0m\u001b[0;34m)\u001b[0m\u001b[0;34m\u001b[0m\u001b[0;34m\u001b[0m\u001b[0m\n\u001b[0;32m----> 5\u001b[0;31m \u001b[0;32mfrom\u001b[0m \u001b[0mprotbert\u001b[0m\u001b[0;34m.\u001b[0m\u001b[0minference\u001b[0m \u001b[0;32mimport\u001b[0m \u001b[0mProtBertModule\u001b[0m\u001b[0;34m\u001b[0m\u001b[0;34m\u001b[0m\u001b[0m\n\u001b[0m\u001b[1;32m      6\u001b[0m \u001b[0;34m\u001b[0m\u001b[0m\n\u001b[1;32m      7\u001b[0m \u001b[0mprotbert\u001b[0m \u001b[0;34m=\u001b[0m \u001b[0mProtBertModule\u001b[0m\u001b[0;34m(\u001b[0m\u001b[0mtorch\u001b[0m\u001b[0;34m.\u001b[0m\u001b[0mdevice\u001b[0m\u001b[0;34m(\u001b[0m\u001b[0;34m'cpu'\u001b[0m\u001b[0;34m)\u001b[0m\u001b[0;34m)\u001b[0m\u001b[0;34m\u001b[0m\u001b[0;34m\u001b[0m\u001b[0m\n",
      "\u001b[0;32m~/Documents/MacAI/projectx-2021/graph/../protbert/inference.py\u001b[0m in \u001b[0;36m<module>\u001b[0;34m\u001b[0m\n\u001b[1;32m      1\u001b[0m \u001b[0;32mimport\u001b[0m \u001b[0mtorch\u001b[0m\u001b[0;34m\u001b[0m\u001b[0;34m\u001b[0m\u001b[0m\n\u001b[1;32m      2\u001b[0m \u001b[0;32mimport\u001b[0m \u001b[0mtorch\u001b[0m\u001b[0;34m.\u001b[0m\u001b[0mnn\u001b[0m \u001b[0;32mas\u001b[0m \u001b[0mnn\u001b[0m\u001b[0;34m\u001b[0m\u001b[0;34m\u001b[0m\u001b[0m\n\u001b[0;32m----> 3\u001b[0;31m \u001b[0;32mfrom\u001b[0m \u001b[0mtransformers\u001b[0m \u001b[0;32mimport\u001b[0m \u001b[0mAutoTokenizer\u001b[0m\u001b[0;34m,\u001b[0m \u001b[0mAutoModelForMaskedLM\u001b[0m\u001b[0;34m\u001b[0m\u001b[0;34m\u001b[0m\u001b[0m\n\u001b[0m\u001b[1;32m      4\u001b[0m \u001b[0;34m\u001b[0m\u001b[0m\n\u001b[1;32m      5\u001b[0m \u001b[0;34m\u001b[0m\u001b[0m\n",
      "\u001b[0;31mModuleNotFoundError\u001b[0m: No module named 'transformers'"
     ]
    }
   ],
   "source": [
    "import sys\n",
    "import torch\n",
    "from bioservices import UniProt\n",
    "sys.path.append(\"../\")\n",
    "from protbert.inference import ProtBertModule\n",
    "\n",
    "protbert = ProtBertModule(torch.device('cpu'))\n",
    "u = UniProt(verbose=False)"
   ]
  },
  {
   "cell_type": "code",
   "execution_count": 5,
   "metadata": {},
   "outputs": [
    {
     "name": "stderr",
     "output_type": "stream",
     "text": [
      "  0%|          | 1/3289 [00:02<1:56:57,  2.13s/it]"
     ]
    }
   ],
   "source": [
    "from pprint import pprint\n",
    "from tqdm import tqdm\n",
    "\n",
    "feat_vecs = [] # attach in protbert inference here\n",
    "\n",
    "for node in tqdm(vocab.keys()):\n",
    "    # Finding associated protein for each gene\n",
    "    o = u.search(node, frmt=\"fasta\").split(\"\\n\")\n",
    "    fasta = \"\".join(o[1:])\n",
    "    \n",
    "    # inference\n",
    "    fasta = protbert.encode(fasta)\n",
    "    preds = protbert(fasta).logits\n",
    "    preds = torch.squeeze(preds).cpu().detach().numpy()\n",
    "    feat_vecs.append(preds)\n",
    "    del preds\n",
    "    del fasta"
   ]
  },
  {
   "cell_type": "code",
   "execution_count": 5,
   "metadata": {},
   "outputs": [
    {
     "name": "stderr",
     "output_type": "stream",
     "text": [
      "100%|██████████| 3289/3289 [00:00<00:00, 48156.87it/s]\n"
     ]
    }
   ],
   "source": [
    "# Random feat vecs without inference\n",
    "feat_vecs = []\n",
    "for node in tqdm(vocab.keys()):\n",
    "    feat_vecs.append(torch.rand(5))\n",
    "\n",
    "feat_vecs = torch.stack(feat_vecs)"
   ]
  },
  {
   "cell_type": "code",
   "execution_count": 6,
   "metadata": {},
   "outputs": [],
   "source": [
    "dataset = Data(x=feat_vecs, edge_index=edge_index)"
   ]
  },
  {
   "cell_type": "code",
   "execution_count": 8,
   "metadata": {},
   "outputs": [
    {
     "data": {
      "text/plain": [
       "5"
      ]
     },
     "execution_count": 8,
     "metadata": {},
     "output_type": "execute_result"
    }
   ],
   "source": [
    "dataset.x.shape[1]"
   ]
  },
  {
   "cell_type": "markdown",
   "metadata": {},
   "source": [
    "# Learning\n",
    "\n",
    "Playing with ways to incorporate methylation values into batch"
   ]
  },
  {
   "cell_type": "markdown",
   "metadata": {},
   "source": [
    "# Model"
   ]
  },
  {
   "cell_type": "code",
   "execution_count": 20,
   "metadata": {},
   "outputs": [],
   "source": [
    "import torch\n",
    "import torch.nn as nn\n",
    "import torch.nn.functional as F\n",
    "from torch_geometric.data import DataLoader\n",
    "import torch_geometric.nn as tgnn\n",
    "import pytorch_lightning as pl\n",
    "\n",
    "class PSPred(pl.LightningModule):\n",
    "    def __init__(self, num_classes, num_nodes, graph):\n",
    "        super().__init__(self)\n",
    "        self.save_hyperparameters()\n",
    "\n",
    "        self.mlp = nn.Sequential(\n",
    "            tgnn.CGConv(self.hparams.num_nodes + graph.x.shape[1], 128),\n",
    "            nn.ReLU(inplace=True),\n",
    "            tgnn.CGConv(128, self.hparams.num_classes),\n",
    "        )\n",
    "    \n",
    "    def forward(self, methyl, idx):\n",
    "        gnn = torch.cat([self.graph.x, methyl])\n",
    "        gnn = self.mlp(gnn)\n",
    "        return gnn\n",
    "\n",
    "    def training_step(self, batch, idx):\n",
    "        methyl, labels = batch\n",
    "        preds = self.forward(methyl, idx)\n",
    "        loss_fn = nn.CrossEntropyLoss()\n",
    "        loss = loss_fn(preds, labels)\n",
    "\n",
    "        self.log(\"train_loss\": loss)\n",
    "        return {\"loss\": loss}\n",
    "\n",
    "    def validation_step(self, batch, idx):\n",
    "        methyl, labels = batch\n",
    "        preds = self.forward(methyl, idx)\n",
    "        loss_fn = nn.CrossEntropyLoss()\n",
    "        loss = loss_fn(preds, labels)\n",
    "\n",
    "        self.log(\"val_loss\", loss)\n",
    "    \n",
    "    def train_dataloader(self):\n",
    "        return DataLoader(self.train_dataset, batch_size=1, shuffle=True)\n",
    "    \n",
    "    def val_dataloader(self):\n",
    "        return DataLoader(self.val_dataset, batch_size=1)\n"
   ]
  },
  {
   "cell_type": "markdown",
   "metadata": {},
   "source": [
    "# Dataset"
   ]
  },
  {
   "cell_type": "code",
   "execution_count": null,
   "metadata": {},
   "outputs": [],
   "source": [
    "import torch\n",
    "from torch.utils.data import Dataset\n",
    "\n",
    "class MethylationDataset(Dataset):\n",
    "    def __init__(self, data):\n",
    "        self.data = data\n",
    "    \n",
    "    def __len__(self):\n",
    "        return len(self.data)\n",
    "\n",
    "    def __getitem__(self, idx):\n",
    "        cur = self.data[idx]\n",
    "        return {\"data\": cur[0], \"label\": cur[1]}\n"
   ]
  },
  {
   "cell_type": "markdown",
   "metadata": {},
   "source": [
    "# DataModule"
   ]
  },
  {
   "cell_type": "code",
   "execution_count": null,
   "metadata": {},
   "outputs": [],
   "source": [
    "import torch\n",
    "import random\n",
    "import numpy as np\n",
    "import torch.nn as nn\n",
    "import torch.nn.functional as F\n",
    "from torch.utils.data import DataLoader\n",
    "import torch_geometric.nn as tgnn\n",
    "import pytorch_lightning as pl\n",
    "\n",
    "class PSDataModule(pl.LightningDataModule):\n",
    "    \"\"\"Handling the methylation data in batches\"\"\"\n",
    "    def __init__(self, data_dir, feat_dim):\n",
    "        super().__init__()\n",
    "        self.data_dir = data_dir\n",
    "        self.feat_dim = feat_dim\n",
    "\n",
    "    def setup(self, data=None):\n",
    "        # Load in the data\n",
    "        # Methylation data structured as feature vectors padded to size N\n",
    "\n",
    "        # Generate random training data\n",
    "        if not data:\n",
    "            data = []\n",
    "\n",
    "            for i in range(100):\n",
    "                cur = []\n",
    "                for j in range(len(vocab.keys())):\n",
    "                    cur.append((random.random(), random.randint(0,1))) # random label \n",
    "                data.append(cur)\n",
    "        \n",
    "\n",
    "        train, validate, test = np.split(data, [int(len(data)*0.8), int(len(data)*0.9)])\n",
    "\n",
    "        self.train_dataset = MethylationDataset(train)\n",
    "        self.test_dataset = MethylationDataset(test)\n",
    "        self.val_dataset = MethylationDataset(val)\n",
    "\n",
    "    \n",
    "    def train_dataloader(self):\n",
    "        return DataLoader(self.train_dataset, shuffle=True)\n",
    "\n",
    "    def test_dataloader(self):\n",
    "        return DataLoader(self.test_dataset)\n",
    "\n",
    "    def val_dataloader(self):\n",
    "        return DataLoader(self.val_dataset)\n",
    "    \n",
    "    \n",
    "\n",
    "    \n"
   ]
  }
 ],
 "metadata": {
  "interpreter": {
   "hash": "1089fe65113b67ddef2f36d85cc3225dfd44ba404736c8c3d773195572854cbb"
  },
  "kernelspec": {
   "display_name": "Python 3.9.7 64-bit ('gnn': conda)",
   "language": "python",
   "name": "python3"
  },
  "language_info": {
   "codemirror_mode": {
    "name": "ipython",
    "version": 3
   },
   "file_extension": ".py",
   "mimetype": "text/x-python",
   "name": "python",
   "nbconvert_exporter": "python",
   "pygments_lexer": "ipython3",
   "version": "3.9.7"
  },
  "orig_nbformat": 4
 },
 "nbformat": 4,
 "nbformat_minor": 2
}
