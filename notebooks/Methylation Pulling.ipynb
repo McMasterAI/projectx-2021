{
 "cells": [
  {
   "cell_type": "code",
   "execution_count": 110,
   "metadata": {},
   "outputs": [],
   "source": [
    "#Imports\n",
    "import requests\n",
    "import json\n",
    "import re\n",
    "import pandas as pd\n",
    "import tqdm"
   ]
  },
  {
   "cell_type": "code",
   "execution_count": 134,
   "metadata": {},
   "outputs": [],
   "source": [
    "#Grabbing the list of CPG sites found in the Illumina human methylation 27 assay, so we can use both 27 and 450 assays\n",
    "files_endpt = \"https://api.gdc.cancer.gov/files\"\n",
    "filters = {\n",
    "    \"op\": \"and\",\n",
    "    \"content\":[\n",
    "        {\n",
    "            \"op\":\"in\",\n",
    "            \"content\":{\n",
    "                \"field\":\"files.data_category\",\n",
    "                \"value\":\"DNA Methylation\"\n",
    "            }\n",
    "        },\n",
    "        {\n",
    "            \"op\": \"in\",\n",
    "            \"content\":{\n",
    "                \"field\": \"cases.project.project_id\",\n",
    "                \"value\": \"TCGA-BRCA\"\n",
    "                }\n",
    "        },\n",
    "                {\n",
    "            \"op\": \"in\",\n",
    "            \"content\":{\n",
    "                \"field\": \"files.platform\",\n",
    "                \"value\": \"illumina human methylation 27\"\n",
    "                }\n",
    "        }\n",
    "    ]\n",
    "}\n",
    "params = {\n",
    "    \"filters\": json.dumps(filters),\n",
    "    \"fields\": \"file_id\",\n",
    "    \"format\": \"JSON\",\n",
    "    \"size\": \"1\"\n",
    "    }\n",
    "#Running request for file ids\n",
    "response = requests.get(files_endpt, params = params)\n",
    "#Parsing out file ids\n",
    "file_uuid_list = []\n",
    "for file_entry in json.loads(response.content.decode(\"utf-8\"))[\"data\"][\"hits\"]:\n",
    "    file_uuid_list.append(file_entry[\"file_id\"])\n",
    "#Retrieving data using file ids\n",
    "data_endpt = \"https://api.gdc.cancer.gov/data\"\n",
    "params = {\"ids\": file_uuid_list}\n",
    "#for file_id in file_uuid_list:\n",
    "response = requests.post(data_endpt, data = json.dumps(params), headers = {\"Content-Type\": \"application/json\"})\n",
    "response_head_cd = response.headers[\"Content-Disposition\"]\n",
    "file_name = './temp/temp_methyl.txt'\n",
    "with open(file_name, \"wb\") as output_file:\n",
    "    output_file.write(response.content)\n",
    "    f = open('./temp/temp_methyl.txt','r')\n",
    "    df = pd.read_csv('./temp/temp_methyl.txt', sep='\\t')\n",
    "    assay_27= df['Composite Element REF'].to_list()"
   ]
  },
  {
   "cell_type": "code",
   "execution_count": 214,
   "metadata": {},
   "outputs": [],
   "source": [
    "#Request Body\n",
    "#Only pulling methylation 450 files\n",
    "\n",
    "files_endpt = \"https://api.gdc.cancer.gov/files\"\n",
    "filters = {\n",
    "    \"op\": \"and\",\n",
    "    \"content\":[\n",
    "        {\n",
    "            \"op\":\"in\",\n",
    "            \"content\":{\n",
    "                \"field\":\"files.data_category\",\n",
    "                \"value\":\"DNA Methylation\"\n",
    "            }\n",
    "        },\n",
    "        {\n",
    "            \"op\": \"in\",\n",
    "            \"content\":{\n",
    "                \"field\": \"cases.project.project_id\",\n",
    "                \"value\": [\"TCGA-BRCA\",\"TCGA-GBM\",\"TCGA-OV\",\"TCGA-LUAD\",\"TCGA-UCEC\",\"TCGA-KIRC\",\"TCGA-HNSC\",\"TCGA-LGG\"\n",
    "                          ,\"TCGA-THCA\"\n",
    "                          ,\"TCGA-LUSC\"\n",
    "                          ,\"TCGA-PRAD\"\n",
    "                          ,\"TCGA-SKCM\"\n",
    "                          ,\"TCGA-COAD\"\n",
    "                          ,\"TCGA-STAD\"\n",
    "                          ,\"TCGA-BLCA\"\n",
    "                          ,\"TCGA-LIHC\"\n",
    "                          ,\"TCGA-CESC\"\n",
    "                          ,\"TCGA-KIRP\"\n",
    "                          ,\"TCGA-SARC\"\n",
    "                          ,\"TCGA-LAML\"\n",
    "                          ,\"TCGA-ESCA\"\n",
    "                          ,\"TCGA-PAAD\"\n",
    "                          ,\"TCGA-PCPG\"\n",
    "                          ,\"TCGA-READ\"                          \n",
    "                          ,\"TCGA-TGCT\"\n",
    "                          ,\"TCGA-THYM\"\n",
    "                          ,\"TCGA-KICH\"\n",
    "                          ,\"TCGA-ACC\"\n",
    "                          ,\"TCGA-MESO\"\n",
    "                          ,\"TCGA-UVM\"\n",
    "                          ,\"TCGA-DLBC\"\n",
    "                          ,\"TCGA-UCS\"\n",
    "                          ,\"TCGA-CHOL\"                          \n",
    "                         ]\n",
    "                }\n",
    "        },\n",
    "                {\n",
    "            \"op\": \"in\",\n",
    "            \"content\":{\n",
    "                \"field\": \"files.platform\",\n",
    "                \"value\": [\"illumina human methylation 27\"]\n",
    "                }\n",
    "        }\n",
    "    ]\n",
    "}\n",
    "params = {\n",
    "    \"filters\": json.dumps(filters),\n",
    "    \"fields\": \"file_id\",\n",
    "    \"format\": \"JSON\",\n",
    "    \"size\": \"20000\"\n",
    "    }"
   ]
  },
  {
   "cell_type": "code",
   "execution_count": 215,
   "metadata": {},
   "outputs": [],
   "source": [
    "#Running request for file ids\n",
    "response = requests.get(files_endpt, params = params)"
   ]
  },
  {
   "cell_type": "code",
   "execution_count": 216,
   "metadata": {},
   "outputs": [],
   "source": [
    "#Parsing out file ids\n",
    "file_uuid_list = []\n",
    "for file_entry in json.loads(response.content.decode(\"utf-8\"))[\"data\"][\"hits\"]:\n",
    "    file_uuid_list.append(file_entry[\"file_id\"])"
   ]
  },
  {
   "cell_type": "code",
   "execution_count": null,
   "metadata": {},
   "outputs": [
    {
     "name": "stderr",
     "output_type": "stream",
     "text": [
      "  0%|          | 1/2603 [00:18<13:10:28, 18.23s/it]"
     ]
    },
    {
     "name": "stdout",
     "output_type": "stream",
     "text": [
      "jhu-usc.edu_KIRP.HumanMethylation27.1.lvl-3.TCGA-B9-4113-11A-01D-1191-05.gdc_hg38.txt\n"
     ]
    },
    {
     "name": "stderr",
     "output_type": "stream",
     "text": [
      "  0%|          | 2/2603 [00:35<12:51:30, 17.80s/it]"
     ]
    },
    {
     "name": "stdout",
     "output_type": "stream",
     "text": [
      "jhu-usc.edu_KIRP.HumanMethylation27.1.lvl-3.TCGA-B3-4104-11A-01D-1191-05.gdc_hg38.txt\n"
     ]
    },
    {
     "name": "stderr",
     "output_type": "stream",
     "text": [
      "  0%|          | 3/2603 [00:52<12:42:33, 17.60s/it]"
     ]
    },
    {
     "name": "stdout",
     "output_type": "stream",
     "text": [
      "jhu-usc.edu_KIRP.HumanMethylation27.1.lvl-3.TCGA-B3-3926-11A-01D-1191-05.gdc_hg38.txt\n"
     ]
    },
    {
     "name": "stderr",
     "output_type": "stream",
     "text": [
      "  0%|          | 4/2603 [01:08<12:28:02, 17.27s/it]"
     ]
    },
    {
     "name": "stdout",
     "output_type": "stream",
     "text": [
      "jhu-usc.edu_COAD.HumanMethylation27.1.lvl-3.TCGA-AA-3527-11A-01D-1552-05.gdc_hg38.txt\n"
     ]
    },
    {
     "name": "stderr",
     "output_type": "stream",
     "text": [
      "  0%|          | 5/2603 [01:25<12:27:29, 17.26s/it]"
     ]
    },
    {
     "name": "stdout",
     "output_type": "stream",
     "text": [
      "jhu-usc.edu_COAD.HumanMethylation27.5.lvl-3.TCGA-AA-3673-01A-01D-0904-05.gdc_hg38.txt\n"
     ]
    },
    {
     "name": "stderr",
     "output_type": "stream",
     "text": [
      "  0%|          | 6/2603 [01:44<12:41:20, 17.59s/it]"
     ]
    },
    {
     "name": "stdout",
     "output_type": "stream",
     "text": [
      "jhu-usc.edu_COAD.HumanMethylation27.8.lvl-3.TCGA-AA-A022-11A-11D-A081-05.gdc_hg38.txt\n"
     ]
    },
    {
     "name": "stderr",
     "output_type": "stream",
     "text": [
      "  0%|          | 7/2603 [02:01<12:41:28, 17.60s/it]"
     ]
    },
    {
     "name": "stdout",
     "output_type": "stream",
     "text": [
      "jhu-usc.edu_COAD.HumanMethylation27.1.lvl-3.TCGA-A6-2677-01A-01D-0820-05.gdc_hg38.txt\n"
     ]
    },
    {
     "name": "stderr",
     "output_type": "stream",
     "text": [
      "  0%|          | 8/2603 [02:18<12:31:55, 17.39s/it]"
     ]
    },
    {
     "name": "stdout",
     "output_type": "stream",
     "text": [
      "jhu-usc.edu_COAD.HumanMethylation27.1.lvl-3.TCGA-AA-3538-01A-01D-0820-05.gdc_hg38.txt\n"
     ]
    },
    {
     "name": "stderr",
     "output_type": "stream",
     "text": [
      "  0%|          | 9/2603 [02:35<12:28:36, 17.32s/it]"
     ]
    },
    {
     "name": "stdout",
     "output_type": "stream",
     "text": [
      "jhu-usc.edu_COAD.HumanMethylation27.8.lvl-3.TCGA-AA-A01S-11A-21D-A081-05.gdc_hg38.txt\n"
     ]
    },
    {
     "name": "stderr",
     "output_type": "stream",
     "text": [
      "  0%|          | 10/2603 [02:55<12:56:48, 17.97s/it]"
     ]
    },
    {
     "name": "stdout",
     "output_type": "stream",
     "text": [
      "jhu-usc.edu_COAD.HumanMethylation27.5.lvl-3.TCGA-AA-3667-01A-01D-0904-05.gdc_hg38.txt\n"
     ]
    },
    {
     "name": "stderr",
     "output_type": "stream",
     "text": [
      "  0%|          | 11/2603 [03:15<13:19:34, 18.51s/it]"
     ]
    },
    {
     "name": "stdout",
     "output_type": "stream",
     "text": [
      "jhu-usc.edu_COAD.HumanMethylation27.6.lvl-3.TCGA-AA-3842-01A-01D-1020-05.gdc_hg38.txt\n"
     ]
    },
    {
     "name": "stderr",
     "output_type": "stream",
     "text": [
      "  0%|          | 12/2603 [03:36<13:55:22, 19.34s/it]"
     ]
    },
    {
     "name": "stdout",
     "output_type": "stream",
     "text": [
      "jhu-usc.edu_COAD.HumanMethylation27.1.lvl-3.TCGA-AA-3526-01A-02D-0820-05.gdc_hg38.txt\n"
     ]
    },
    {
     "name": "stderr",
     "output_type": "stream",
     "text": [
      "  0%|          | 13/2603 [04:04<15:46:15, 21.92s/it]"
     ]
    },
    {
     "name": "stdout",
     "output_type": "stream",
     "text": [
      "jhu-usc.edu_COAD.HumanMethylation27.6.lvl-3.TCGA-AA-3941-01A-01D-1020-05.gdc_hg38.txt\n"
     ]
    },
    {
     "name": "stderr",
     "output_type": "stream",
     "text": [
      "  1%|          | 14/2603 [04:24<15:20:25, 21.33s/it]"
     ]
    },
    {
     "name": "stdout",
     "output_type": "stream",
     "text": [
      "jhu-usc.edu_COAD.HumanMethylation27.5.lvl-3.TCGA-AA-3696-01A-01D-0904-05.gdc_hg38.txt\n"
     ]
    },
    {
     "name": "stderr",
     "output_type": "stream",
     "text": [
      "  1%|          | 15/2603 [04:43<14:51:30, 20.67s/it]"
     ]
    },
    {
     "name": "stdout",
     "output_type": "stream",
     "text": [
      "jhu-usc.edu_COAD.HumanMethylation27.6.lvl-3.TCGA-AA-3855-01A-01D-1020-05.gdc_hg38.txt\n"
     ]
    },
    {
     "name": "stderr",
     "output_type": "stream",
     "text": [
      "  1%|          | 16/2603 [05:03<14:39:34, 20.40s/it]"
     ]
    },
    {
     "name": "stdout",
     "output_type": "stream",
     "text": [
      "jhu-usc.edu_COAD.HumanMethylation27.6.lvl-3.TCGA-AA-3811-01A-01D-1020-05.gdc_hg38.txt\n"
     ]
    },
    {
     "name": "stderr",
     "output_type": "stream",
     "text": [
      "  1%|          | 17/2603 [05:21<14:15:59, 19.86s/it]"
     ]
    },
    {
     "name": "stdout",
     "output_type": "stream",
     "text": [
      "jhu-usc.edu_COAD.HumanMethylation27.6.lvl-3.TCGA-A6-3808-11A-01D-1020-05.gdc_hg38.txt\n"
     ]
    },
    {
     "name": "stderr",
     "output_type": "stream",
     "text": [
      "  1%|          | 18/2603 [05:39<13:51:55, 19.31s/it]"
     ]
    },
    {
     "name": "stdout",
     "output_type": "stream",
     "text": [
      "jhu-usc.edu_COAD.HumanMethylation27.1.lvl-3.TCGA-A6-2674-01A-02D-0820-05.gdc_hg38.txt\n"
     ]
    },
    {
     "name": "stderr",
     "output_type": "stream",
     "text": [
      "  1%|          | 19/2603 [05:57<13:30:16, 18.81s/it]"
     ]
    },
    {
     "name": "stdout",
     "output_type": "stream",
     "text": [
      "jhu-usc.edu_COAD.HumanMethylation27.1.lvl-3.TCGA-AA-3522-11A-01D-1551-05.gdc_hg38.txt\n"
     ]
    },
    {
     "name": "stderr",
     "output_type": "stream",
     "text": [
      "  1%|          | 20/2603 [06:15<13:24:55, 18.70s/it]"
     ]
    },
    {
     "name": "stdout",
     "output_type": "stream",
     "text": [
      "jhu-usc.edu_COAD.HumanMethylation27.6.lvl-3.TCGA-AA-3870-01A-01D-1020-05.gdc_hg38.txt\n"
     ]
    },
    {
     "name": "stderr",
     "output_type": "stream",
     "text": [
      "  1%|          | 21/2603 [06:33<13:07:20, 18.30s/it]"
     ]
    },
    {
     "name": "stdout",
     "output_type": "stream",
     "text": [
      "jhu-usc.edu_COAD.HumanMethylation27.1.lvl-3.TCGA-AA-3521-01A-01D-0820-05.gdc_hg38.txt\n"
     ]
    },
    {
     "name": "stderr",
     "output_type": "stream",
     "text": [
      "  1%|          | 22/2603 [06:50<12:50:46, 17.92s/it]"
     ]
    },
    {
     "name": "stdout",
     "output_type": "stream",
     "text": [
      "jhu-usc.edu_COAD.HumanMethylation27.2.lvl-3.TCGA-A6-2676-01A-01D-0825-05.gdc_hg38.txt\n"
     ]
    },
    {
     "name": "stderr",
     "output_type": "stream",
     "text": [
      "  1%|          | 23/2603 [07:10<13:19:07, 18.58s/it]"
     ]
    },
    {
     "name": "stdout",
     "output_type": "stream",
     "text": [
      "jhu-usc.edu_COAD.HumanMethylation27.6.lvl-3.TCGA-AA-3845-01A-01D-1020-05.gdc_hg38.txt\n"
     ]
    },
    {
     "name": "stderr",
     "output_type": "stream",
     "text": [
      "  1%|          | 24/2603 [07:28<13:06:42, 18.30s/it]"
     ]
    },
    {
     "name": "stdout",
     "output_type": "stream",
     "text": [
      "jhu-usc.edu_COAD.HumanMethylation27.5.lvl-3.TCGA-AA-3856-01A-01D-0904-05.gdc_hg38.txt\n"
     ]
    },
    {
     "name": "stderr",
     "output_type": "stream",
     "text": [
      "  1%|          | 25/2603 [07:52<14:22:40, 20.08s/it]"
     ]
    },
    {
     "name": "stdout",
     "output_type": "stream",
     "text": [
      "jhu-usc.edu_COAD.HumanMethylation27.5.lvl-3.TCGA-AA-3681-01A-01D-0904-05.gdc_hg38.txt\n"
     ]
    },
    {
     "name": "stderr",
     "output_type": "stream",
     "text": [
      "  1%|          | 26/2603 [08:16<15:19:35, 21.41s/it]"
     ]
    },
    {
     "name": "stdout",
     "output_type": "stream",
     "text": [
      "jhu-usc.edu_COAD.HumanMethylation27.3.lvl-3.TCGA-AA-A00E-01A-01D-A004-05.gdc_hg38.txt\n"
     ]
    },
    {
     "name": "stderr",
     "output_type": "stream",
     "text": [
      "  1%|          | 27/2603 [08:37<15:12:18, 21.25s/it]"
     ]
    },
    {
     "name": "stdout",
     "output_type": "stream",
     "text": [
      "jhu-usc.edu_COAD.HumanMethylation27.1.lvl-3.TCGA-AA-3519-01A-02D-0820-05.gdc_hg38.txt\n"
     ]
    },
    {
     "name": "stderr",
     "output_type": "stream",
     "text": [
      "  1%|          | 28/2603 [08:57<14:46:16, 20.65s/it]"
     ]
    },
    {
     "name": "stdout",
     "output_type": "stream",
     "text": [
      "jhu-usc.edu_COAD.HumanMethylation27.6.lvl-3.TCGA-AA-3952-01A-01D-1020-05.gdc_hg38.txt\n"
     ]
    },
    {
     "name": "stderr",
     "output_type": "stream",
     "text": [
      "  1%|          | 29/2603 [09:15<14:21:55, 20.09s/it]"
     ]
    },
    {
     "name": "stdout",
     "output_type": "stream",
     "text": [
      "jhu-usc.edu_COAD.HumanMethylation27.8.lvl-3.TCGA-AA-A01T-11A-11D-A081-05.gdc_hg38.txt\n"
     ]
    },
    {
     "name": "stderr",
     "output_type": "stream",
     "text": [
      "  1%|          | 30/2603 [09:34<14:02:29, 19.65s/it]"
     ]
    },
    {
     "name": "stdout",
     "output_type": "stream",
     "text": [
      "jhu-usc.edu_COAD.HumanMethylation27.1.lvl-3.TCGA-AA-3532-01A-01D-0820-05.gdc_hg38.txt\n"
     ]
    },
    {
     "name": "stderr",
     "output_type": "stream",
     "text": [
      "  1%|          | 31/2603 [09:53<14:00:54, 19.62s/it]"
     ]
    },
    {
     "name": "stdout",
     "output_type": "stream",
     "text": [
      "jhu-usc.edu_COAD.HumanMethylation27.5.lvl-3.TCGA-AA-3858-01A-01D-0904-05.gdc_hg38.txt\n"
     ]
    },
    {
     "name": "stderr",
     "output_type": "stream",
     "text": [
      "  1%|          | 32/2603 [10:12<13:48:24, 19.33s/it]"
     ]
    },
    {
     "name": "stdout",
     "output_type": "stream",
     "text": [
      "jhu-usc.edu_COAD.HumanMethylation27.2.lvl-3.TCGA-AA-3516-01A-02D-0825-05.gdc_hg38.txt\n"
     ]
    },
    {
     "name": "stderr",
     "output_type": "stream",
     "text": [
      "  1%|▏         | 33/2603 [10:32<13:53:14, 19.45s/it]"
     ]
    },
    {
     "name": "stdout",
     "output_type": "stream",
     "text": [
      "jhu-usc.edu_COAD.HumanMethylation27.1.lvl-3.TCGA-A6-2678-01A-01D-0820-05.gdc_hg38.txt\n"
     ]
    },
    {
     "name": "stderr",
     "output_type": "stream",
     "text": [
      "  1%|▏         | 34/2603 [10:51<13:45:22, 19.28s/it]"
     ]
    },
    {
     "name": "stdout",
     "output_type": "stream",
     "text": [
      "jhu-usc.edu_COAD.HumanMethylation27.6.lvl-3.TCGA-AA-3989-01A-01D-1020-05.gdc_hg38.txt\n"
     ]
    },
    {
     "name": "stderr",
     "output_type": "stream",
     "text": [
      "  1%|▏         | 35/2603 [11:09<13:38:28, 19.12s/it]"
     ]
    },
    {
     "name": "stdout",
     "output_type": "stream",
     "text": [
      "jhu-usc.edu_COAD.HumanMethylation27.1.lvl-3.TCGA-A6-2674-11A-01D-1551-05.gdc_hg38.txt\n"
     ]
    },
    {
     "name": "stderr",
     "output_type": "stream",
     "text": [
      "  1%|▏         | 36/2603 [11:28<13:35:21, 19.06s/it]"
     ]
    },
    {
     "name": "stdout",
     "output_type": "stream",
     "text": [
      "jhu-usc.edu_COAD.HumanMethylation27.8.lvl-3.TCGA-AA-A01Z-01A-11D-A081-05.gdc_hg38.txt\n"
     ]
    },
    {
     "name": "stderr",
     "output_type": "stream",
     "text": [
      "  1%|▏         | 37/2603 [11:46<13:20:22, 18.71s/it]"
     ]
    },
    {
     "name": "stdout",
     "output_type": "stream",
     "text": [
      "jhu-usc.edu_COAD.HumanMethylation27.1.lvl-3.TCGA-AA-3529-11A-01D-1552-05.gdc_hg38.txt\n"
     ]
    },
    {
     "name": "stderr",
     "output_type": "stream",
     "text": [
      "  1%|▏         | 38/2603 [12:05<13:22:59, 18.78s/it]"
     ]
    },
    {
     "name": "stdout",
     "output_type": "stream",
     "text": [
      "jhu-usc.edu_COAD.HumanMethylation27.3.lvl-3.TCGA-AA-A00R-01A-01D-A004-05.gdc_hg38.txt\n"
     ]
    },
    {
     "name": "stderr",
     "output_type": "stream",
     "text": [
      "  1%|▏         | 39/2603 [12:26<13:48:22, 19.38s/it]"
     ]
    },
    {
     "name": "stdout",
     "output_type": "stream",
     "text": [
      "jhu-usc.edu_COAD.HumanMethylation27.5.lvl-3.TCGA-AA-3848-01A-01D-0904-05.gdc_hg38.txt\n"
     ]
    },
    {
     "name": "stderr",
     "output_type": "stream",
     "text": [
      "  2%|▏         | 40/2603 [12:49<14:28:52, 20.34s/it]"
     ]
    },
    {
     "name": "stdout",
     "output_type": "stream",
     "text": [
      "jhu-usc.edu_COAD.HumanMethylation27.1.lvl-3.TCGA-AA-3531-01A-01D-0820-05.gdc_hg38.txt\n"
     ]
    },
    {
     "name": "stderr",
     "output_type": "stream",
     "text": [
      "  2%|▏         | 41/2603 [13:15<15:40:20, 22.02s/it]"
     ]
    },
    {
     "name": "stdout",
     "output_type": "stream",
     "text": [
      "jhu-usc.edu_COAD.HumanMethylation27.3.lvl-3.TCGA-AA-A00F-01A-01D-A004-05.gdc_hg38.txt\n"
     ]
    },
    {
     "name": "stderr",
     "output_type": "stream",
     "text": [
      "  2%|▏         | 42/2603 [13:35<15:24:51, 21.67s/it]"
     ]
    },
    {
     "name": "stdout",
     "output_type": "stream",
     "text": [
      "jhu-usc.edu_COAD.HumanMethylation27.2.lvl-3.TCGA-AA-3516-11A-01D-1551-05.gdc_hg38.txt\n"
     ]
    },
    {
     "name": "stderr",
     "output_type": "stream",
     "text": [
      "  2%|▏         | 43/2603 [13:55<14:52:10, 20.91s/it]"
     ]
    },
    {
     "name": "stdout",
     "output_type": "stream",
     "text": [
      "jhu-usc.edu_COAD.HumanMethylation27.1.lvl-3.TCGA-AA-3534-01A-01D-0820-05.gdc_hg38.txt\n"
     ]
    },
    {
     "name": "stderr",
     "output_type": "stream",
     "text": [
      "  2%|▏         | 44/2603 [14:13<14:24:39, 20.27s/it]"
     ]
    },
    {
     "name": "stdout",
     "output_type": "stream",
     "text": [
      "jhu-usc.edu_COAD.HumanMethylation27.1.lvl-3.TCGA-AA-3555-01A-01D-0820-05.gdc_hg38.txt\n"
     ]
    },
    {
     "name": "stderr",
     "output_type": "stream",
     "text": [
      "  2%|▏         | 45/2603 [14:32<14:01:50, 19.75s/it]"
     ]
    },
    {
     "name": "stdout",
     "output_type": "stream",
     "text": [
      "jhu-usc.edu_COAD.HumanMethylation27.5.lvl-3.TCGA-AA-3693-01A-01D-0904-05.gdc_hg38.txt\n"
     ]
    },
    {
     "name": "stderr",
     "output_type": "stream",
     "text": [
      "  2%|▏         | 46/2603 [14:51<13:47:45, 19.42s/it]"
     ]
    },
    {
     "name": "stdout",
     "output_type": "stream",
     "text": [
      "jhu-usc.edu_COAD.HumanMethylation27.6.lvl-3.TCGA-AA-3939-01A-01D-1020-05.gdc_hg38.txt\n"
     ]
    },
    {
     "name": "stderr",
     "output_type": "stream",
     "text": [
      "  2%|▏         | 47/2603 [15:09<13:32:28, 19.07s/it]"
     ]
    },
    {
     "name": "stdout",
     "output_type": "stream",
     "text": [
      "jhu-usc.edu_COAD.HumanMethylation27.6.lvl-3.TCGA-AA-3844-01A-01D-1020-05.gdc_hg38.txt\n"
     ]
    },
    {
     "name": "stderr",
     "output_type": "stream",
     "text": [
      "  2%|▏         | 48/2603 [15:30<14:01:11, 19.75s/it]"
     ]
    },
    {
     "name": "stdout",
     "output_type": "stream",
     "text": [
      "jhu-usc.edu_COAD.HumanMethylation27.3.lvl-3.TCGA-AA-A00K-01A-02D-A004-05.gdc_hg38.txt\n"
     ]
    },
    {
     "name": "stderr",
     "output_type": "stream",
     "text": [
      "  2%|▏         | 49/2603 [15:50<14:07:49, 19.92s/it]"
     ]
    },
    {
     "name": "stdout",
     "output_type": "stream",
     "text": [
      "jhu-usc.edu_COAD.HumanMethylation27.6.lvl-3.TCGA-AA-3947-01A-01D-1020-05.gdc_hg38.txt\n"
     ]
    },
    {
     "name": "stderr",
     "output_type": "stream",
     "text": [
      "  2%|▏         | 50/2603 [16:09<13:44:27, 19.38s/it]"
     ]
    },
    {
     "name": "stdout",
     "output_type": "stream",
     "text": [
      "jhu-usc.edu_COAD.HumanMethylation27.3.lvl-3.TCGA-AA-A00D-01A-01D-A004-05.gdc_hg38.txt\n"
     ]
    },
    {
     "name": "stderr",
     "output_type": "stream",
     "text": [
      "  2%|▏         | 51/2603 [16:26<13:23:31, 18.89s/it]"
     ]
    },
    {
     "name": "stdout",
     "output_type": "stream",
     "text": [
      "jhu-usc.edu_COAD.HumanMethylation27.1.lvl-3.TCGA-AA-3560-01A-01D-0820-05.gdc_hg38.txt\n"
     ]
    },
    {
     "name": "stderr",
     "output_type": "stream",
     "text": [
      "  2%|▏         | 52/2603 [16:45<13:25:29, 18.95s/it]"
     ]
    },
    {
     "name": "stdout",
     "output_type": "stream",
     "text": [
      "jhu-usc.edu_COAD.HumanMethylation27.6.lvl-3.TCGA-AA-3971-01A-01D-1020-05.gdc_hg38.txt\n"
     ]
    },
    {
     "name": "stderr",
     "output_type": "stream",
     "text": [
      "  2%|▏         | 53/2603 [17:04<13:16:52, 18.75s/it]"
     ]
    },
    {
     "name": "stdout",
     "output_type": "stream",
     "text": [
      "jhu-usc.edu_KIRP.HumanMethylation27.1.lvl-3.TCGA-B9-4116-01A-01D-1191-05.gdc_hg38.txt\n"
     ]
    },
    {
     "name": "stderr",
     "output_type": "stream",
     "text": [
      "  2%|▏         | 54/2603 [17:21<13:01:34, 18.40s/it]"
     ]
    },
    {
     "name": "stdout",
     "output_type": "stream",
     "text": [
      "jhu-usc.edu_KIRP.HumanMethylation27.1.lvl-3.TCGA-B3-3926-01A-01D-1191-05.gdc_hg38.txt\n"
     ]
    },
    {
     "name": "stderr",
     "output_type": "stream",
     "text": [
      "  2%|▏         | 55/2603 [17:40<13:04:24, 18.47s/it]"
     ]
    },
    {
     "name": "stdout",
     "output_type": "stream",
     "text": [
      "jhu-usc.edu_KIRP.HumanMethylation27.1.lvl-3.TCGA-B3-3925-11A-01D-1191-05.gdc_hg38.txt\n"
     ]
    },
    {
     "name": "stderr",
     "output_type": "stream",
     "text": [
      "  2%|▏         | 56/2603 [17:59<13:14:16, 18.71s/it]"
     ]
    },
    {
     "name": "stdout",
     "output_type": "stream",
     "text": [
      "jhu-usc.edu_KIRP.HumanMethylation27.1.lvl-3.TCGA-B9-4117-01A-01D-1191-05.gdc_hg38.txt\n"
     ]
    },
    {
     "name": "stderr",
     "output_type": "stream",
     "text": [
      "  2%|▏         | 57/2603 [18:18<13:13:19, 18.70s/it]"
     ]
    },
    {
     "name": "stdout",
     "output_type": "stream",
     "text": [
      "jhu-usc.edu_KIRP.HumanMethylation27.1.lvl-3.TCGA-B3-3925-01A-01D-1191-05.gdc_hg38.txt\n"
     ]
    },
    {
     "name": "stderr",
     "output_type": "stream",
     "text": [
      "  2%|▏         | 58/2603 [18:37<13:13:25, 18.71s/it]"
     ]
    },
    {
     "name": "stdout",
     "output_type": "stream",
     "text": [
      "jhu-usc.edu_READ.HumanMethylation27.2.lvl-3.TCGA-AG-3599-01A-02D-0825-05.gdc_hg38.txt\n"
     ]
    },
    {
     "name": "stderr",
     "output_type": "stream",
     "text": [
      "  2%|▏         | 59/2603 [18:55<13:09:11, 18.61s/it]"
     ]
    },
    {
     "name": "stdout",
     "output_type": "stream",
     "text": [
      "jhu-usc.edu_READ.HumanMethylation27.1.lvl-3.TCGA-AG-3574-01A-01D-0820-05.gdc_hg38.txt\n"
     ]
    },
    {
     "name": "stderr",
     "output_type": "stream",
     "text": [
      "  2%|▏         | 60/2603 [19:14<13:10:38, 18.65s/it]"
     ]
    },
    {
     "name": "stdout",
     "output_type": "stream",
     "text": [
      "jhu-usc.edu_READ.HumanMethylation27.5.lvl-3.TCGA-AG-3883-01A-02D-0904-05.gdc_hg38.txt\n"
     ]
    },
    {
     "name": "stderr",
     "output_type": "stream",
     "text": [
      "  2%|▏         | 61/2603 [19:33<13:23:43, 18.97s/it]"
     ]
    },
    {
     "name": "stdout",
     "output_type": "stream",
     "text": [
      "jhu-usc.edu_READ.HumanMethylation27.3.lvl-3.TCGA-AG-A015-01A-01D-A004-05.gdc_hg38.txt\n"
     ]
    },
    {
     "name": "stderr",
     "output_type": "stream",
     "text": [
      "  2%|▏         | 62/2603 [19:52<13:20:20, 18.90s/it]"
     ]
    },
    {
     "name": "stdout",
     "output_type": "stream",
     "text": [
      "jhu-usc.edu_READ.HumanMethylation27.5.lvl-3.TCGA-AG-3885-01A-01D-0904-05.gdc_hg38.txt\n"
     ]
    },
    {
     "name": "stderr",
     "output_type": "stream",
     "text": [
      "  2%|▏         | 63/2603 [20:10<13:12:09, 18.71s/it]"
     ]
    },
    {
     "name": "stdout",
     "output_type": "stream",
     "text": [
      "jhu-usc.edu_READ.HumanMethylation27.4.lvl-3.TCGA-AG-A02X-01A-01D-A00B-05.gdc_hg38.txt\n"
     ]
    },
    {
     "name": "stderr",
     "output_type": "stream",
     "text": [
      "  2%|▏         | 64/2603 [20:30<13:17:59, 18.86s/it]"
     ]
    },
    {
     "name": "stdout",
     "output_type": "stream",
     "text": [
      "jhu-usc.edu_KIRP.HumanMethylation27.1.lvl-3.TCGA-B3-4103-01A-01D-1191-05.gdc_hg38.txt\n"
     ]
    },
    {
     "name": "stderr",
     "output_type": "stream",
     "text": [
      "  2%|▏         | 65/2603 [20:48<13:14:37, 18.79s/it]"
     ]
    },
    {
     "name": "stdout",
     "output_type": "stream",
     "text": [
      "jhu-usc.edu_READ.HumanMethylation27.2.lvl-3.TCGA-AG-3611-01A-01D-0825-05.gdc_hg38.txt\n"
     ]
    },
    {
     "name": "stderr",
     "output_type": "stream",
     "text": [
      "  3%|▎         | 66/2603 [21:07<13:09:50, 18.68s/it]"
     ]
    },
    {
     "name": "stdout",
     "output_type": "stream",
     "text": [
      "jhu-usc.edu_READ.HumanMethylation27.2.lvl-3.TCGA-AG-3612-01A-01D-0825-05.gdc_hg38.txt\n"
     ]
    },
    {
     "name": "stderr",
     "output_type": "stream",
     "text": [
      "  3%|▎         | 67/2603 [21:24<12:58:21, 18.42s/it]"
     ]
    },
    {
     "name": "stdout",
     "output_type": "stream",
     "text": [
      "jhu-usc.edu_READ.HumanMethylation27.5.lvl-3.TCGA-AG-3882-01A-01D-0904-05.gdc_hg38.txt\n"
     ]
    },
    {
     "name": "stderr",
     "output_type": "stream",
     "text": [
      "  3%|▎         | 68/2603 [21:42<12:50:20, 18.23s/it]"
     ]
    },
    {
     "name": "stdout",
     "output_type": "stream",
     "text": [
      "jhu-usc.edu_READ.HumanMethylation27.7.lvl-3.TCGA-AG-3902-01A-01D-1116-05.gdc_hg38.txt\n"
     ]
    },
    {
     "name": "stderr",
     "output_type": "stream",
     "text": [
      "  3%|▎         | 69/2603 [21:59<12:34:36, 17.87s/it]"
     ]
    },
    {
     "name": "stdout",
     "output_type": "stream",
     "text": [
      "jhu-usc.edu_READ.HumanMethylation27.6.lvl-3.TCGA-AF-2692-11A-01D-1552-05.gdc_hg38.txt\n"
     ]
    },
    {
     "name": "stderr",
     "output_type": "stream",
     "text": [
      "  3%|▎         | 70/2603 [22:16<12:25:43, 17.66s/it]"
     ]
    },
    {
     "name": "stdout",
     "output_type": "stream",
     "text": [
      "jhu-usc.edu_READ.HumanMethylation27.7.lvl-3.TCGA-AG-3893-01A-01D-1116-05.gdc_hg38.txt\n"
     ]
    },
    {
     "name": "stderr",
     "output_type": "stream",
     "text": [
      "  3%|▎         | 71/2603 [22:34<12:19:59, 17.54s/it]"
     ]
    },
    {
     "name": "stdout",
     "output_type": "stream",
     "text": [
      "jhu-usc.edu_READ.HumanMethylation27.3.lvl-3.TCGA-AG-A016-01A-01D-A004-05.gdc_hg38.txt\n"
     ]
    },
    {
     "name": "stderr",
     "output_type": "stream",
     "text": [
      "  3%|▎         | 72/2603 [22:51<12:13:22, 17.39s/it]"
     ]
    },
    {
     "name": "stdout",
     "output_type": "stream",
     "text": [
      "jhu-usc.edu_KIRP.HumanMethylation27.1.lvl-3.TCGA-AL-3466-01A-01D-1191-05.gdc_hg38.txt\n"
     ]
    },
    {
     "name": "stderr",
     "output_type": "stream",
     "text": [
      "  3%|▎         | 73/2603 [23:08<12:13:20, 17.39s/it]"
     ]
    },
    {
     "name": "stdout",
     "output_type": "stream",
     "text": [
      "jhu-usc.edu_READ.HumanMethylation27.6.lvl-3.TCGA-AF-2691-11A-01D-1552-05.gdc_hg38.txt\n"
     ]
    },
    {
     "name": "stderr",
     "output_type": "stream",
     "text": [
      "  3%|▎         | 74/2603 [23:26<12:14:15, 17.42s/it]"
     ]
    },
    {
     "name": "stdout",
     "output_type": "stream",
     "text": [
      "jhu-usc.edu_READ.HumanMethylation27.4.lvl-3.TCGA-AG-A026-01A-01D-A00B-05.gdc_hg38.txt\n"
     ]
    },
    {
     "name": "stderr",
     "output_type": "stream",
     "text": [
      "  3%|▎         | 75/2603 [23:44<12:24:21, 17.67s/it]"
     ]
    },
    {
     "name": "stdout",
     "output_type": "stream",
     "text": [
      "jhu-usc.edu_READ.HumanMethylation27.6.lvl-3.TCGA-AF-3400-11A-01D-1552-05.gdc_hg38.txt\n"
     ]
    },
    {
     "name": "stderr",
     "output_type": "stream",
     "text": [
      "  3%|▎         | 76/2603 [24:03<12:47:30, 18.22s/it]"
     ]
    },
    {
     "name": "stdout",
     "output_type": "stream",
     "text": [
      "jhu-usc.edu_READ.HumanMethylation27.1.lvl-3.TCGA-AG-3582-01A-01D-0820-05.gdc_hg38.txt\n"
     ]
    },
    {
     "name": "stderr",
     "output_type": "stream",
     "text": [
      "  3%|▎         | 77/2603 [24:22<12:55:10, 18.41s/it]"
     ]
    },
    {
     "name": "stdout",
     "output_type": "stream",
     "text": [
      "jhu-usc.edu_COAD.HumanMethylation27.6.lvl-3.TCGA-AA-3986-01A-02D-1020-05.gdc_hg38.txt\n"
     ]
    },
    {
     "name": "stderr",
     "output_type": "stream",
     "text": [
      "  3%|▎         | 78/2603 [24:41<13:02:17, 18.59s/it]"
     ]
    },
    {
     "name": "stdout",
     "output_type": "stream",
     "text": [
      "jhu-usc.edu_COAD.HumanMethylation27.8.lvl-3.TCGA-AA-A01V-11A-11D-A081-05.gdc_hg38.txt\n"
     ]
    },
    {
     "name": "stderr",
     "output_type": "stream",
     "text": [
      "  3%|▎         | 79/2603 [25:01<13:17:58, 18.97s/it]"
     ]
    },
    {
     "name": "stdout",
     "output_type": "stream",
     "text": [
      "jhu-usc.edu_COAD.HumanMethylation27.5.lvl-3.TCGA-AA-3819-01A-01D-0904-05.gdc_hg38.txt\n"
     ]
    },
    {
     "name": "stderr",
     "output_type": "stream",
     "text": [
      "  3%|▎         | 80/2603 [25:21<13:30:53, 19.28s/it]"
     ]
    },
    {
     "name": "stdout",
     "output_type": "stream",
     "text": [
      "jhu-usc.edu_COAD.HumanMethylation27.3.lvl-3.TCGA-AA-A01G-01A-01D-A004-05.gdc_hg38.txt\n"
     ]
    },
    {
     "name": "stderr",
     "output_type": "stream",
     "text": [
      "  3%|▎         | 81/2603 [25:40<13:29:31, 19.26s/it]"
     ]
    },
    {
     "name": "stdout",
     "output_type": "stream",
     "text": [
      "jhu-usc.edu_COAD.HumanMethylation27.8.lvl-3.TCGA-AA-A01Z-11A-11D-A081-05.gdc_hg38.txt\n"
     ]
    },
    {
     "name": "stderr",
     "output_type": "stream",
     "text": [
      "  3%|▎         | 82/2603 [25:59<13:27:09, 19.21s/it]"
     ]
    },
    {
     "name": "stdout",
     "output_type": "stream",
     "text": [
      "jhu-usc.edu_COAD.HumanMethylation27.6.lvl-3.TCGA-AA-3980-01A-02D-1020-05.gdc_hg38.txt\n"
     ]
    },
    {
     "name": "stderr",
     "output_type": "stream",
     "text": [
      "  3%|▎         | 83/2603 [26:19<13:27:26, 19.22s/it]"
     ]
    },
    {
     "name": "stdout",
     "output_type": "stream",
     "text": [
      "jhu-usc.edu_COAD.HumanMethylation27.4.lvl-3.TCGA-AA-A029-01A-01D-A00B-05.gdc_hg38.txt\n"
     ]
    },
    {
     "name": "stderr",
     "output_type": "stream",
     "text": [
      "  3%|▎         | 84/2603 [26:36<13:05:50, 18.72s/it]"
     ]
    },
    {
     "name": "stdout",
     "output_type": "stream",
     "text": [
      "jhu-usc.edu_COAD.HumanMethylation27.2.lvl-3.TCGA-AA-3525-11A-01D-1551-05.gdc_hg38.txt\n"
     ]
    },
    {
     "name": "stderr",
     "output_type": "stream",
     "text": [
      "  3%|▎         | 85/2603 [26:54<13:00:01, 18.59s/it]"
     ]
    },
    {
     "name": "stdout",
     "output_type": "stream",
     "text": [
      "jhu-usc.edu_COAD.HumanMethylation27.1.lvl-3.TCGA-AA-3521-11A-01D-1551-05.gdc_hg38.txt\n"
     ]
    },
    {
     "name": "stderr",
     "output_type": "stream",
     "text": [
      "  3%|▎         | 86/2603 [27:12<12:49:49, 18.35s/it]"
     ]
    },
    {
     "name": "stdout",
     "output_type": "stream",
     "text": [
      "jhu-usc.edu_COAD.HumanMethylation27.2.lvl-3.TCGA-AA-3525-01A-02D-0825-05.gdc_hg38.txt\n"
     ]
    },
    {
     "name": "stderr",
     "output_type": "stream",
     "text": [
      "  3%|▎         | 87/2603 [27:29<12:29:19, 17.87s/it]"
     ]
    },
    {
     "name": "stdout",
     "output_type": "stream",
     "text": [
      "jhu-usc.edu_COAD.HumanMethylation27.6.lvl-3.TCGA-AA-3877-01A-01D-1020-05.gdc_hg38.txt\n"
     ]
    },
    {
     "name": "stderr",
     "output_type": "stream",
     "text": [
      "  3%|▎         | 88/2603 [27:46<12:18:27, 17.62s/it]"
     ]
    },
    {
     "name": "stdout",
     "output_type": "stream",
     "text": [
      "jhu-usc.edu_COAD.HumanMethylation27.3.lvl-3.TCGA-AA-A01Q-01A-01D-A004-05.gdc_hg38.txt\n"
     ]
    },
    {
     "name": "stderr",
     "output_type": "stream",
     "text": [
      "  3%|▎         | 89/2603 [28:06<12:47:04, 18.31s/it]"
     ]
    },
    {
     "name": "stdout",
     "output_type": "stream",
     "text": [
      "jhu-usc.edu_COAD.HumanMethylation27.8.lvl-3.TCGA-AA-A02O-01A-21D-A081-05.gdc_hg38.txt\n"
     ]
    },
    {
     "name": "stderr",
     "output_type": "stream",
     "text": [
      "  3%|▎         | 90/2603 [28:27<13:25:23, 19.23s/it]"
     ]
    },
    {
     "name": "stdout",
     "output_type": "stream",
     "text": [
      "jhu-usc.edu_COAD.HumanMethylation27.6.lvl-3.TCGA-AA-3851-01A-01D-1020-05.gdc_hg38.txt\n"
     ]
    },
    {
     "name": "stderr",
     "output_type": "stream",
     "text": [
      "  3%|▎         | 91/2603 [28:45<13:07:50, 18.82s/it]"
     ]
    },
    {
     "name": "stdout",
     "output_type": "stream",
     "text": [
      "jhu-usc.edu_COAD.HumanMethylation27.4.lvl-3.TCGA-AA-A00O-01A-02D-A00B-05.gdc_hg38.txt\n"
     ]
    },
    {
     "name": "stderr",
     "output_type": "stream",
     "text": [
      "  4%|▎         | 92/2603 [29:03<12:58:02, 18.59s/it]"
     ]
    },
    {
     "name": "stdout",
     "output_type": "stream",
     "text": [
      "jhu-usc.edu_COAD.HumanMethylation27.8.lvl-3.TCGA-AA-A03J-01A-21D-A081-05.gdc_hg38.txt\n"
     ]
    },
    {
     "name": "stderr",
     "output_type": "stream",
     "text": [
      "  4%|▎         | 93/2603 [29:22<12:58:15, 18.60s/it]"
     ]
    },
    {
     "name": "stdout",
     "output_type": "stream",
     "text": [
      "jhu-usc.edu_COAD.HumanMethylation27.6.lvl-3.TCGA-AA-3972-01A-01D-1020-05.gdc_hg38.txt\n"
     ]
    },
    {
     "name": "stderr",
     "output_type": "stream",
     "text": [
      "  4%|▎         | 94/2603 [29:41<13:02:43, 18.72s/it]"
     ]
    },
    {
     "name": "stdout",
     "output_type": "stream",
     "text": [
      "jhu-usc.edu_COAD.HumanMethylation27.5.lvl-3.TCGA-AA-3679-01A-02D-0904-05.gdc_hg38.txt\n"
     ]
    },
    {
     "name": "stderr",
     "output_type": "stream",
     "text": [
      "  4%|▎         | 95/2603 [30:00<13:03:46, 18.75s/it]"
     ]
    },
    {
     "name": "stdout",
     "output_type": "stream",
     "text": [
      "jhu-usc.edu_COAD.HumanMethylation27.1.lvl-3.TCGA-AA-3529-01A-02D-0820-05.gdc_hg38.txt\n"
     ]
    },
    {
     "name": "stderr",
     "output_type": "stream",
     "text": [
      "  4%|▎         | 96/2603 [30:18<12:57:21, 18.60s/it]"
     ]
    },
    {
     "name": "stdout",
     "output_type": "stream",
     "text": [
      "jhu-usc.edu_COAD.HumanMethylation27.1.lvl-3.TCGA-AA-3524-11A-01D-1551-05.gdc_hg38.txt\n"
     ]
    },
    {
     "name": "stderr",
     "output_type": "stream",
     "text": [
      "  4%|▎         | 97/2603 [30:36<12:50:55, 18.46s/it]"
     ]
    },
    {
     "name": "stdout",
     "output_type": "stream",
     "text": [
      "jhu-usc.edu_COAD.HumanMethylation27.4.lvl-3.TCGA-AA-A02R-01A-01D-A00B-05.gdc_hg38.txt\n"
     ]
    },
    {
     "name": "stderr",
     "output_type": "stream",
     "text": [
      "  4%|▍         | 98/2603 [30:57<13:21:33, 19.20s/it]"
     ]
    },
    {
     "name": "stdout",
     "output_type": "stream",
     "text": [
      "jhu-usc.edu_COAD.HumanMethylation27.2.lvl-3.TCGA-A6-2672-01A-01D-0825-05.gdc_hg38.txt\n"
     ]
    },
    {
     "name": "stderr",
     "output_type": "stream",
     "text": [
      "  4%|▍         | 99/2603 [31:17<13:31:14, 19.44s/it]"
     ]
    },
    {
     "name": "stdout",
     "output_type": "stream",
     "text": [
      "jhu-usc.edu_COAD.HumanMethylation27.8.lvl-3.TCGA-AA-A01X-01A-21D-A081-05.gdc_hg38.txt\n"
     ]
    },
    {
     "name": "stderr",
     "output_type": "stream",
     "text": [
      "  4%|▍         | 100/2603 [31:35<13:14:57, 19.06s/it]"
     ]
    },
    {
     "name": "stdout",
     "output_type": "stream",
     "text": [
      "jhu-usc.edu_COAD.HumanMethylation27.6.lvl-3.TCGA-AA-3930-01A-01D-1020-05.gdc_hg38.txt\n"
     ]
    },
    {
     "name": "stderr",
     "output_type": "stream",
     "text": [
      "  4%|▍         | 101/2603 [31:54<13:10:50, 18.97s/it]"
     ]
    },
    {
     "name": "stdout",
     "output_type": "stream",
     "text": [
      "jhu-usc.edu_COAD.HumanMethylation27.3.lvl-3.TCGA-AA-A00U-01A-01D-A004-05.gdc_hg38.txt\n"
     ]
    },
    {
     "name": "stderr",
     "output_type": "stream",
     "text": [
      "  4%|▍         | 102/2603 [32:13<13:15:27, 19.08s/it]"
     ]
    },
    {
     "name": "stdout",
     "output_type": "stream",
     "text": [
      "jhu-usc.edu_COAD.HumanMethylation27.1.lvl-3.TCGA-AA-3527-01A-01D-0820-05.gdc_hg38.txt\n"
     ]
    },
    {
     "name": "stderr",
     "output_type": "stream",
     "text": [
      "  4%|▍         | 103/2603 [32:32<13:12:19, 19.02s/it]"
     ]
    },
    {
     "name": "stdout",
     "output_type": "stream",
     "text": [
      "jhu-usc.edu_COAD.HumanMethylation27.8.lvl-3.TCGA-AA-A02O-11A-11D-A081-05.gdc_hg38.txt\n"
     ]
    },
    {
     "name": "stderr",
     "output_type": "stream",
     "text": [
      "  4%|▍         | 104/2603 [32:51<13:09:40, 18.96s/it]"
     ]
    },
    {
     "name": "stdout",
     "output_type": "stream",
     "text": [
      "jhu-usc.edu_COAD.HumanMethylation27.5.lvl-3.TCGA-AA-3715-01A-01D-0904-05.gdc_hg38.txt\n"
     ]
    },
    {
     "name": "stderr",
     "output_type": "stream",
     "text": [
      "  4%|▍         | 105/2603 [33:11<13:21:04, 19.24s/it]"
     ]
    },
    {
     "name": "stdout",
     "output_type": "stream",
     "text": [
      "jhu-usc.edu_COAD.HumanMethylation27.4.lvl-3.TCGA-AA-A02F-01A-01D-A00B-05.gdc_hg38.txt\n"
     ]
    },
    {
     "name": "stderr",
     "output_type": "stream",
     "text": [
      "  4%|▍         | 106/2603 [33:30<13:19:42, 19.22s/it]"
     ]
    },
    {
     "name": "stdout",
     "output_type": "stream",
     "text": [
      "jhu-usc.edu_COAD.HumanMethylation27.5.lvl-3.TCGA-AA-3837-01A-01D-0904-05.gdc_hg38.txt\n"
     ]
    },
    {
     "name": "stderr",
     "output_type": "stream",
     "text": [
      "  4%|▍         | 107/2603 [33:50<13:33:48, 19.56s/it]"
     ]
    },
    {
     "name": "stdout",
     "output_type": "stream",
     "text": [
      "jhu-usc.edu_COAD.HumanMethylation27.2.lvl-3.TCGA-AA-3518-11A-01D-1551-05.gdc_hg38.txt\n"
     ]
    },
    {
     "name": "stderr",
     "output_type": "stream",
     "text": [
      "  4%|▍         | 108/2603 [34:10<13:31:53, 19.52s/it]"
     ]
    },
    {
     "name": "stdout",
     "output_type": "stream",
     "text": [
      "jhu-usc.edu_COAD.HumanMethylation27.1.lvl-3.TCGA-AA-3542-01A-02D-0820-05.gdc_hg38.txt\n"
     ]
    },
    {
     "name": "stderr",
     "output_type": "stream",
     "text": [
      "  4%|▍         | 109/2603 [34:29<13:23:01, 19.32s/it]"
     ]
    },
    {
     "name": "stdout",
     "output_type": "stream",
     "text": [
      "jhu-usc.edu_COAD.HumanMethylation27.1.lvl-3.TCGA-AA-3534-11A-01D-1552-05.gdc_hg38.txt\n"
     ]
    },
    {
     "name": "stderr",
     "output_type": "stream",
     "text": [
      "  4%|▍         | 110/2603 [34:47<13:11:46, 19.06s/it]"
     ]
    },
    {
     "name": "stdout",
     "output_type": "stream",
     "text": [
      "jhu-usc.edu_COAD.HumanMethylation27.6.lvl-3.TCGA-AA-3976-01A-01D-1020-05.gdc_hg38.txt\n"
     ]
    },
    {
     "name": "stderr",
     "output_type": "stream",
     "text": [
      "  4%|▍         | 111/2603 [35:05<12:59:21, 18.76s/it]"
     ]
    },
    {
     "name": "stdout",
     "output_type": "stream",
     "text": [
      "jhu-usc.edu_COAD.HumanMethylation27.1.lvl-3.TCGA-AA-3520-01A-01D-0820-05.gdc_hg38.txt\n"
     ]
    },
    {
     "name": "stderr",
     "output_type": "stream",
     "text": [
      "  4%|▍         | 112/2603 [35:23<12:47:51, 18.49s/it]"
     ]
    },
    {
     "name": "stdout",
     "output_type": "stream",
     "text": [
      "jhu-usc.edu_COAD.HumanMethylation27.5.lvl-3.TCGA-AA-3695-01A-01D-0904-05.gdc_hg38.txt\n"
     ]
    },
    {
     "name": "stderr",
     "output_type": "stream",
     "text": [
      "  4%|▍         | 113/2603 [35:41<12:37:46, 18.26s/it]"
     ]
    },
    {
     "name": "stdout",
     "output_type": "stream",
     "text": [
      "jhu-usc.edu_COAD.HumanMethylation27.1.lvl-3.TCGA-AA-3514-01A-02D-0820-05.gdc_hg38.txt\n"
     ]
    },
    {
     "name": "stderr",
     "output_type": "stream",
     "text": [
      "  4%|▍         | 114/2603 [35:58<12:24:02, 17.94s/it]"
     ]
    },
    {
     "name": "stdout",
     "output_type": "stream",
     "text": [
      "jhu-usc.edu_COAD.HumanMethylation27.6.lvl-3.TCGA-AA-3973-01A-01D-1020-05.gdc_hg38.txt\n"
     ]
    },
    {
     "name": "stderr",
     "output_type": "stream",
     "text": [
      "  4%|▍         | 115/2603 [36:17<12:42:05, 18.38s/it]"
     ]
    },
    {
     "name": "stdout",
     "output_type": "stream",
     "text": [
      "jhu-usc.edu_COAD.HumanMethylation27.6.lvl-3.TCGA-AA-3866-01A-01D-1020-05.gdc_hg38.txt\n"
     ]
    },
    {
     "name": "stderr",
     "output_type": "stream",
     "text": [
      "  4%|▍         | 116/2603 [36:37<12:58:27, 18.78s/it]"
     ]
    },
    {
     "name": "stdout",
     "output_type": "stream",
     "text": [
      "jhu-usc.edu_COAD.HumanMethylation27.1.lvl-3.TCGA-AA-3548-01A-01D-0820-05.gdc_hg38.txt\n"
     ]
    },
    {
     "name": "stderr",
     "output_type": "stream",
     "text": [
      "  4%|▍         | 117/2603 [36:56<12:55:58, 18.73s/it]"
     ]
    },
    {
     "name": "stdout",
     "output_type": "stream",
     "text": [
      "jhu-usc.edu_COAD.HumanMethylation27.6.lvl-3.TCGA-AA-3864-01A-01D-1020-05.gdc_hg38.txt\n"
     ]
    },
    {
     "name": "stderr",
     "output_type": "stream",
     "text": [
      "  5%|▍         | 118/2603 [37:16<13:10:03, 19.08s/it]"
     ]
    },
    {
     "name": "stdout",
     "output_type": "stream",
     "text": [
      "jhu-usc.edu_COAD.HumanMethylation27.3.lvl-3.TCGA-AA-A00Q-01A-01D-A004-05.gdc_hg38.txt\n"
     ]
    },
    {
     "name": "stderr",
     "output_type": "stream",
     "text": [
      "  5%|▍         | 119/2603 [37:34<13:05:42, 18.98s/it]"
     ]
    },
    {
     "name": "stdout",
     "output_type": "stream",
     "text": [
      "jhu-usc.edu_COAD.HumanMethylation27.6.lvl-3.TCGA-AA-3872-01A-01D-1020-05.gdc_hg38.txt\n"
     ]
    },
    {
     "name": "stderr",
     "output_type": "stream",
     "text": [
      "  5%|▍         | 120/2603 [37:53<13:06:07, 19.00s/it]"
     ]
    },
    {
     "name": "stdout",
     "output_type": "stream",
     "text": [
      "jhu-usc.edu_COAD.HumanMethylation27.6.lvl-3.TCGA-AA-3982-01A-02D-1020-05.gdc_hg38.txt\n"
     ]
    },
    {
     "name": "stderr",
     "output_type": "stream",
     "text": [
      "  5%|▍         | 121/2603 [38:12<13:04:37, 18.97s/it]"
     ]
    },
    {
     "name": "stdout",
     "output_type": "stream",
     "text": [
      "jhu-usc.edu_COAD.HumanMethylation27.3.lvl-3.TCGA-AA-A00A-01A-01D-A004-05.gdc_hg38.txt\n"
     ]
    },
    {
     "name": "stderr",
     "output_type": "stream",
     "text": [
      "  5%|▍         | 122/2603 [38:31<13:02:53, 18.93s/it]"
     ]
    },
    {
     "name": "stdout",
     "output_type": "stream",
     "text": [
      "jhu-usc.edu_COAD.HumanMethylation27.6.lvl-3.TCGA-A6-3810-11A-01D-1020-05.gdc_hg38.txt\n"
     ]
    },
    {
     "name": "stderr",
     "output_type": "stream",
     "text": [
      "  5%|▍         | 123/2603 [38:50<13:03:00, 18.94s/it]"
     ]
    },
    {
     "name": "stdout",
     "output_type": "stream",
     "text": [
      "jhu-usc.edu_COAD.HumanMethylation27.1.lvl-3.TCGA-AA-3532-11A-01D-1552-05.gdc_hg38.txt\n"
     ]
    },
    {
     "name": "stderr",
     "output_type": "stream",
     "text": [
      "  5%|▍         | 124/2603 [39:08<12:54:12, 18.74s/it]"
     ]
    },
    {
     "name": "stdout",
     "output_type": "stream",
     "text": [
      "jhu-usc.edu_COAD.HumanMethylation27.5.lvl-3.TCGA-AA-3818-01A-01D-0904-05.gdc_hg38.txt\n"
     ]
    },
    {
     "name": "stderr",
     "output_type": "stream",
     "text": [
      "  5%|▍         | 125/2603 [39:29<13:14:28, 19.24s/it]"
     ]
    },
    {
     "name": "stdout",
     "output_type": "stream",
     "text": [
      "jhu-usc.edu_COAD.HumanMethylation27.6.lvl-3.TCGA-AA-3861-01A-01D-1020-05.gdc_hg38.txt\n"
     ]
    },
    {
     "name": "stderr",
     "output_type": "stream",
     "text": [
      "  5%|▍         | 126/2603 [39:48<13:10:17, 19.14s/it]"
     ]
    },
    {
     "name": "stdout",
     "output_type": "stream",
     "text": [
      "jhu-usc.edu_READ.HumanMethylation27.7.lvl-3.TCGA-AF-3913-01A-02D-1116-05.gdc_hg38.txt\n"
     ]
    },
    {
     "name": "stderr",
     "output_type": "stream",
     "text": [
      "  5%|▍         | 127/2603 [40:13<14:25:02, 20.96s/it]"
     ]
    },
    {
     "name": "stdout",
     "output_type": "stream",
     "text": [
      "jhu-usc.edu_READ.HumanMethylation27.4.lvl-3.TCGA-AG-A01J-01A-01D-A00B-05.gdc_hg38.txt\n"
     ]
    },
    {
     "name": "stderr",
     "output_type": "stream",
     "text": [
      "  5%|▍         | 128/2603 [40:32<13:58:48, 20.33s/it]"
     ]
    },
    {
     "name": "stdout",
     "output_type": "stream",
     "text": [
      "jhu-usc.edu_READ.HumanMethylation27.2.lvl-3.TCGA-AG-3602-01A-02D-0825-05.gdc_hg38.txt\n"
     ]
    },
    {
     "name": "stderr",
     "output_type": "stream",
     "text": [
      "  5%|▍         | 129/2603 [40:50<13:37:22, 19.82s/it]"
     ]
    },
    {
     "name": "stdout",
     "output_type": "stream",
     "text": [
      "jhu-usc.edu_READ.HumanMethylation27.1.lvl-3.TCGA-AF-3400-01A-01D-0820-05.gdc_hg38.txt\n"
     ]
    },
    {
     "name": "stderr",
     "output_type": "stream",
     "text": [
      "  5%|▍         | 130/2603 [41:09<13:19:34, 19.40s/it]"
     ]
    },
    {
     "name": "stdout",
     "output_type": "stream",
     "text": [
      "jhu-usc.edu_READ.HumanMethylation27.6.lvl-3.TCGA-AF-2689-11A-01D-1552-05.gdc_hg38.txt\n"
     ]
    },
    {
     "name": "stderr",
     "output_type": "stream",
     "text": [
      "  5%|▌         | 131/2603 [41:27<13:01:25, 18.97s/it]"
     ]
    },
    {
     "name": "stdout",
     "output_type": "stream",
     "text": [
      "jhu-usc.edu_KIRP.HumanMethylation27.1.lvl-3.TCGA-B9-4113-01A-01D-1191-05.gdc_hg38.txt\n"
     ]
    },
    {
     "name": "stderr",
     "output_type": "stream",
     "text": [
      "  5%|▌         | 132/2603 [41:45<12:50:58, 18.72s/it]"
     ]
    },
    {
     "name": "stdout",
     "output_type": "stream",
     "text": [
      "jhu-usc.edu_KIRP.HumanMethylation27.1.lvl-3.TCGA-B3-4103-11A-01D-1191-05.gdc_hg38.txt\n"
     ]
    },
    {
     "name": "stderr",
     "output_type": "stream",
     "text": [
      "  5%|▌         | 133/2603 [42:03<12:47:57, 18.65s/it]"
     ]
    },
    {
     "name": "stdout",
     "output_type": "stream",
     "text": [
      "jhu-usc.edu_KIRP.HumanMethylation27.1.lvl-3.TCGA-AL-3467-01A-01D-1191-05.gdc_hg38.txt\n"
     ]
    },
    {
     "name": "stderr",
     "output_type": "stream",
     "text": [
      "  5%|▌         | 134/2603 [42:23<12:53:19, 18.79s/it]"
     ]
    },
    {
     "name": "stdout",
     "output_type": "stream",
     "text": [
      "jhu-usc.edu_KIRP.HumanMethylation27.1.lvl-3.TCGA-AL-3471-01A-01D-1191-05.gdc_hg38.txt\n"
     ]
    },
    {
     "name": "stderr",
     "output_type": "stream",
     "text": [
      "  5%|▌         | 135/2603 [42:42<12:58:05, 18.92s/it]"
     ]
    },
    {
     "name": "stdout",
     "output_type": "stream",
     "text": [
      "jhu-usc.edu_KIRP.HumanMethylation27.1.lvl-3.TCGA-B3-4104-01A-01D-1191-05.gdc_hg38.txt\n"
     ]
    },
    {
     "name": "stderr",
     "output_type": "stream",
     "text": [
      "  5%|▌         | 136/2603 [43:00<12:51:06, 18.75s/it]"
     ]
    },
    {
     "name": "stdout",
     "output_type": "stream",
     "text": [
      "jhu-usc.edu_KIRP.HumanMethylation27.1.lvl-3.TCGA-B9-4115-01A-01D-1191-05.gdc_hg38.txt\n"
     ]
    },
    {
     "name": "stderr",
     "output_type": "stream",
     "text": [
      "  5%|▌         | 137/2603 [43:20<13:05:36, 19.11s/it]"
     ]
    },
    {
     "name": "stdout",
     "output_type": "stream",
     "text": [
      "jhu-usc.edu_READ.HumanMethylation27.7.lvl-3.TCGA-AG-3999-01A-01D-1116-05.gdc_hg38.txt\n"
     ]
    },
    {
     "name": "stderr",
     "output_type": "stream",
     "text": [
      "  5%|▌         | 138/2603 [43:40<13:11:28, 19.27s/it]"
     ]
    },
    {
     "name": "stdout",
     "output_type": "stream",
     "text": [
      "jhu-usc.edu_READ.HumanMethylation27.3.lvl-3.TCGA-AG-A00C-01A-01D-A004-05.gdc_hg38.txt\n"
     ]
    },
    {
     "name": "stderr",
     "output_type": "stream",
     "text": [
      "  5%|▌         | 139/2603 [43:59<13:06:49, 19.16s/it]"
     ]
    },
    {
     "name": "stdout",
     "output_type": "stream",
     "text": [
      "jhu-usc.edu_READ.HumanMethylation27.1.lvl-3.TCGA-AG-3578-01A-01D-0820-05.gdc_hg38.txt\n"
     ]
    },
    {
     "name": "stderr",
     "output_type": "stream",
     "text": [
      "  5%|▌         | 140/2603 [44:17<12:59:38, 18.99s/it]"
     ]
    },
    {
     "name": "stdout",
     "output_type": "stream",
     "text": [
      "jhu-usc.edu_READ.HumanMethylation27.7.lvl-3.TCGA-AG-3894-01A-01D-1116-05.gdc_hg38.txt\n"
     ]
    },
    {
     "name": "stderr",
     "output_type": "stream",
     "text": [
      "  5%|▌         | 141/2603 [44:35<12:50:30, 18.78s/it]"
     ]
    },
    {
     "name": "stdout",
     "output_type": "stream",
     "text": [
      "jhu-usc.edu_READ.HumanMethylation27.1.lvl-3.TCGA-AF-2692-01A-01D-0820-05.gdc_hg38.txt\n"
     ]
    },
    {
     "name": "stderr",
     "output_type": "stream",
     "text": [
      "  5%|▌         | 142/2603 [44:57<13:23:46, 19.60s/it]"
     ]
    },
    {
     "name": "stdout",
     "output_type": "stream",
     "text": [
      "jhu-usc.edu_READ.HumanMethylation27.7.lvl-3.TCGA-AF-3913-11A-01D-1116-05.gdc_hg38.txt\n"
     ]
    },
    {
     "name": "stderr",
     "output_type": "stream",
     "text": [
      "  5%|▌         | 143/2603 [45:16<13:18:01, 19.46s/it]"
     ]
    },
    {
     "name": "stdout",
     "output_type": "stream",
     "text": [
      "jhu-usc.edu_COAD.HumanMethylation27.6.lvl-3.TCGA-AA-3815-01A-01D-1020-05.gdc_hg38.txt\n"
     ]
    },
    {
     "name": "stderr",
     "output_type": "stream",
     "text": [
      "  6%|▌         | 144/2603 [45:35<13:08:24, 19.24s/it]"
     ]
    },
    {
     "name": "stdout",
     "output_type": "stream",
     "text": [
      "jhu-usc.edu_COAD.HumanMethylation27.5.lvl-3.TCGA-AA-3688-01A-01D-0904-05.gdc_hg38.txt\n"
     ]
    },
    {
     "name": "stderr",
     "output_type": "stream",
     "text": [
      "  6%|▌         | 145/2603 [45:55<13:19:45, 19.52s/it]"
     ]
    },
    {
     "name": "stdout",
     "output_type": "stream",
     "text": [
      "jhu-usc.edu_COAD.HumanMethylation27.1.lvl-3.TCGA-AA-3544-01A-01D-0820-05.gdc_hg38.txt\n"
     ]
    },
    {
     "name": "stderr",
     "output_type": "stream",
     "text": [
      "  6%|▌         | 146/2603 [46:15<13:26:36, 19.70s/it]"
     ]
    },
    {
     "name": "stdout",
     "output_type": "stream",
     "text": [
      "jhu-usc.edu_COAD.HumanMethylation27.8.lvl-3.TCGA-AA-A01S-01A-21D-A081-05.gdc_hg38.txt\n"
     ]
    },
    {
     "name": "stderr",
     "output_type": "stream",
     "text": [
      "  6%|▌         | 147/2603 [46:35<13:25:25, 19.68s/it]"
     ]
    },
    {
     "name": "stdout",
     "output_type": "stream",
     "text": [
      "jhu-usc.edu_COAD.HumanMethylation27.2.lvl-3.TCGA-A6-2676-11A-01D-1551-05.gdc_hg38.txt\n"
     ]
    },
    {
     "name": "stderr",
     "output_type": "stream",
     "text": [
      "  6%|▌         | 148/2603 [46:57<13:55:57, 20.43s/it]"
     ]
    },
    {
     "name": "stdout",
     "output_type": "stream",
     "text": [
      "jhu-usc.edu_COAD.HumanMethylation27.4.lvl-3.TCGA-AA-A02H-01A-01D-A00B-05.gdc_hg38.txt\n"
     ]
    },
    {
     "name": "stderr",
     "output_type": "stream",
     "text": [
      "  6%|▌         | 149/2603 [47:19<14:15:33, 20.92s/it]"
     ]
    },
    {
     "name": "stdout",
     "output_type": "stream",
     "text": [
      "jhu-usc.edu_COAD.HumanMethylation27.8.lvl-3.TCGA-AA-A02Y-01A-43D-A081-05.gdc_hg38.txt\n"
     ]
    },
    {
     "name": "stderr",
     "output_type": "stream",
     "text": [
      "  6%|▌         | 150/2603 [47:38<13:51:25, 20.34s/it]"
     ]
    },
    {
     "name": "stdout",
     "output_type": "stream",
     "text": [
      "jhu-usc.edu_COAD.HumanMethylation27.6.lvl-3.TCGA-AA-3710-01A-01D-1020-05.gdc_hg38.txt\n"
     ]
    },
    {
     "name": "stderr",
     "output_type": "stream",
     "text": [
      "  6%|▌         | 151/2603 [47:57<13:31:03, 19.85s/it]"
     ]
    },
    {
     "name": "stdout",
     "output_type": "stream",
     "text": [
      "jhu-usc.edu_COAD.HumanMethylation27.2.lvl-3.TCGA-AA-3543-01A-01D-0825-05.gdc_hg38.txt\n"
     ]
    },
    {
     "name": "stderr",
     "output_type": "stream",
     "text": [
      "  6%|▌         | 152/2603 [48:16<13:19:57, 19.58s/it]"
     ]
    },
    {
     "name": "stdout",
     "output_type": "stream",
     "text": [
      "jhu-usc.edu_COAD.HumanMethylation27.6.lvl-3.TCGA-A6-3807-01A-01D-1020-05.gdc_hg38.txt\n"
     ]
    },
    {
     "name": "stderr",
     "output_type": "stream",
     "text": [
      "  6%|▌         | 153/2603 [48:38<13:49:30, 20.31s/it]"
     ]
    },
    {
     "name": "stdout",
     "output_type": "stream",
     "text": [
      "jhu-usc.edu_COAD.HumanMethylation27.1.lvl-3.TCGA-AA-3552-01A-01D-0820-05.gdc_hg38.txt\n"
     ]
    },
    {
     "name": "stderr",
     "output_type": "stream",
     "text": [
      "  6%|▌         | 154/2603 [49:02<14:32:22, 21.37s/it]"
     ]
    },
    {
     "name": "stdout",
     "output_type": "stream",
     "text": [
      "jhu-usc.edu_COAD.HumanMethylation27.4.lvl-3.TCGA-AA-A004-01A-01D-A00B-05.gdc_hg38.txt\n"
     ]
    },
    {
     "name": "stderr",
     "output_type": "stream",
     "text": [
      "  6%|▌         | 155/2603 [49:21<14:08:37, 20.80s/it]"
     ]
    },
    {
     "name": "stdout",
     "output_type": "stream",
     "text": [
      "jhu-usc.edu_COAD.HumanMethylation27.5.lvl-3.TCGA-AA-3685-01A-02D-0904-05.gdc_hg38.txt\n"
     ]
    },
    {
     "name": "stderr",
     "output_type": "stream",
     "text": [
      "  6%|▌         | 156/2603 [49:40<13:48:57, 20.33s/it]"
     ]
    },
    {
     "name": "stdout",
     "output_type": "stream",
     "text": [
      "jhu-usc.edu_COAD.HumanMethylation27.6.lvl-3.TCGA-AA-3821-01A-01D-1020-05.gdc_hg38.txt\n"
     ]
    },
    {
     "name": "stderr",
     "output_type": "stream",
     "text": [
      "  6%|▌         | 157/2603 [50:02<14:05:11, 20.73s/it]"
     ]
    },
    {
     "name": "stdout",
     "output_type": "stream",
     "text": [
      "jhu-usc.edu_COAD.HumanMethylation27.5.lvl-3.TCGA-AA-3852-01A-01D-0904-05.gdc_hg38.txt\n"
     ]
    },
    {
     "name": "stderr",
     "output_type": "stream",
     "text": [
      "  6%|▌         | 158/2603 [50:25<14:29:24, 21.34s/it]"
     ]
    },
    {
     "name": "stdout",
     "output_type": "stream",
     "text": [
      "jhu-usc.edu_COAD.HumanMethylation27.8.lvl-3.TCGA-AA-A01R-11A-12D-A081-05.gdc_hg38.txt\n"
     ]
    },
    {
     "name": "stderr",
     "output_type": "stream",
     "text": [
      "  6%|▌         | 159/2603 [50:44<14:07:36, 20.81s/it]"
     ]
    },
    {
     "name": "stdout",
     "output_type": "stream",
     "text": [
      "jhu-usc.edu_COAD.HumanMethylation27.3.lvl-3.TCGA-AA-A01F-01A-01D-A004-05.gdc_hg38.txt\n"
     ]
    },
    {
     "name": "stderr",
     "output_type": "stream",
     "text": [
      "  6%|▌         | 160/2603 [51:04<13:56:26, 20.54s/it]"
     ]
    },
    {
     "name": "stdout",
     "output_type": "stream",
     "text": [
      "jhu-usc.edu_COAD.HumanMethylation27.4.lvl-3.TCGA-AA-A01C-01A-01D-A00B-05.gdc_hg38.txt\n"
     ]
    },
    {
     "name": "stderr",
     "output_type": "stream",
     "text": [
      "  6%|▌         | 161/2603 [51:24<13:48:13, 20.35s/it]"
     ]
    },
    {
     "name": "stdout",
     "output_type": "stream",
     "text": [
      "jhu-usc.edu_COAD.HumanMethylation27.7.lvl-3.TCGA-AA-3994-01A-01D-1110-05.gdc_hg38.txt\n"
     ]
    },
    {
     "name": "stderr",
     "output_type": "stream",
     "text": [
      "  6%|▌         | 162/2603 [51:46<14:06:32, 20.81s/it]"
     ]
    },
    {
     "name": "stdout",
     "output_type": "stream",
     "text": [
      "jhu-usc.edu_COAD.HumanMethylation27.5.lvl-3.TCGA-AA-3860-01A-02D-0904-05.gdc_hg38.txt\n"
     ]
    },
    {
     "name": "stderr",
     "output_type": "stream",
     "text": [
      "  6%|▋         | 163/2603 [52:07<14:12:34, 20.96s/it]"
     ]
    },
    {
     "name": "stdout",
     "output_type": "stream",
     "text": [
      "jhu-usc.edu_COAD.HumanMethylation27.1.lvl-3.TCGA-AA-3522-01A-01D-0820-05.gdc_hg38.txt\n"
     ]
    },
    {
     "name": "stderr",
     "output_type": "stream",
     "text": [
      "  6%|▋         | 164/2603 [52:28<14:09:53, 20.91s/it]"
     ]
    },
    {
     "name": "stdout",
     "output_type": "stream",
     "text": [
      "jhu-usc.edu_COAD.HumanMethylation27.1.lvl-3.TCGA-AA-3553-01A-01D-0820-05.gdc_hg38.txt\n"
     ]
    },
    {
     "name": "stderr",
     "output_type": "stream",
     "text": [
      "  6%|▋         | 165/2603 [52:47<13:42:37, 20.24s/it]"
     ]
    },
    {
     "name": "stdout",
     "output_type": "stream",
     "text": [
      "jhu-usc.edu_COAD.HumanMethylation27.5.lvl-3.TCGA-AA-3692-01A-01D-0904-05.gdc_hg38.txt\n"
     ]
    },
    {
     "name": "stderr",
     "output_type": "stream",
     "text": [
      "  6%|▋         | 166/2603 [53:08<13:57:23, 20.62s/it]"
     ]
    },
    {
     "name": "stdout",
     "output_type": "stream",
     "text": [
      "jhu-usc.edu_COAD.HumanMethylation27.1.lvl-3.TCGA-AA-3556-01A-01D-0820-05.gdc_hg38.txt\n"
     ]
    },
    {
     "name": "stderr",
     "output_type": "stream",
     "text": [
      "  6%|▋         | 167/2603 [53:27<13:37:29, 20.14s/it]"
     ]
    },
    {
     "name": "stdout",
     "output_type": "stream",
     "text": [
      "jhu-usc.edu_COAD.HumanMethylation27.8.lvl-3.TCGA-AA-A03J-11A-11D-A081-05.gdc_hg38.txt\n"
     ]
    },
    {
     "name": "stderr",
     "output_type": "stream",
     "text": [
      "  6%|▋         | 168/2603 [53:46<13:22:54, 19.78s/it]"
     ]
    },
    {
     "name": "stdout",
     "output_type": "stream",
     "text": [
      "jhu-usc.edu_COAD.HumanMethylation27.6.lvl-3.TCGA-AA-3956-01A-02D-1020-05.gdc_hg38.txt\n"
     ]
    },
    {
     "name": "stderr",
     "output_type": "stream",
     "text": [
      "  6%|▋         | 169/2603 [54:05<13:10:16, 19.48s/it]"
     ]
    },
    {
     "name": "stdout",
     "output_type": "stream",
     "text": [
      "jhu-usc.edu_COAD.HumanMethylation27.5.lvl-3.TCGA-AA-3854-01A-01D-0904-05.gdc_hg38.txt\n"
     ]
    },
    {
     "name": "stderr",
     "output_type": "stream",
     "text": [
      "  7%|▋         | 170/2603 [54:25<13:18:56, 19.70s/it]"
     ]
    },
    {
     "name": "stdout",
     "output_type": "stream",
     "text": [
      "jhu-usc.edu_COAD.HumanMethylation27.1.lvl-3.TCGA-AA-3531-11A-01D-1552-05.gdc_hg38.txt\n"
     ]
    },
    {
     "name": "stderr",
     "output_type": "stream",
     "text": [
      "  7%|▋         | 171/2603 [54:44<13:02:18, 19.30s/it]"
     ]
    },
    {
     "name": "stdout",
     "output_type": "stream",
     "text": [
      "jhu-usc.edu_COAD.HumanMethylation27.1.lvl-3.TCGA-AA-3517-01A-01D-0820-05.gdc_hg38.txt\n"
     ]
    },
    {
     "name": "stderr",
     "output_type": "stream",
     "text": [
      "  7%|▋         | 172/2603 [55:03<13:08:02, 19.45s/it]"
     ]
    },
    {
     "name": "stdout",
     "output_type": "stream",
     "text": [
      "jhu-usc.edu_COAD.HumanMethylation27.4.lvl-3.TCGA-AA-A01D-01A-01D-A00B-05.gdc_hg38.txt\n"
     ]
    },
    {
     "name": "stderr",
     "output_type": "stream",
     "text": [
      "  7%|▋         | 173/2603 [55:22<13:02:02, 19.31s/it]"
     ]
    },
    {
     "name": "stdout",
     "output_type": "stream",
     "text": [
      "jhu-usc.edu_COAD.HumanMethylation27.6.lvl-3.TCGA-AA-3975-01A-01D-1020-05.gdc_hg38.txt\n"
     ]
    },
    {
     "name": "stderr",
     "output_type": "stream",
     "text": [
      "  7%|▋         | 174/2603 [55:43<13:21:18, 19.79s/it]"
     ]
    },
    {
     "name": "stdout",
     "output_type": "stream",
     "text": [
      "jhu-usc.edu_KIRP.HumanMethylation27.1.lvl-3.TCGA-B9-4617-01A-01D-1191-05.gdc_hg38.txt\n"
     ]
    },
    {
     "name": "stderr",
     "output_type": "stream",
     "text": [
      "  7%|▋         | 175/2603 [56:05<13:47:08, 20.44s/it]"
     ]
    },
    {
     "name": "stdout",
     "output_type": "stream",
     "text": [
      "jhu-usc.edu_KIRP.HumanMethylation27.1.lvl-3.TCGA-AL-3473-01A-01D-1191-05.gdc_hg38.txt\n"
     ]
    },
    {
     "name": "stderr",
     "output_type": "stream",
     "text": [
      "  7%|▋         | 176/2603 [56:30<14:33:49, 21.60s/it]"
     ]
    },
    {
     "name": "stdout",
     "output_type": "stream",
     "text": [
      "jhu-usc.edu_KIRP.HumanMethylation27.1.lvl-3.TCGA-B9-4114-01A-01D-1191-05.gdc_hg38.txt\n"
     ]
    },
    {
     "name": "stderr",
     "output_type": "stream",
     "text": [
      "  7%|▋         | 177/2603 [56:50<14:18:25, 21.23s/it]"
     ]
    },
    {
     "name": "stdout",
     "output_type": "stream",
     "text": [
      "jhu-usc.edu_KIRP.HumanMethylation27.1.lvl-3.TCGA-AL-3472-01A-01D-1191-05.gdc_hg38.txt\n"
     ]
    },
    {
     "name": "stderr",
     "output_type": "stream",
     "text": [
      "  7%|▋         | 178/2603 [57:10<14:05:22, 20.92s/it]"
     ]
    },
    {
     "name": "stdout",
     "output_type": "stream",
     "text": [
      "jhu-usc.edu_KIRP.HumanMethylation27.1.lvl-3.TCGA-AL-3468-01A-01D-1191-05.gdc_hg38.txt\n"
     ]
    },
    {
     "name": "stderr",
     "output_type": "stream",
     "text": [
      "  7%|▋         | 179/2603 [57:34<14:35:46, 21.68s/it]"
     ]
    },
    {
     "name": "stdout",
     "output_type": "stream",
     "text": [
      "jhu-usc.edu_COAD.HumanMethylation27.2.lvl-3.TCGA-A6-2672-11A-01D-1551-05.gdc_hg38.txt\n"
     ]
    },
    {
     "name": "stderr",
     "output_type": "stream",
     "text": [
      "  7%|▋         | 180/2603 [57:53<14:13:12, 21.13s/it]"
     ]
    },
    {
     "name": "stdout",
     "output_type": "stream",
     "text": [
      "jhu-usc.edu_COAD.HumanMethylation27.6.lvl-3.TCGA-AA-3862-01A-01D-1020-05.gdc_hg38.txt\n"
     ]
    },
    {
     "name": "stderr",
     "output_type": "stream",
     "text": [
      "  7%|▋         | 181/2603 [58:12<13:41:40, 20.36s/it]"
     ]
    },
    {
     "name": "stdout",
     "output_type": "stream",
     "text": [
      "jhu-usc.edu_COAD.HumanMethylation27.5.lvl-3.TCGA-AA-3664-01A-01D-0904-05.gdc_hg38.txt\n"
     ]
    },
    {
     "name": "stderr",
     "output_type": "stream",
     "text": [
      "  7%|▋         | 182/2603 [58:30<13:18:53, 19.80s/it]"
     ]
    },
    {
     "name": "stdout",
     "output_type": "stream",
     "text": [
      "jhu-usc.edu_COAD.HumanMethylation27.1.lvl-3.TCGA-A6-2678-11A-01D-1551-05.gdc_hg38.txt\n"
     ]
    },
    {
     "name": "stderr",
     "output_type": "stream",
     "text": [
      "  7%|▋         | 183/2603 [58:49<13:07:10, 19.52s/it]"
     ]
    },
    {
     "name": "stdout",
     "output_type": "stream",
     "text": [
      "jhu-usc.edu_COAD.HumanMethylation27.5.lvl-3.TCGA-AA-3678-01A-01D-0904-05.gdc_hg38.txt\n"
     ]
    },
    {
     "name": "stderr",
     "output_type": "stream",
     "text": [
      "  7%|▋         | 184/2603 [59:08<12:59:27, 19.33s/it]"
     ]
    },
    {
     "name": "stdout",
     "output_type": "stream",
     "text": [
      "jhu-usc.edu_COAD.HumanMethylation27.1.lvl-3.TCGA-AA-3517-11A-01D-1551-05.gdc_hg38.txt\n"
     ]
    },
    {
     "name": "stderr",
     "output_type": "stream",
     "text": [
      "  7%|▋         | 185/2603 [59:27<12:54:21, 19.21s/it]"
     ]
    },
    {
     "name": "stdout",
     "output_type": "stream",
     "text": [
      "jhu-usc.edu_COAD.HumanMethylation27.1.lvl-3.TCGA-A6-2670-01A-02D-0820-05.gdc_hg38.txt\n"
     ]
    },
    {
     "name": "stderr",
     "output_type": "stream",
     "text": [
      "  7%|▋         | 186/2603 [59:46<12:51:17, 19.15s/it]"
     ]
    },
    {
     "name": "stdout",
     "output_type": "stream",
     "text": [
      "jhu-usc.edu_COAD.HumanMethylation27.6.lvl-3.TCGA-A6-3807-11A-01D-1020-05.gdc_hg38.txt\n"
     ]
    },
    {
     "name": "stderr",
     "output_type": "stream",
     "text": [
      "  7%|▋         | 187/2603 [1:00:05<12:45:56, 19.02s/it]"
     ]
    },
    {
     "name": "stdout",
     "output_type": "stream",
     "text": [
      "jhu-usc.edu_COAD.HumanMethylation27.1.lvl-3.TCGA-AA-3524-01A-02D-0820-05.gdc_hg38.txt\n"
     ]
    },
    {
     "name": "stderr",
     "output_type": "stream",
     "text": [
      "  7%|▋         | 188/2603 [1:00:24<12:48:20, 19.09s/it]"
     ]
    },
    {
     "name": "stdout",
     "output_type": "stream",
     "text": [
      "jhu-usc.edu_COAD.HumanMethylation27.1.lvl-3.TCGA-AA-3520-11A-01D-1551-05.gdc_hg38.txt\n"
     ]
    },
    {
     "name": "stderr",
     "output_type": "stream",
     "text": [
      "  7%|▋         | 189/2603 [1:00:43<12:45:00, 19.01s/it]"
     ]
    },
    {
     "name": "stdout",
     "output_type": "stream",
     "text": [
      "jhu-usc.edu_COAD.HumanMethylation27.4.lvl-3.TCGA-AA-A01I-01A-02D-A00B-05.gdc_hg38.txt\n"
     ]
    },
    {
     "name": "stderr",
     "output_type": "stream",
     "text": [
      "  7%|▋         | 190/2603 [1:01:02<12:49:13, 19.13s/it]"
     ]
    },
    {
     "name": "stdout",
     "output_type": "stream",
     "text": [
      "jhu-usc.edu_COAD.HumanMethylation27.4.lvl-3.TCGA-AA-A02E-01A-01D-A00B-05.gdc_hg38.txt\n"
     ]
    },
    {
     "name": "stderr",
     "output_type": "stream",
     "text": [
      "  7%|▋         | 191/2603 [1:01:21<12:42:38, 18.97s/it]"
     ]
    },
    {
     "name": "stdout",
     "output_type": "stream",
     "text": [
      "jhu-usc.edu_COAD.HumanMethylation27.6.lvl-3.TCGA-AA-3984-01A-02D-1020-05.gdc_hg38.txt\n"
     ]
    },
    {
     "name": "stderr",
     "output_type": "stream",
     "text": [
      "  7%|▋         | 192/2603 [1:01:40<12:42:08, 18.97s/it]"
     ]
    },
    {
     "name": "stdout",
     "output_type": "stream",
     "text": [
      "jhu-usc.edu_COAD.HumanMethylation27.1.lvl-3.TCGA-AA-3519-11A-01D-1551-05.gdc_hg38.txt\n"
     ]
    },
    {
     "name": "stderr",
     "output_type": "stream",
     "text": [
      "  7%|▋         | 193/2603 [1:01:59<12:45:28, 19.06s/it]"
     ]
    },
    {
     "name": "stdout",
     "output_type": "stream",
     "text": [
      "jhu-usc.edu_COAD.HumanMethylation27.4.lvl-3.TCGA-AA-A024-01A-02D-A00B-05.gdc_hg38.txt\n"
     ]
    },
    {
     "name": "stderr",
     "output_type": "stream",
     "text": [
      "  7%|▋         | 194/2603 [1:02:18<12:44:30, 19.04s/it]"
     ]
    },
    {
     "name": "stdout",
     "output_type": "stream",
     "text": [
      "jhu-usc.edu_COAD.HumanMethylation27.2.lvl-3.TCGA-AA-3518-01A-02D-0825-05.gdc_hg38.txt\n"
     ]
    },
    {
     "name": "stderr",
     "output_type": "stream",
     "text": [
      "  7%|▋         | 195/2603 [1:02:38<12:49:15, 19.17s/it]"
     ]
    },
    {
     "name": "stdout",
     "output_type": "stream",
     "text": [
      "jhu-usc.edu_COAD.HumanMethylation27.3.lvl-3.TCGA-AA-A00J-01A-02D-A004-05.gdc_hg38.txt\n"
     ]
    },
    {
     "name": "stderr",
     "output_type": "stream",
     "text": [
      "  8%|▊         | 196/2603 [1:02:57<12:46:50, 19.12s/it]"
     ]
    },
    {
     "name": "stdout",
     "output_type": "stream",
     "text": [
      "jhu-usc.edu_COAD.HumanMethylation27.3.lvl-3.TCGA-AA-A00W-01A-01D-A004-05.gdc_hg38.txt\n"
     ]
    },
    {
     "name": "stderr",
     "output_type": "stream",
     "text": [
      "  8%|▊         | 197/2603 [1:03:16<12:44:53, 19.07s/it]"
     ]
    },
    {
     "name": "stdout",
     "output_type": "stream",
     "text": [
      "jhu-usc.edu_COAD.HumanMethylation27.1.lvl-3.TCGA-A6-2677-11A-01D-1551-05.gdc_hg38.txt\n"
     ]
    },
    {
     "name": "stderr",
     "output_type": "stream",
     "text": [
      "  8%|▊         | 198/2603 [1:03:35<12:44:12, 19.07s/it]"
     ]
    },
    {
     "name": "stdout",
     "output_type": "stream",
     "text": [
      "jhu-usc.edu_COAD.HumanMethylation27.8.lvl-3.TCGA-AA-A022-01A-21D-A081-05.gdc_hg38.txt\n"
     ]
    },
    {
     "name": "stderr",
     "output_type": "stream",
     "text": [
      "  8%|▊         | 199/2603 [1:04:03<14:37:51, 21.91s/it]"
     ]
    },
    {
     "name": "stdout",
     "output_type": "stream",
     "text": [
      "jhu-usc.edu_COAD.HumanMethylation27.6.lvl-3.TCGA-A6-3810-01A-01D-1020-05.gdc_hg38.txt\n"
     ]
    },
    {
     "name": "stderr",
     "output_type": "stream",
     "text": [
      "  8%|▊         | 200/2603 [1:04:29<15:24:26, 23.08s/it]"
     ]
    },
    {
     "name": "stdout",
     "output_type": "stream",
     "text": [
      "jhu-usc.edu_COAD.HumanMethylation27.6.lvl-3.TCGA-AA-3869-01A-01D-1020-05.gdc_hg38.txt\n"
     ]
    },
    {
     "name": "stderr",
     "output_type": "stream",
     "text": [
      "  8%|▊         | 201/2603 [1:04:53<15:30:33, 23.24s/it]"
     ]
    },
    {
     "name": "stdout",
     "output_type": "stream",
     "text": [
      "jhu-usc.edu_COAD.HumanMethylation27.6.lvl-3.TCGA-AA-3979-01A-01D-1020-05.gdc_hg38.txt\n"
     ]
    },
    {
     "name": "stderr",
     "output_type": "stream",
     "text": [
      "  8%|▊         | 202/2603 [1:05:14<15:08:36, 22.71s/it]"
     ]
    },
    {
     "name": "stdout",
     "output_type": "stream",
     "text": [
      "jhu-usc.edu_COAD.HumanMethylation27.4.lvl-3.TCGA-AA-A00N-01A-02D-A00B-05.gdc_hg38.txt\n"
     ]
    },
    {
     "name": "stderr",
     "output_type": "stream",
     "text": [
      "  8%|▊         | 203/2603 [1:05:36<14:55:10, 22.38s/it]"
     ]
    },
    {
     "name": "stdout",
     "output_type": "stream",
     "text": [
      "jhu-usc.edu_COAD.HumanMethylation27.6.lvl-3.TCGA-AA-3955-01A-02D-1020-05.gdc_hg38.txt\n"
     ]
    },
    {
     "name": "stderr",
     "output_type": "stream",
     "text": [
      "  8%|▊         | 204/2603 [1:05:57<14:46:48, 22.18s/it]"
     ]
    },
    {
     "name": "stdout",
     "output_type": "stream",
     "text": [
      "jhu-usc.edu_COAD.HumanMethylation27.1.lvl-3.TCGA-AA-3514-11A-01D-1551-05.gdc_hg38.txt\n"
     ]
    },
    {
     "name": "stderr",
     "output_type": "stream",
     "text": [
      "  8%|▊         | 205/2603 [1:06:32<17:10:06, 25.77s/it]"
     ]
    },
    {
     "name": "stdout",
     "output_type": "stream",
     "text": [
      "jhu-usc.edu_COAD.HumanMethylation27.6.lvl-3.TCGA-AA-3968-01A-01D-1020-05.gdc_hg38.txt\n"
     ]
    },
    {
     "name": "stderr",
     "output_type": "stream",
     "text": [
      "  8%|▊         | 206/2603 [1:07:16<20:56:20, 31.45s/it]"
     ]
    },
    {
     "name": "stdout",
     "output_type": "stream",
     "text": [
      "jhu-usc.edu_COAD.HumanMethylation27.6.lvl-3.TCGA-AA-3950-01A-02D-1020-05.gdc_hg38.txt\n"
     ]
    },
    {
     "name": "stderr",
     "output_type": "stream",
     "text": [
      "  8%|▊         | 207/2603 [1:07:36<18:41:24, 28.08s/it]"
     ]
    },
    {
     "name": "stdout",
     "output_type": "stream",
     "text": [
      "jhu-usc.edu_COAD.HumanMethylation27.1.lvl-3.TCGA-AA-3558-01A-01D-0820-05.gdc_hg38.txt\n"
     ]
    },
    {
     "name": "stderr",
     "output_type": "stream",
     "text": [
      "  8%|▊         | 208/2603 [1:07:57<17:12:09, 25.86s/it]"
     ]
    },
    {
     "name": "stdout",
     "output_type": "stream",
     "text": [
      "jhu-usc.edu_COAD.HumanMethylation27.8.lvl-3.TCGA-AA-A01T-01A-21D-A081-05.gdc_hg38.txt\n"
     ]
    },
    {
     "name": "stderr",
     "output_type": "stream",
     "text": [
      "  8%|▊         | 209/2603 [1:08:17<16:01:58, 24.11s/it]"
     ]
    },
    {
     "name": "stdout",
     "output_type": "stream",
     "text": [
      "jhu-usc.edu_COAD.HumanMethylation27.5.lvl-3.TCGA-AA-3831-01A-01D-0904-05.gdc_hg38.txt\n"
     ]
    },
    {
     "name": "stderr",
     "output_type": "stream",
     "text": [
      "  8%|▊         | 210/2603 [1:08:37<15:07:00, 22.74s/it]"
     ]
    },
    {
     "name": "stdout",
     "output_type": "stream",
     "text": [
      "jhu-usc.edu_COAD.HumanMethylation27.5.lvl-3.TCGA-AA-3875-01A-01D-0904-05.gdc_hg38.txt\n"
     ]
    },
    {
     "name": "stderr",
     "output_type": "stream",
     "text": [
      "  8%|▊         | 211/2603 [1:08:56<14:24:02, 21.67s/it]"
     ]
    },
    {
     "name": "stdout",
     "output_type": "stream",
     "text": [
      "jhu-usc.edu_COAD.HumanMethylation27.5.lvl-3.TCGA-AA-3672-01A-01D-0904-05.gdc_hg38.txt\n"
     ]
    },
    {
     "name": "stderr",
     "output_type": "stream",
     "text": [
      "  8%|▊         | 212/2603 [1:09:15<13:50:49, 20.85s/it]"
     ]
    },
    {
     "name": "stdout",
     "output_type": "stream",
     "text": [
      "jhu-usc.edu_COAD.HumanMethylation27.6.lvl-3.TCGA-A6-3808-01A-01D-1020-05.gdc_hg38.txt\n"
     ]
    },
    {
     "name": "stderr",
     "output_type": "stream",
     "text": [
      "  8%|▊         | 213/2603 [1:09:34<13:30:39, 20.35s/it]"
     ]
    },
    {
     "name": "stdout",
     "output_type": "stream",
     "text": [
      "jhu-usc.edu_COAD.HumanMethylation27.5.lvl-3.TCGA-AA-3680-01A-01D-0904-05.gdc_hg38.txt\n"
     ]
    },
    {
     "name": "stderr",
     "output_type": "stream",
     "text": [
      "  8%|▊         | 214/2603 [1:09:53<13:11:22, 19.88s/it]"
     ]
    },
    {
     "name": "stdout",
     "output_type": "stream",
     "text": [
      "jhu-usc.edu_COAD.HumanMethylation27.1.lvl-3.TCGA-AA-3561-01A-01D-0820-05.gdc_hg38.txt\n"
     ]
    },
    {
     "name": "stderr",
     "output_type": "stream",
     "text": [
      "  8%|▊         | 215/2603 [1:10:11<12:54:58, 19.47s/it]"
     ]
    },
    {
     "name": "stdout",
     "output_type": "stream",
     "text": [
      "jhu-usc.edu_COAD.HumanMethylation27.6.lvl-3.TCGA-A6-3809-11A-01D-1020-05.gdc_hg38.txt\n"
     ]
    },
    {
     "name": "stderr",
     "output_type": "stream",
     "text": [
      "  8%|▊         | 216/2603 [1:10:30<12:43:41, 19.20s/it]"
     ]
    },
    {
     "name": "stdout",
     "output_type": "stream",
     "text": [
      "jhu-usc.edu_COAD.HumanMethylation27.1.lvl-3.TCGA-AA-3526-11A-01D-1551-05.gdc_hg38.txt\n"
     ]
    },
    {
     "name": "stderr",
     "output_type": "stream",
     "text": [
      "  8%|▊         | 217/2603 [1:10:48<12:29:54, 18.86s/it]"
     ]
    },
    {
     "name": "stdout",
     "output_type": "stream",
     "text": [
      "jhu-usc.edu_COAD.HumanMethylation27.5.lvl-3.TCGA-AA-3812-01A-01D-0904-05.gdc_hg38.txt\n"
     ]
    },
    {
     "name": "stderr",
     "output_type": "stream",
     "text": [
      "  8%|▊         | 218/2603 [1:11:05<12:03:03, 18.19s/it]"
     ]
    },
    {
     "name": "stdout",
     "output_type": "stream",
     "text": [
      "jhu-usc.edu_COAD.HumanMethylation27.7.lvl-3.TCGA-AY-4071-01A-01D-1110-05.gdc_hg38.txt\n"
     ]
    },
    {
     "name": "stderr",
     "output_type": "stream",
     "text": [
      "  8%|▊         | 219/2603 [1:11:22<11:59:43, 18.11s/it]"
     ]
    },
    {
     "name": "stdout",
     "output_type": "stream",
     "text": [
      "jhu-usc.edu_COAD.HumanMethylation27.8.lvl-3.TCGA-AA-A01X-11A-11D-A081-05.gdc_hg38.txt\n"
     ]
    },
    {
     "name": "stderr",
     "output_type": "stream",
     "text": [
      "  8%|▊         | 220/2603 [1:11:41<12:03:26, 18.22s/it]"
     ]
    },
    {
     "name": "stdout",
     "output_type": "stream",
     "text": [
      "jhu-usc.edu_COAD.HumanMethylation27.1.lvl-3.TCGA-AA-3562-01A-02D-0820-05.gdc_hg38.txt\n"
     ]
    },
    {
     "name": "stderr",
     "output_type": "stream",
     "text": [
      "  8%|▊         | 221/2603 [1:12:01<12:20:32, 18.65s/it]"
     ]
    },
    {
     "name": "stdout",
     "output_type": "stream",
     "text": [
      "jhu-usc.edu_COAD.HumanMethylation27.6.lvl-3.TCGA-AA-3850-01A-01D-1020-05.gdc_hg38.txt\n"
     ]
    },
    {
     "name": "stderr",
     "output_type": "stream",
     "text": [
      "  9%|▊         | 222/2603 [1:12:20<12:26:55, 18.82s/it]"
     ]
    },
    {
     "name": "stdout",
     "output_type": "stream",
     "text": [
      "jhu-usc.edu_COAD.HumanMethylation27.6.lvl-3.TCGA-A6-3809-01A-01D-1020-05.gdc_hg38.txt\n"
     ]
    },
    {
     "name": "stderr",
     "output_type": "stream",
     "text": [
      "  9%|▊         | 223/2603 [1:12:38<12:24:06, 18.76s/it]"
     ]
    },
    {
     "name": "stdout",
     "output_type": "stream",
     "text": [
      "jhu-usc.edu_COAD.HumanMethylation27.8.lvl-3.TCGA-AA-A02K-01A-21D-A081-05.gdc_hg38.txt\n"
     ]
    },
    {
     "name": "stderr",
     "output_type": "stream",
     "text": [
      "  9%|▊         | 224/2603 [1:12:57<12:15:35, 18.55s/it]"
     ]
    },
    {
     "name": "stdout",
     "output_type": "stream",
     "text": [
      "jhu-usc.edu_COAD.HumanMethylation27.6.lvl-3.TCGA-AA-3977-01A-01D-1020-05.gdc_hg38.txt\n"
     ]
    },
    {
     "name": "stderr",
     "output_type": "stream",
     "text": [
      "  9%|▊         | 225/2603 [1:13:14<12:05:23, 18.30s/it]"
     ]
    },
    {
     "name": "stdout",
     "output_type": "stream",
     "text": [
      "jhu-usc.edu_COAD.HumanMethylation27.5.lvl-3.TCGA-AA-3841-01A-01D-0904-05.gdc_hg38.txt\n"
     ]
    },
    {
     "name": "stderr",
     "output_type": "stream",
     "text": [
      "  9%|▊         | 226/2603 [1:13:33<12:13:20, 18.51s/it]"
     ]
    },
    {
     "name": "stdout",
     "output_type": "stream",
     "text": [
      "jhu-usc.edu_COAD.HumanMethylation27.1.lvl-3.TCGA-AA-3549-01A-02D-0820-05.gdc_hg38.txt\n"
     ]
    },
    {
     "name": "stderr",
     "output_type": "stream",
     "text": [
      "  9%|▊         | 227/2603 [1:13:52<12:14:45, 18.55s/it]"
     ]
    },
    {
     "name": "stdout",
     "output_type": "stream",
     "text": [
      "jhu-usc.edu_COAD.HumanMethylation27.8.lvl-3.TCGA-AA-A01R-01A-21D-A081-05.gdc_hg38.txt\n"
     ]
    },
    {
     "name": "stderr",
     "output_type": "stream",
     "text": [
      "  9%|▉         | 228/2603 [1:14:12<12:33:40, 19.04s/it]"
     ]
    },
    {
     "name": "stdout",
     "output_type": "stream",
     "text": [
      "jhu-usc.edu_COAD.HumanMethylation27.5.lvl-3.TCGA-AA-3684-01A-02D-0904-05.gdc_hg38.txt\n"
     ]
    },
    {
     "name": "stderr",
     "output_type": "stream",
     "text": [
      "  9%|▉         | 229/2603 [1:14:31<12:34:37, 19.07s/it]"
     ]
    },
    {
     "name": "stdout",
     "output_type": "stream",
     "text": [
      "jhu-usc.edu_COAD.HumanMethylation27.2.lvl-3.TCGA-AA-3554-01A-01D-0825-05.gdc_hg38.txt\n"
     ]
    },
    {
     "name": "stderr",
     "output_type": "stream",
     "text": [
      "  9%|▉         | 230/2603 [1:14:51<12:40:22, 19.23s/it]"
     ]
    },
    {
     "name": "stdout",
     "output_type": "stream",
     "text": [
      "jhu-usc.edu_COAD.HumanMethylation27.4.lvl-3.TCGA-AA-A010-01A-01D-A00B-05.gdc_hg38.txt\n"
     ]
    },
    {
     "name": "stderr",
     "output_type": "stream",
     "text": [
      "  9%|▉         | 231/2603 [1:15:10<12:34:01, 19.07s/it]"
     ]
    },
    {
     "name": "stdout",
     "output_type": "stream",
     "text": [
      "jhu-usc.edu_COAD.HumanMethylation27.5.lvl-3.TCGA-AA-3666-01A-02D-0904-05.gdc_hg38.txt\n"
     ]
    },
    {
     "name": "stderr",
     "output_type": "stream",
     "text": [
      "  9%|▉         | 232/2603 [1:15:27<12:10:14, 18.48s/it]"
     ]
    },
    {
     "name": "stdout",
     "output_type": "stream",
     "text": [
      "jhu-usc.edu_COAD.HumanMethylation27.6.lvl-3.TCGA-AA-3867-01A-01D-1020-05.gdc_hg38.txt\n"
     ]
    },
    {
     "name": "stderr",
     "output_type": "stream",
     "text": [
      "  9%|▉         | 233/2603 [1:15:44<12:00:36, 18.24s/it]"
     ]
    },
    {
     "name": "stdout",
     "output_type": "stream",
     "text": [
      "jhu-usc.edu_COAD.HumanMethylation27.3.lvl-3.TCGA-AA-A00Z-01A-01D-A004-05.gdc_hg38.txt\n"
     ]
    },
    {
     "name": "stderr",
     "output_type": "stream",
     "text": [
      "  9%|▉         | 234/2603 [1:16:02<11:52:28, 18.05s/it]"
     ]
    },
    {
     "name": "stdout",
     "output_type": "stream",
     "text": [
      "jhu-usc.edu_COAD.HumanMethylation27.1.lvl-3.TCGA-A6-2683-01A-01D-0820-05.gdc_hg38.txt\n"
     ]
    },
    {
     "name": "stderr",
     "output_type": "stream",
     "text": [
      "  9%|▉         | 235/2603 [1:16:20<11:51:19, 18.02s/it]"
     ]
    },
    {
     "name": "stdout",
     "output_type": "stream",
     "text": [
      "jhu-usc.edu_COAD.HumanMethylation27.5.lvl-3.TCGA-AA-3814-01A-01D-0904-05.gdc_hg38.txt\n"
     ]
    },
    {
     "name": "stderr",
     "output_type": "stream",
     "text": [
      "  9%|▉         | 236/2603 [1:16:37<11:44:59, 17.87s/it]"
     ]
    },
    {
     "name": "stdout",
     "output_type": "stream",
     "text": [
      "jhu-usc.edu_COAD.HumanMethylation27.8.lvl-3.TCGA-AA-A03F-01A-11D-A081-05.gdc_hg38.txt\n"
     ]
    },
    {
     "name": "stderr",
     "output_type": "stream",
     "text": [
      "  9%|▉         | 237/2603 [1:16:55<11:39:50, 17.75s/it]"
     ]
    },
    {
     "name": "stdout",
     "output_type": "stream",
     "text": [
      "jhu-usc.edu_COAD.HumanMethylation27.6.lvl-3.TCGA-AA-3949-01A-01D-1020-05.gdc_hg38.txt\n"
     ]
    },
    {
     "name": "stderr",
     "output_type": "stream",
     "text": [
      "  9%|▉         | 238/2603 [1:17:12<11:36:41, 17.67s/it]"
     ]
    },
    {
     "name": "stdout",
     "output_type": "stream",
     "text": [
      "jhu-usc.edu_COAD.HumanMethylation27.8.lvl-3.TCGA-AA-A01V-01A-23D-A081-05.gdc_hg38.txt\n"
     ]
    },
    {
     "name": "stderr",
     "output_type": "stream",
     "text": [
      "  9%|▉         | 239/2603 [1:17:30<11:31:17, 17.55s/it]"
     ]
    },
    {
     "name": "stdout",
     "output_type": "stream",
     "text": [
      "jhu-usc.edu_COAD.HumanMethylation27.4.lvl-3.TCGA-AA-A017-01A-01D-A00B-05.gdc_hg38.txt\n"
     ]
    },
    {
     "name": "stderr",
     "output_type": "stream",
     "text": [
      "  9%|▉         | 240/2603 [1:17:47<11:29:07, 17.50s/it]"
     ]
    },
    {
     "name": "stdout",
     "output_type": "stream",
     "text": [
      "jhu-usc.edu_KIRC.HumanMethylation27.4.lvl-3.TCGA-BP-4781-11A-01D-1303-05.gdc_hg38.txt\n"
     ]
    },
    {
     "name": "stderr",
     "output_type": "stream",
     "text": [
      "  9%|▉         | 241/2603 [1:18:04<11:23:31, 17.36s/it]"
     ]
    },
    {
     "name": "stdout",
     "output_type": "stream",
     "text": [
      "jhu-usc.edu_KIRC.HumanMethylation27.4.lvl-3.TCGA-B0-4837-01A-01D-1303-05.gdc_hg38.txt\n"
     ]
    },
    {
     "name": "stderr",
     "output_type": "stream",
     "text": [
      "  9%|▉         | 242/2603 [1:18:22<11:27:44, 17.48s/it]"
     ]
    },
    {
     "name": "stdout",
     "output_type": "stream",
     "text": [
      "jhu-usc.edu_KIRC.HumanMethylation27.3.lvl-3.TCGA-BP-4340-01A-01D-1284-05.gdc_hg38.txt\n"
     ]
    },
    {
     "name": "stderr",
     "output_type": "stream",
     "text": [
      "  9%|▉         | 243/2603 [1:18:39<11:24:08, 17.39s/it]"
     ]
    },
    {
     "name": "stdout",
     "output_type": "stream",
     "text": [
      "jhu-usc.edu_KIRC.HumanMethylation27.3.lvl-3.TCGA-BP-4346-11A-01D-1284-05.gdc_hg38.txt\n"
     ]
    },
    {
     "name": "stderr",
     "output_type": "stream",
     "text": [
      "  9%|▉         | 244/2603 [1:18:56<11:22:30, 17.36s/it]"
     ]
    },
    {
     "name": "stdout",
     "output_type": "stream",
     "text": [
      "jhu-usc.edu_KIRC.HumanMethylation27.3.lvl-3.TCGA-BP-4759-01A-01D-1284-05.gdc_hg38.txt\n"
     ]
    },
    {
     "name": "stderr",
     "output_type": "stream",
     "text": [
      "  9%|▉         | 245/2603 [1:19:20<12:40:06, 19.34s/it]"
     ]
    },
    {
     "name": "stdout",
     "output_type": "stream",
     "text": [
      "jhu-usc.edu_KIRC.HumanMethylation27.3.lvl-3.TCGA-BP-4758-11A-01D-1284-05.gdc_hg38.txt\n"
     ]
    },
    {
     "name": "stderr",
     "output_type": "stream",
     "text": [
      "  9%|▉         | 246/2603 [1:19:43<13:19:24, 20.35s/it]"
     ]
    },
    {
     "name": "stdout",
     "output_type": "stream",
     "text": [
      "jhu-usc.edu_KIRC.HumanMethylation27.3.lvl-3.TCGA-BP-4347-11A-01D-1284-05.gdc_hg38.txt\n"
     ]
    },
    {
     "name": "stderr",
     "output_type": "stream",
     "text": [
      "  9%|▉         | 247/2603 [1:20:06<13:50:22, 21.15s/it]"
     ]
    },
    {
     "name": "stdout",
     "output_type": "stream",
     "text": [
      "jhu-usc.edu_KIRC.HumanMethylation27.4.lvl-3.TCGA-CZ-4861-11A-01D-1303-05.gdc_hg38.txt\n"
     ]
    },
    {
     "name": "stderr",
     "output_type": "stream",
     "text": [
      " 10%|▉         | 248/2603 [1:20:25<13:26:58, 20.56s/it]"
     ]
    },
    {
     "name": "stdout",
     "output_type": "stream",
     "text": [
      "jhu-usc.edu_KIRC.HumanMethylation27.1.lvl-3.TCGA-A3-3352-11A-01D-0859-05.gdc_hg38.txt\n"
     ]
    },
    {
     "name": "stderr",
     "output_type": "stream",
     "text": [
      " 10%|▉         | 249/2603 [1:20:43<12:56:10, 19.78s/it]"
     ]
    },
    {
     "name": "stdout",
     "output_type": "stream",
     "text": [
      "jhu-usc.edu_KIRC.HumanMethylation27.5.lvl-3.TCGA-BP-4987-11A-01D-1332-05.gdc_hg38.txt\n"
     ]
    },
    {
     "name": "stderr",
     "output_type": "stream",
     "text": [
      " 10%|▉         | 250/2603 [1:21:00<12:28:14, 19.08s/it]"
     ]
    },
    {
     "name": "stdout",
     "output_type": "stream",
     "text": [
      "jhu-usc.edu_KIRC.HumanMethylation27.4.lvl-3.TCGA-CJ-4888-11A-01D-1303-05.gdc_hg38.txt\n"
     ]
    },
    {
     "name": "stderr",
     "output_type": "stream",
     "text": [
      " 10%|▉         | 251/2603 [1:21:19<12:24:15, 18.99s/it]"
     ]
    },
    {
     "name": "stdout",
     "output_type": "stream",
     "text": [
      "jhu-usc.edu_KIRC.HumanMethylation27.5.lvl-3.TCGA-BP-4981-01A-01D-1332-05.gdc_hg38.txt\n"
     ]
    },
    {
     "name": "stderr",
     "output_type": "stream",
     "text": [
      " 10%|▉         | 252/2603 [1:21:37<12:14:05, 18.74s/it]"
     ]
    },
    {
     "name": "stdout",
     "output_type": "stream",
     "text": [
      "jhu-usc.edu_KIRC.HumanMethylation27.3.lvl-3.TCGA-BP-4342-01A-01D-1284-05.gdc_hg38.txt\n"
     ]
    },
    {
     "name": "stderr",
     "output_type": "stream",
     "text": [
      " 10%|▉         | 253/2603 [1:21:55<12:00:19, 18.39s/it]"
     ]
    },
    {
     "name": "stdout",
     "output_type": "stream",
     "text": [
      "jhu-usc.edu_KIRC.HumanMethylation27.4.lvl-3.TCGA-B0-4833-11A-01D-1303-05.gdc_hg38.txt\n"
     ]
    },
    {
     "name": "stderr",
     "output_type": "stream",
     "text": [
      " 10%|▉         | 254/2603 [1:22:13<11:55:12, 18.27s/it]"
     ]
    },
    {
     "name": "stdout",
     "output_type": "stream",
     "text": [
      "jhu-usc.edu_KIRC.HumanMethylation27.3.lvl-3.TCGA-BP-4776-01A-01D-1284-05.gdc_hg38.txt\n"
     ]
    },
    {
     "name": "stderr",
     "output_type": "stream",
     "text": [
      " 10%|▉         | 255/2603 [1:22:31<11:49:57, 18.14s/it]"
     ]
    },
    {
     "name": "stdout",
     "output_type": "stream",
     "text": [
      "jhu-usc.edu_KIRC.HumanMethylation27.4.lvl-3.TCGA-CJ-4642-01B-01D-1303-05.gdc_hg38.txt\n"
     ]
    },
    {
     "name": "stderr",
     "output_type": "stream",
     "text": [
      " 10%|▉         | 256/2603 [1:22:48<11:38:44, 17.86s/it]"
     ]
    },
    {
     "name": "stdout",
     "output_type": "stream",
     "text": [
      "jhu-usc.edu_KIRC.HumanMethylation27.3.lvl-3.TCGA-BP-4771-01A-01D-1284-05.gdc_hg38.txt\n"
     ]
    },
    {
     "name": "stderr",
     "output_type": "stream",
     "text": [
      " 10%|▉         | 257/2603 [1:23:05<11:27:26, 17.58s/it]"
     ]
    },
    {
     "name": "stdout",
     "output_type": "stream",
     "text": [
      "jhu-usc.edu_KIRC.HumanMethylation27.4.lvl-3.TCGA-CJ-4893-11A-01D-1303-05.gdc_hg38.txt\n"
     ]
    },
    {
     "name": "stderr",
     "output_type": "stream",
     "text": [
      " 10%|▉         | 258/2603 [1:23:21<11:14:04, 17.25s/it]"
     ]
    },
    {
     "name": "stdout",
     "output_type": "stream",
     "text": [
      "jhu-usc.edu_KIRC.HumanMethylation27.4.lvl-3.TCGA-B0-4834-11A-01D-1303-05.gdc_hg38.txt\n"
     ]
    },
    {
     "name": "stderr",
     "output_type": "stream",
     "text": [
      " 10%|▉         | 259/2603 [1:23:38<11:09:52, 17.15s/it]"
     ]
    },
    {
     "name": "stdout",
     "output_type": "stream",
     "text": [
      "jhu-usc.edu_KIRC.HumanMethylation27.3.lvl-3.TCGA-BP-4771-11A-01D-1287-05.gdc_hg38.txt\n"
     ]
    },
    {
     "name": "stderr",
     "output_type": "stream",
     "text": [
      " 10%|▉         | 260/2603 [1:23:56<11:12:49, 17.23s/it]"
     ]
    },
    {
     "name": "stdout",
     "output_type": "stream",
     "text": [
      "jhu-usc.edu_KIRC.HumanMethylation27.2.lvl-3.TCGA-CJ-4634-11A-01D-1186-05.gdc_hg38.txt\n"
     ]
    },
    {
     "name": "stderr",
     "output_type": "stream",
     "text": [
      " 10%|█         | 261/2603 [1:24:13<11:17:50, 17.37s/it]"
     ]
    },
    {
     "name": "stdout",
     "output_type": "stream",
     "text": [
      "jhu-usc.edu_KIRC.HumanMethylation27.4.lvl-3.TCGA-CJ-4874-11A-01D-1303-05.gdc_hg38.txt\n"
     ]
    },
    {
     "name": "stderr",
     "output_type": "stream",
     "text": [
      " 10%|█         | 262/2603 [1:24:33<11:38:35, 17.91s/it]"
     ]
    },
    {
     "name": "stdout",
     "output_type": "stream",
     "text": [
      "jhu-usc.edu_KIRC.HumanMethylation27.1.lvl-3.TCGA-A3-3378-11A-01D-0859-05.gdc_hg38.txt\n"
     ]
    },
    {
     "name": "stderr",
     "output_type": "stream",
     "text": [
      " 10%|█         | 263/2603 [1:24:54<12:19:06, 18.95s/it]"
     ]
    },
    {
     "name": "stdout",
     "output_type": "stream",
     "text": [
      "jhu-usc.edu_KIRC.HumanMethylation27.3.lvl-3.TCGA-BP-4769-11A-01D-1284-05.gdc_hg38.txt\n"
     ]
    },
    {
     "name": "stderr",
     "output_type": "stream",
     "text": [
      " 10%|█         | 264/2603 [1:25:12<12:06:13, 18.63s/it]"
     ]
    },
    {
     "name": "stdout",
     "output_type": "stream",
     "text": [
      "jhu-usc.edu_KIRC.HumanMethylation27.4.lvl-3.TCGA-CJ-4868-01A-01D-1303-05.gdc_hg38.txt\n"
     ]
    },
    {
     "name": "stderr",
     "output_type": "stream",
     "text": [
      " 10%|█         | 265/2603 [1:25:31<12:09:48, 18.73s/it]"
     ]
    },
    {
     "name": "stdout",
     "output_type": "stream",
     "text": [
      "jhu-usc.edu_KIRC.HumanMethylation27.3.lvl-3.TCGA-BP-4337-01A-01D-1284-05.gdc_hg38.txt\n"
     ]
    },
    {
     "name": "stderr",
     "output_type": "stream",
     "text": [
      " 10%|█         | 266/2603 [1:25:50<12:08:38, 18.71s/it]"
     ]
    },
    {
     "name": "stdout",
     "output_type": "stream",
     "text": [
      "jhu-usc.edu_KIRC.HumanMethylation27.5.lvl-3.TCGA-B0-5077-11A-01D-1332-05.gdc_hg38.txt\n"
     ]
    },
    {
     "name": "stderr",
     "output_type": "stream",
     "text": [
      " 10%|█         | 267/2603 [1:26:09<12:18:37, 18.97s/it]"
     ]
    },
    {
     "name": "stdout",
     "output_type": "stream",
     "text": [
      "jhu-usc.edu_KIRC.HumanMethylation27.3.lvl-3.TCGA-BP-4775-11A-01D-1287-05.gdc_hg38.txt\n"
     ]
    },
    {
     "name": "stderr",
     "output_type": "stream",
     "text": [
      " 10%|█         | 268/2603 [1:26:29<12:24:24, 19.13s/it]"
     ]
    },
    {
     "name": "stdout",
     "output_type": "stream",
     "text": [
      "jhu-usc.edu_KIRC.HumanMethylation27.5.lvl-3.TCGA-BP-4959-11A-01D-1332-05.gdc_hg38.txt\n"
     ]
    },
    {
     "name": "stderr",
     "output_type": "stream",
     "text": [
      " 10%|█         | 269/2603 [1:26:47<12:16:54, 18.94s/it]"
     ]
    },
    {
     "name": "stdout",
     "output_type": "stream",
     "text": [
      "jhu-usc.edu_KIRC.HumanMethylation27.4.lvl-3.TCGA-CJ-4874-01A-01D-1303-05.gdc_hg38.txt\n"
     ]
    },
    {
     "name": "stderr",
     "output_type": "stream",
     "text": [
      " 10%|█         | 270/2603 [1:27:05<12:03:37, 18.61s/it]"
     ]
    },
    {
     "name": "stdout",
     "output_type": "stream",
     "text": [
      "jhu-usc.edu_KIRC.HumanMethylation27.2.lvl-3.TCGA-AK-3429-01A-01D-1186-05.gdc_hg38.txt\n"
     ]
    },
    {
     "name": "stderr",
     "output_type": "stream",
     "text": [
      " 10%|█         | 271/2603 [1:27:24<12:02:56, 18.60s/it]"
     ]
    },
    {
     "name": "stdout",
     "output_type": "stream",
     "text": [
      "jhu-usc.edu_KIRC.HumanMethylation27.1.lvl-3.TCGA-A3-3308-11A-01D-0859-05.gdc_hg38.txt\n"
     ]
    },
    {
     "name": "stderr",
     "output_type": "stream",
     "text": [
      " 10%|█         | 272/2603 [1:27:44<12:22:28, 19.11s/it]"
     ]
    },
    {
     "name": "stdout",
     "output_type": "stream",
     "text": [
      "jhu-usc.edu_KIRC.HumanMethylation27.1.lvl-3.TCGA-A3-3326-11A-01D-0859-05.gdc_hg38.txt\n"
     ]
    },
    {
     "name": "stderr",
     "output_type": "stream",
     "text": [
      " 10%|█         | 273/2603 [1:28:01<11:57:37, 18.48s/it]"
     ]
    },
    {
     "name": "stdout",
     "output_type": "stream",
     "text": [
      "jhu-usc.edu_KIRC.HumanMethylation27.3.lvl-3.TCGA-BP-4342-11A-01D-1284-05.gdc_hg38.txt\n"
     ]
    },
    {
     "name": "stderr",
     "output_type": "stream",
     "text": [
      " 11%|█         | 274/2603 [1:28:19<11:48:24, 18.25s/it]"
     ]
    },
    {
     "name": "stdout",
     "output_type": "stream",
     "text": [
      "jhu-usc.edu_KIRC.HumanMethylation27.5.lvl-3.TCGA-BP-4962-01A-01D-1332-05.gdc_hg38.txt\n"
     ]
    },
    {
     "name": "stderr",
     "output_type": "stream",
     "text": [
      " 11%|█         | 275/2603 [1:28:36<11:41:44, 18.09s/it]"
     ]
    },
    {
     "name": "stdout",
     "output_type": "stream",
     "text": [
      "jhu-usc.edu_KIRC.HumanMethylation27.3.lvl-3.TCGA-BP-4174-01A-02D-1284-05.gdc_hg38.txt\n"
     ]
    },
    {
     "name": "stderr",
     "output_type": "stream",
     "text": [
      " 11%|█         | 276/2603 [1:28:55<11:53:21, 18.39s/it]"
     ]
    },
    {
     "name": "stdout",
     "output_type": "stream",
     "text": [
      "jhu-usc.edu_KIRC.HumanMethylation27.2.lvl-3.TCGA-B8-4143-01A-01D-1186-05.gdc_hg38.txt\n"
     ]
    },
    {
     "name": "stderr",
     "output_type": "stream",
     "text": [
      " 11%|█         | 277/2603 [1:29:13<11:46:25, 18.22s/it]"
     ]
    },
    {
     "name": "stdout",
     "output_type": "stream",
     "text": [
      "jhu-usc.edu_KIRC.HumanMethylation27.1.lvl-3.TCGA-A3-3378-01A-01D-0859-05.gdc_hg38.txt\n"
     ]
    },
    {
     "name": "stderr",
     "output_type": "stream",
     "text": [
      " 11%|█         | 278/2603 [1:29:35<12:24:33, 19.21s/it]"
     ]
    },
    {
     "name": "stdout",
     "output_type": "stream",
     "text": [
      "jhu-usc.edu_KIRC.HumanMethylation27.4.lvl-3.TCGA-BP-4790-11A-01D-1303-05.gdc_hg38.txt\n"
     ]
    },
    {
     "name": "stderr",
     "output_type": "stream",
     "text": [
      " 11%|█         | 279/2603 [1:29:56<12:42:46, 19.69s/it]"
     ]
    },
    {
     "name": "stdout",
     "output_type": "stream",
     "text": [
      "jhu-usc.edu_KIRC.HumanMethylation27.5.lvl-3.TCGA-BP-4995-01A-01D-1332-05.gdc_hg38.txt\n"
     ]
    },
    {
     "name": "stderr",
     "output_type": "stream",
     "text": [
      " 11%|█         | 280/2603 [1:30:17<13:04:11, 20.25s/it]"
     ]
    },
    {
     "name": "stdout",
     "output_type": "stream",
     "text": [
      "jhu-usc.edu_KIRC.HumanMethylation27.1.lvl-3.TCGA-A3-3322-11A-01D-0859-05.gdc_hg38.txt\n"
     ]
    },
    {
     "name": "stderr",
     "output_type": "stream",
     "text": [
      " 11%|█         | 281/2603 [1:30:38<13:13:32, 20.50s/it]"
     ]
    },
    {
     "name": "stdout",
     "output_type": "stream",
     "text": [
      "jhu-usc.edu_KIRC.HumanMethylation27.5.lvl-3.TCGA-CJ-4899-01A-01D-1332-05.gdc_hg38.txt\n"
     ]
    },
    {
     "name": "stderr",
     "output_type": "stream",
     "text": [
      " 11%|█         | 282/2603 [1:30:59<13:12:59, 20.50s/it]"
     ]
    },
    {
     "name": "stdout",
     "output_type": "stream",
     "text": [
      "jhu-usc.edu_KIRC.HumanMethylation27.3.lvl-3.TCGA-BP-4173-01A-02D-1284-05.gdc_hg38.txt\n"
     ]
    },
    {
     "name": "stderr",
     "output_type": "stream",
     "text": [
      " 11%|█         | 283/2603 [1:31:18<13:00:54, 20.20s/it]"
     ]
    },
    {
     "name": "stdout",
     "output_type": "stream",
     "text": [
      "jhu-usc.edu_KIRC.HumanMethylation27.2.lvl-3.TCGA-BP-4161-01A-01D-1186-05.gdc_hg38.txt\n"
     ]
    },
    {
     "name": "stderr",
     "output_type": "stream",
     "text": [
      " 11%|█         | 284/2603 [1:31:36<12:36:57, 19.58s/it]"
     ]
    },
    {
     "name": "stdout",
     "output_type": "stream",
     "text": [
      "jhu-usc.edu_KIRC.HumanMethylation27.3.lvl-3.TCGA-BP-4775-01A-01D-1284-05.gdc_hg38.txt\n"
     ]
    },
    {
     "name": "stderr",
     "output_type": "stream",
     "text": [
      " 11%|█         | 285/2603 [1:31:59<13:16:21, 20.61s/it]"
     ]
    },
    {
     "name": "stdout",
     "output_type": "stream",
     "text": [
      "jhu-usc.edu_KIRC.HumanMethylation27.1.lvl-3.TCGA-A3-3320-11A-01D-0859-05.gdc_hg38.txt\n"
     ]
    },
    {
     "name": "stderr",
     "output_type": "stream",
     "text": [
      " 11%|█         | 286/2603 [1:32:20<13:14:45, 20.58s/it]"
     ]
    },
    {
     "name": "stdout",
     "output_type": "stream",
     "text": [
      "jhu-usc.edu_KIRC.HumanMethylation27.3.lvl-3.TCGA-BP-4354-01A-02D-1284-05.gdc_hg38.txt\n"
     ]
    },
    {
     "name": "stderr",
     "output_type": "stream",
     "text": [
      " 11%|█         | 287/2603 [1:32:37<12:39:51, 19.69s/it]"
     ]
    },
    {
     "name": "stdout",
     "output_type": "stream",
     "text": [
      "jhu-usc.edu_KIRC.HumanMethylation27.5.lvl-3.TCGA-BP-4983-11A-01D-1332-05.gdc_hg38.txt\n"
     ]
    },
    {
     "name": "stderr",
     "output_type": "stream",
     "text": [
      " 11%|█         | 288/2603 [1:32:55<12:13:34, 19.01s/it]"
     ]
    },
    {
     "name": "stdout",
     "output_type": "stream",
     "text": [
      "jhu-usc.edu_KIRC.HumanMethylation27.4.lvl-3.TCGA-B0-4839-11A-01D-1303-05.gdc_hg38.txt\n"
     ]
    },
    {
     "name": "stderr",
     "output_type": "stream",
     "text": [
      " 11%|█         | 289/2603 [1:33:12<11:52:50, 18.48s/it]"
     ]
    },
    {
     "name": "stdout",
     "output_type": "stream",
     "text": [
      "jhu-usc.edu_KIRC.HumanMethylation27.2.lvl-3.TCGA-A3-3349-11A-01D-1186-05.gdc_hg38.txt\n"
     ]
    },
    {
     "name": "stderr",
     "output_type": "stream",
     "text": [
      " 11%|█         | 290/2603 [1:33:30<11:41:47, 18.20s/it]"
     ]
    },
    {
     "name": "stdout",
     "output_type": "stream",
     "text": [
      "jhu-usc.edu_KIRC.HumanMethylation27.5.lvl-3.TCGA-BP-4976-11A-01D-1332-05.gdc_hg38.txt\n"
     ]
    },
    {
     "name": "stderr",
     "output_type": "stream",
     "text": [
      " 11%|█         | 291/2603 [1:33:47<11:28:51, 17.88s/it]"
     ]
    },
    {
     "name": "stdout",
     "output_type": "stream",
     "text": [
      "jhu-usc.edu_KIRC.HumanMethylation27.4.lvl-3.TCGA-B0-4839-01A-01D-1303-05.gdc_hg38.txt\n"
     ]
    },
    {
     "name": "stderr",
     "output_type": "stream",
     "text": [
      " 11%|█         | 292/2603 [1:34:04<11:19:13, 17.63s/it]"
     ]
    },
    {
     "name": "stdout",
     "output_type": "stream",
     "text": [
      "jhu-usc.edu_KIRC.HumanMethylation27.4.lvl-3.TCGA-CJ-4635-01A-02D-1303-05.gdc_hg38.txt\n"
     ]
    },
    {
     "name": "stderr",
     "output_type": "stream",
     "text": [
      " 11%|█▏        | 293/2603 [1:34:21<11:11:26, 17.44s/it]"
     ]
    },
    {
     "name": "stdout",
     "output_type": "stream",
     "text": [
      "jhu-usc.edu_KIRC.HumanMethylation27.2.lvl-3.TCGA-BP-4161-11A-01D-1186-05.gdc_hg38.txt\n"
     ]
    },
    {
     "name": "stderr",
     "output_type": "stream",
     "text": [
      " 11%|█▏        | 294/2603 [1:34:38<11:10:00, 17.41s/it]"
     ]
    },
    {
     "name": "stdout",
     "output_type": "stream",
     "text": [
      "jhu-usc.edu_KIRC.HumanMethylation27.2.lvl-3.TCGA-BP-4164-01A-01D-1186-05.gdc_hg38.txt\n"
     ]
    },
    {
     "name": "stderr",
     "output_type": "stream",
     "text": [
      " 11%|█▏        | 295/2603 [1:34:55<11:07:32, 17.35s/it]"
     ]
    },
    {
     "name": "stdout",
     "output_type": "stream",
     "text": [
      "jhu-usc.edu_KIRC.HumanMethylation27.5.lvl-3.TCGA-BP-4965-11A-01D-1332-05.gdc_hg38.txt\n"
     ]
    },
    {
     "name": "stderr",
     "output_type": "stream",
     "text": [
      " 11%|█▏        | 296/2603 [1:35:12<11:03:13, 17.25s/it]"
     ]
    },
    {
     "name": "stdout",
     "output_type": "stream",
     "text": [
      "jhu-usc.edu_KIRC.HumanMethylation27.2.lvl-3.TCGA-CJ-4637-01A-01D-1186-05.gdc_hg38.txt\n"
     ]
    },
    {
     "name": "stderr",
     "output_type": "stream",
     "text": [
      " 11%|█▏        | 297/2603 [1:35:29<10:59:25, 17.16s/it]"
     ]
    },
    {
     "name": "stdout",
     "output_type": "stream",
     "text": [
      "jhu-usc.edu_KIRC.HumanMethylation27.4.lvl-3.TCGA-CJ-4868-11A-01D-1303-05.gdc_hg38.txt\n"
     ]
    },
    {
     "name": "stderr",
     "output_type": "stream",
     "text": [
      " 11%|█▏        | 298/2603 [1:35:46<10:54:08, 17.03s/it]"
     ]
    },
    {
     "name": "stdout",
     "output_type": "stream",
     "text": [
      "jhu-usc.edu_KIRC.HumanMethylation27.4.lvl-3.TCGA-CJ-4872-01A-01D-1303-05.gdc_hg38.txt\n"
     ]
    },
    {
     "name": "stderr",
     "output_type": "stream",
     "text": [
      " 11%|█▏        | 299/2603 [1:36:03<10:53:02, 17.01s/it]"
     ]
    },
    {
     "name": "stdout",
     "output_type": "stream",
     "text": [
      "jhu-usc.edu_KIRC.HumanMethylation27.2.lvl-3.TCGA-CJ-4636-01A-01D-1186-05.gdc_hg38.txt\n"
     ]
    },
    {
     "name": "stderr",
     "output_type": "stream",
     "text": [
      " 12%|█▏        | 300/2603 [1:36:23<11:29:52, 17.97s/it]"
     ]
    },
    {
     "name": "stdout",
     "output_type": "stream",
     "text": [
      "jhu-usc.edu_KIRC.HumanMethylation27.1.lvl-3.TCGA-A3-3372-01A-01D-0859-05.gdc_hg38.txt\n"
     ]
    },
    {
     "name": "stderr",
     "output_type": "stream",
     "text": [
      " 12%|█▏        | 301/2603 [1:36:46<12:20:04, 19.29s/it]"
     ]
    },
    {
     "name": "stdout",
     "output_type": "stream",
     "text": [
      "jhu-usc.edu_KIRC.HumanMethylation27.1.lvl-3.TCGA-A3-3359-11A-01D-0859-05.gdc_hg38.txt\n"
     ]
    },
    {
     "name": "stderr",
     "output_type": "stream",
     "text": [
      " 12%|█▏        | 302/2603 [1:37:10<13:16:35, 20.77s/it]"
     ]
    },
    {
     "name": "stdout",
     "output_type": "stream",
     "text": [
      "jhu-usc.edu_KIRC.HumanMethylation27.1.lvl-3.TCGA-A3-3317-01A-01D-0859-05.gdc_hg38.txt\n"
     ]
    },
    {
     "name": "stderr",
     "output_type": "stream",
     "text": [
      " 12%|█▏        | 303/2603 [1:37:30<13:04:21, 20.46s/it]"
     ]
    },
    {
     "name": "stdout",
     "output_type": "stream",
     "text": [
      "jhu-usc.edu_KIRC.HumanMethylation27.2.lvl-3.TCGA-B8-4143-11A-01D-1186-05.gdc_hg38.txt\n"
     ]
    },
    {
     "name": "stderr",
     "output_type": "stream",
     "text": [
      " 12%|█▏        | 304/2603 [1:37:46<12:21:29, 19.35s/it]"
     ]
    },
    {
     "name": "stdout",
     "output_type": "stream",
     "text": [
      "jhu-usc.edu_KIRC.HumanMethylation27.4.lvl-3.TCGA-B0-4834-01A-01D-1303-05.gdc_hg38.txt\n"
     ]
    },
    {
     "name": "stderr",
     "output_type": "stream",
     "text": [
      " 12%|█▏        | 305/2603 [1:38:03<11:55:09, 18.67s/it]"
     ]
    },
    {
     "name": "stdout",
     "output_type": "stream",
     "text": [
      "jhu-usc.edu_KIRC.HumanMethylation27.4.lvl-3.TCGA-CJ-4886-11A-01D-1303-05.gdc_hg38.txt\n"
     ]
    },
    {
     "name": "stderr",
     "output_type": "stream",
     "text": [
      " 12%|█▏        | 306/2603 [1:38:21<11:46:47, 18.46s/it]"
     ]
    },
    {
     "name": "stdout",
     "output_type": "stream",
     "text": [
      "jhu-usc.edu_KIRC.HumanMethylation27.3.lvl-3.TCGA-BP-4777-11A-01D-1287-05.gdc_hg38.txt\n"
     ]
    },
    {
     "name": "stderr",
     "output_type": "stream",
     "text": [
      " 12%|█▏        | 307/2603 [1:38:41<11:56:45, 18.73s/it]"
     ]
    },
    {
     "name": "stdout",
     "output_type": "stream",
     "text": [
      "jhu-usc.edu_KIRC.HumanMethylation27.3.lvl-3.TCGA-BP-4766-01A-01D-1284-05.gdc_hg38.txt\n"
     ]
    },
    {
     "name": "stderr",
     "output_type": "stream",
     "text": [
      " 12%|█▏        | 308/2603 [1:38:58<11:37:45, 18.24s/it]"
     ]
    },
    {
     "name": "stdout",
     "output_type": "stream",
     "text": [
      "jhu-usc.edu_KIRC.HumanMethylation27.2.lvl-3.TCGA-AK-3456-01A-01D-1186-05.gdc_hg38.txt\n"
     ]
    },
    {
     "name": "stderr",
     "output_type": "stream",
     "text": [
      " 12%|█▏        | 309/2603 [1:39:18<11:55:48, 18.72s/it]"
     ]
    },
    {
     "name": "stdout",
     "output_type": "stream",
     "text": [
      "jhu-usc.edu_KIRC.HumanMethylation27.2.lvl-3.TCGA-A3-3351-01A-01D-1186-05.gdc_hg38.txt\n"
     ]
    },
    {
     "name": "stderr",
     "output_type": "stream",
     "text": [
      " 12%|█▏        | 310/2603 [1:39:37<11:58:47, 18.81s/it]"
     ]
    },
    {
     "name": "stdout",
     "output_type": "stream",
     "text": [
      "jhu-usc.edu_KIRC.HumanMethylation27.5.lvl-3.TCGA-BP-5001-11A-01D-1332-05.gdc_hg38.txt\n"
     ]
    },
    {
     "name": "stderr",
     "output_type": "stream",
     "text": [
      " 12%|█▏        | 311/2603 [1:39:56<12:08:07, 19.06s/it]"
     ]
    },
    {
     "name": "stdout",
     "output_type": "stream",
     "text": [
      "jhu-usc.edu_KIRC.HumanMethylation27.2.lvl-3.TCGA-B8-4620-01A-01D-1186-05.gdc_hg38.txt\n"
     ]
    },
    {
     "name": "stderr",
     "output_type": "stream",
     "text": [
      " 12%|█▏        | 312/2603 [1:40:16<12:16:38, 19.29s/it]"
     ]
    },
    {
     "name": "stdout",
     "output_type": "stream",
     "text": [
      "jhu-usc.edu_KIRC.HumanMethylation27.5.lvl-3.TCGA-BP-4988-01A-01D-1332-05.gdc_hg38.txt\n"
     ]
    },
    {
     "name": "stderr",
     "output_type": "stream",
     "text": [
      " 12%|█▏        | 313/2603 [1:40:35<12:10:48, 19.15s/it]"
     ]
    },
    {
     "name": "stdout",
     "output_type": "stream",
     "text": [
      "jhu-usc.edu_KIRC.HumanMethylation27.5.lvl-3.TCGA-B0-5081-11A-01D-1332-05.gdc_hg38.txt\n"
     ]
    },
    {
     "name": "stderr",
     "output_type": "stream",
     "text": [
      " 12%|█▏        | 314/2603 [1:40:53<11:54:06, 18.72s/it]"
     ]
    },
    {
     "name": "stdout",
     "output_type": "stream",
     "text": [
      "jhu-usc.edu_KIRC.HumanMethylation27.3.lvl-3.TCGA-BP-4355-01A-01D-1284-05.gdc_hg38.txt\n"
     ]
    },
    {
     "name": "stderr",
     "output_type": "stream",
     "text": [
      " 12%|█▏        | 315/2603 [1:41:12<12:01:51, 18.93s/it]"
     ]
    },
    {
     "name": "stdout",
     "output_type": "stream",
     "text": [
      "jhu-usc.edu_KIRC.HumanMethylation27.4.lvl-3.TCGA-CJ-4881-11A-01D-1303-05.gdc_hg38.txt\n"
     ]
    },
    {
     "name": "stderr",
     "output_type": "stream",
     "text": [
      " 12%|█▏        | 316/2603 [1:41:33<12:24:14, 19.53s/it]"
     ]
    },
    {
     "name": "stdout",
     "output_type": "stream",
     "text": [
      "jhu-usc.edu_KIRC.HumanMethylation27.4.lvl-3.TCGA-CZ-4860-01A-01D-1303-05.gdc_hg38.txt\n"
     ]
    },
    {
     "name": "stderr",
     "output_type": "stream",
     "text": [
      " 12%|█▏        | 317/2603 [1:41:52<12:18:53, 19.39s/it]"
     ]
    },
    {
     "name": "stdout",
     "output_type": "stream",
     "text": [
      "jhu-usc.edu_KIRC.HumanMethylation27.3.lvl-3.TCGA-BP-4166-01A-02D-1284-05.gdc_hg38.txt\n"
     ]
    },
    {
     "name": "stderr",
     "output_type": "stream",
     "text": [
      " 12%|█▏        | 318/2603 [1:42:13<12:34:45, 19.82s/it]"
     ]
    },
    {
     "name": "stdout",
     "output_type": "stream",
     "text": [
      "jhu-usc.edu_KIRC.HumanMethylation27.1.lvl-3.TCGA-A3-3365-01A-01D-0859-05.gdc_hg38.txt\n"
     ]
    },
    {
     "name": "stderr",
     "output_type": "stream",
     "text": [
      " 12%|█▏        | 319/2603 [1:42:34<12:50:34, 20.24s/it]"
     ]
    },
    {
     "name": "stdout",
     "output_type": "stream",
     "text": [
      "jhu-usc.edu_KIRC.HumanMethylation27.5.lvl-3.TCGA-B0-5088-11A-01D-1332-05.gdc_hg38.txt\n"
     ]
    },
    {
     "name": "stderr",
     "output_type": "stream",
     "text": [
      " 12%|█▏        | 320/2603 [1:42:54<12:44:07, 20.08s/it]"
     ]
    },
    {
     "name": "stdout",
     "output_type": "stream",
     "text": [
      "jhu-usc.edu_KIRC.HumanMethylation27.1.lvl-3.TCGA-A3-3329-01A-01D-0859-05.gdc_hg38.txt\n"
     ]
    },
    {
     "name": "stderr",
     "output_type": "stream",
     "text": [
      " 12%|█▏        | 321/2603 [1:43:15<12:58:12, 20.46s/it]"
     ]
    },
    {
     "name": "stdout",
     "output_type": "stream",
     "text": [
      "jhu-usc.edu_KIRC.HumanMethylation27.5.lvl-3.TCGA-BP-4982-01A-01D-1332-05.gdc_hg38.txt\n"
     ]
    },
    {
     "name": "stderr",
     "output_type": "stream",
     "text": [
      " 12%|█▏        | 322/2603 [1:43:46<14:51:08, 23.44s/it]"
     ]
    },
    {
     "name": "stdout",
     "output_type": "stream",
     "text": [
      "jhu-usc.edu_KIRC.HumanMethylation27.5.lvl-3.TCGA-BP-4972-01A-01D-1332-05.gdc_hg38.txt\n"
     ]
    },
    {
     "name": "stderr",
     "output_type": "stream",
     "text": [
      " 12%|█▏        | 323/2603 [1:44:06<14:17:30, 22.57s/it]"
     ]
    },
    {
     "name": "stdout",
     "output_type": "stream",
     "text": [
      "jhu-usc.edu_KIRC.HumanMethylation27.2.lvl-3.TCGA-CJ-4636-11A-01D-1186-05.gdc_hg38.txt\n"
     ]
    },
    {
     "name": "stderr",
     "output_type": "stream",
     "text": [
      " 12%|█▏        | 324/2603 [1:44:29<14:24:54, 22.77s/it]"
     ]
    },
    {
     "name": "stdout",
     "output_type": "stream",
     "text": [
      "jhu-usc.edu_KIRC.HumanMethylation27.3.lvl-3.TCGA-BP-4344-11A-01D-1284-05.gdc_hg38.txt\n"
     ]
    },
    {
     "name": "stderr",
     "output_type": "stream",
     "text": [
      " 12%|█▏        | 325/2603 [1:44:50<14:02:58, 22.20s/it]"
     ]
    },
    {
     "name": "stdout",
     "output_type": "stream",
     "text": [
      "jhu-usc.edu_KIRC.HumanMethylation27.3.lvl-3.TCGA-BP-4165-01A-02D-1284-05.gdc_hg38.txt\n"
     ]
    },
    {
     "name": "stderr",
     "output_type": "stream",
     "text": [
      " 13%|█▎        | 326/2603 [1:45:11<13:41:31, 21.65s/it]"
     ]
    },
    {
     "name": "stdout",
     "output_type": "stream",
     "text": [
      "jhu-usc.edu_KIRC.HumanMethylation27.4.lvl-3.TCGA-CJ-4886-01A-01D-1303-05.gdc_hg38.txt\n"
     ]
    },
    {
     "name": "stderr",
     "output_type": "stream",
     "text": [
      " 13%|█▎        | 327/2603 [1:45:32<13:42:03, 21.67s/it]"
     ]
    },
    {
     "name": "stdout",
     "output_type": "stream",
     "text": [
      "jhu-usc.edu_KIRC.HumanMethylation27.4.lvl-3.TCGA-CZ-4858-11A-01D-1303-05.gdc_hg38.txt\n"
     ]
    },
    {
     "name": "stderr",
     "output_type": "stream",
     "text": [
      " 13%|█▎        | 328/2603 [1:45:54<13:45:23, 21.77s/it]"
     ]
    },
    {
     "name": "stdout",
     "output_type": "stream",
     "text": [
      "jhu-usc.edu_KIRC.HumanMethylation27.1.lvl-3.TCGA-A3-3363-11A-01D-0859-05.gdc_hg38.txt\n"
     ]
    },
    {
     "name": "stderr",
     "output_type": "stream",
     "text": [
      " 13%|█▎        | 329/2603 [1:46:15<13:31:47, 21.42s/it]"
     ]
    },
    {
     "name": "stdout",
     "output_type": "stream",
     "text": [
      "jhu-usc.edu_KIRC.HumanMethylation27.1.lvl-3.TCGA-A3-3329-11A-01D-0859-05.gdc_hg38.txt\n"
     ]
    },
    {
     "name": "stderr",
     "output_type": "stream",
     "text": [
      " 13%|█▎        | 330/2603 [1:46:38<13:48:28, 21.87s/it]"
     ]
    },
    {
     "name": "stdout",
     "output_type": "stream",
     "text": [
      "jhu-usc.edu_KIRC.HumanMethylation27.1.lvl-3.TCGA-A3-3306-11A-01D-0859-05.gdc_hg38.txt\n"
     ]
    },
    {
     "name": "stderr",
     "output_type": "stream",
     "text": [
      " 13%|█▎        | 331/2603 [1:47:04<14:33:40, 23.07s/it]"
     ]
    },
    {
     "name": "stdout",
     "output_type": "stream",
     "text": [
      "jhu-usc.edu_KIRC.HumanMethylation27.3.lvl-3.TCGA-BP-4351-11A-01D-1284-05.gdc_hg38.txt\n"
     ]
    },
    {
     "name": "stderr",
     "output_type": "stream",
     "text": [
      " 13%|█▎        | 332/2603 [1:47:24<14:05:31, 22.34s/it]"
     ]
    },
    {
     "name": "stdout",
     "output_type": "stream",
     "text": [
      "jhu-usc.edu_KIRC.HumanMethylation27.1.lvl-3.TCGA-AS-3777-01A-01D-0859-05.gdc_hg38.txt\n"
     ]
    },
    {
     "name": "stderr",
     "output_type": "stream",
     "text": [
      " 13%|█▎        | 333/2603 [1:47:45<13:44:14, 21.79s/it]"
     ]
    },
    {
     "name": "stdout",
     "output_type": "stream",
     "text": [
      "jhu-usc.edu_KIRC.HumanMethylation27.4.lvl-3.TCGA-CJ-4881-01A-01D-1303-05.gdc_hg38.txt\n"
     ]
    },
    {
     "name": "stderr",
     "output_type": "stream",
     "text": [
      " 13%|█▎        | 334/2603 [1:48:05<13:21:25, 21.19s/it]"
     ]
    },
    {
     "name": "stdout",
     "output_type": "stream",
     "text": [
      "jhu-usc.edu_KIRC.HumanMethylation27.1.lvl-3.TCGA-AK-3447-01A-01D-0859-05.gdc_hg38.txt\n"
     ]
    },
    {
     "name": "stderr",
     "output_type": "stream",
     "text": [
      " 13%|█▎        | 335/2603 [1:48:25<13:05:47, 20.79s/it]"
     ]
    },
    {
     "name": "stdout",
     "output_type": "stream",
     "text": [
      "jhu-usc.edu_KIRC.HumanMethylation27.1.lvl-3.TCGA-A3-3306-01A-01D-0859-05.gdc_hg38.txt\n"
     ]
    },
    {
     "name": "stderr",
     "output_type": "stream",
     "text": [
      " 13%|█▎        | 336/2603 [1:48:44<12:55:59, 20.54s/it]"
     ]
    },
    {
     "name": "stdout",
     "output_type": "stream",
     "text": [
      "jhu-usc.edu_KIRC.HumanMethylation27.3.lvl-3.TCGA-BP-4343-11A-01D-1284-05.gdc_hg38.txt\n"
     ]
    },
    {
     "name": "stderr",
     "output_type": "stream",
     "text": [
      " 13%|█▎        | 337/2603 [1:49:04<12:44:09, 20.23s/it]"
     ]
    },
    {
     "name": "stdout",
     "output_type": "stream",
     "text": [
      "jhu-usc.edu_KIRC.HumanMethylation27.3.lvl-3.TCGA-BP-4338-11A-01D-1284-05.gdc_hg38.txt\n"
     ]
    },
    {
     "name": "stderr",
     "output_type": "stream",
     "text": [
      " 13%|█▎        | 338/2603 [1:49:25<12:51:35, 20.44s/it]"
     ]
    },
    {
     "name": "stdout",
     "output_type": "stream",
     "text": [
      "jhu-usc.edu_KIRC.HumanMethylation27.3.lvl-3.TCGA-BP-4354-11A-01D-1284-05.gdc_hg38.txt\n"
     ]
    },
    {
     "name": "stderr",
     "output_type": "stream",
     "text": [
      " 13%|█▎        | 339/2603 [1:49:44<12:40:31, 20.16s/it]"
     ]
    },
    {
     "name": "stdout",
     "output_type": "stream",
     "text": [
      "jhu-usc.edu_KIRC.HumanMethylation27.4.lvl-3.TCGA-CJ-4894-01A-01D-1303-05.gdc_hg38.txt\n"
     ]
    },
    {
     "name": "stderr",
     "output_type": "stream",
     "text": [
      " 13%|█▎        | 340/2603 [1:50:04<12:32:43, 19.96s/it]"
     ]
    },
    {
     "name": "stdout",
     "output_type": "stream",
     "text": [
      "jhu-usc.edu_STAD.HumanMethylation27.2.lvl-3.TCGA-CG-4301-01A-01D-1156-05.gdc_hg38.txt\n"
     ]
    },
    {
     "name": "stderr",
     "output_type": "stream",
     "text": [
      " 13%|█▎        | 341/2603 [1:50:24<12:29:01, 19.87s/it]"
     ]
    },
    {
     "name": "stdout",
     "output_type": "stream",
     "text": [
      "jhu-usc.edu_STAD.HumanMethylation27.2.lvl-3.TCGA-BR-4366-11A-01D-1156-05.gdc_hg38.txt\n"
     ]
    },
    {
     "name": "stderr",
     "output_type": "stream",
     "text": [
      " 13%|█▎        | 342/2603 [1:50:45<12:41:00, 20.20s/it]"
     ]
    },
    {
     "name": "stdout",
     "output_type": "stream",
     "text": [
      "jhu-usc.edu_STAD.HumanMethylation27.2.lvl-3.TCGA-BR-4370-01A-01D-1156-05.gdc_hg38.txt\n"
     ]
    },
    {
     "name": "stderr",
     "output_type": "stream",
     "text": [
      " 13%|█▎        | 343/2603 [1:51:05<12:38:38, 20.14s/it]"
     ]
    },
    {
     "name": "stdout",
     "output_type": "stream",
     "text": [
      "jhu-usc.edu_STAD.HumanMethylation27.2.lvl-3.TCGA-BR-4361-11A-01D-1156-05.gdc_hg38.txt\n"
     ]
    },
    {
     "name": "stderr",
     "output_type": "stream",
     "text": [
      " 13%|█▎        | 344/2603 [1:51:26<12:48:33, 20.41s/it]"
     ]
    },
    {
     "name": "stdout",
     "output_type": "stream",
     "text": [
      "jhu-usc.edu_STAD.HumanMethylation27.2.lvl-3.TCGA-CG-4444-01A-01D-1156-05.gdc_hg38.txt\n"
     ]
    },
    {
     "name": "stderr",
     "output_type": "stream",
     "text": [
      " 13%|█▎        | 345/2603 [1:51:47<13:01:17, 20.76s/it]"
     ]
    },
    {
     "name": "stdout",
     "output_type": "stream",
     "text": [
      "jhu-usc.edu_STAD.HumanMethylation27.2.lvl-3.TCGA-BR-4371-01A-01D-1156-05.gdc_hg38.txt\n"
     ]
    },
    {
     "name": "stderr",
     "output_type": "stream",
     "text": [
      " 13%|█▎        | 346/2603 [1:52:09<13:10:17, 21.01s/it]"
     ]
    },
    {
     "name": "stdout",
     "output_type": "stream",
     "text": [
      "jhu-usc.edu_STAD.HumanMethylation27.1.lvl-3.TCGA-BR-4257-11A-01D-1129-05.gdc_hg38.txt\n"
     ]
    },
    {
     "name": "stderr",
     "output_type": "stream",
     "text": [
      " 13%|█▎        | 347/2603 [1:52:29<13:03:20, 20.83s/it]"
     ]
    },
    {
     "name": "stdout",
     "output_type": "stream",
     "text": [
      "jhu-usc.edu_STAD.HumanMethylation27.1.lvl-3.TCGA-BR-4279-01A-01D-1129-05.gdc_hg38.txt\n"
     ]
    },
    {
     "name": "stderr",
     "output_type": "stream",
     "text": [
      " 13%|█▎        | 348/2603 [1:52:49<12:49:12, 20.47s/it]"
     ]
    },
    {
     "name": "stdout",
     "output_type": "stream",
     "text": [
      "jhu-usc.edu_STAD.HumanMethylation27.2.lvl-3.TCGA-CG-4438-01A-01D-1156-05.gdc_hg38.txt\n"
     ]
    },
    {
     "name": "stderr",
     "output_type": "stream",
     "text": [
      " 13%|█▎        | 349/2603 [1:53:08<12:36:49, 20.15s/it]"
     ]
    },
    {
     "name": "stdout",
     "output_type": "stream",
     "text": [
      "jhu-usc.edu_STAD.HumanMethylation27.2.lvl-3.TCGA-BR-4361-01A-01D-1156-05.gdc_hg38.txt\n"
     ]
    },
    {
     "name": "stderr",
     "output_type": "stream",
     "text": [
      " 13%|█▎        | 350/2603 [1:53:30<12:58:04, 20.72s/it]"
     ]
    },
    {
     "name": "stdout",
     "output_type": "stream",
     "text": [
      "jhu-usc.edu_STAD.HumanMethylation27.2.lvl-3.TCGA-CG-4436-01A-01D-1156-05.gdc_hg38.txt\n"
     ]
    },
    {
     "name": "stderr",
     "output_type": "stream",
     "text": [
      " 13%|█▎        | 351/2603 [1:53:51<12:59:01, 20.76s/it]"
     ]
    },
    {
     "name": "stdout",
     "output_type": "stream",
     "text": [
      "jhu-usc.edu_STAD.HumanMethylation27.1.lvl-3.TCGA-BR-4280-11A-01D-1129-05.gdc_hg38.txt\n"
     ]
    },
    {
     "name": "stderr",
     "output_type": "stream",
     "text": [
      " 14%|█▎        | 352/2603 [1:54:14<13:20:50, 21.35s/it]"
     ]
    },
    {
     "name": "stdout",
     "output_type": "stream",
     "text": [
      "jhu-usc.edu_STAD.HumanMethylation27.2.lvl-3.TCGA-BR-4370-11A-01D-1156-05.gdc_hg38.txt\n"
     ]
    },
    {
     "name": "stderr",
     "output_type": "stream",
     "text": [
      " 14%|█▎        | 353/2603 [1:54:34<13:03:29, 20.89s/it]"
     ]
    },
    {
     "name": "stdout",
     "output_type": "stream",
     "text": [
      "jhu-usc.edu_STAD.HumanMethylation27.2.lvl-3.TCGA-BR-4362-11A-01D-1156-05.gdc_hg38.txt\n"
     ]
    },
    {
     "name": "stderr",
     "output_type": "stream",
     "text": [
      " 14%|█▎        | 354/2603 [1:54:54<12:53:48, 20.64s/it]"
     ]
    },
    {
     "name": "stdout",
     "output_type": "stream",
     "text": [
      "jhu-usc.edu_STAD.HumanMethylation27.1.lvl-3.TCGA-BR-4294-01A-01D-1129-05.gdc_hg38.txt\n"
     ]
    },
    {
     "name": "stderr",
     "output_type": "stream",
     "text": [
      " 14%|█▎        | 355/2603 [1:55:14<12:45:14, 20.42s/it]"
     ]
    },
    {
     "name": "stdout",
     "output_type": "stream",
     "text": [
      "jhu-usc.edu_STAD.HumanMethylation27.2.lvl-3.TCGA-BR-4363-01A-01D-1156-05.gdc_hg38.txt\n"
     ]
    },
    {
     "name": "stderr",
     "output_type": "stream",
     "text": [
      " 14%|█▎        | 356/2603 [1:55:33<12:36:02, 20.19s/it]"
     ]
    },
    {
     "name": "stdout",
     "output_type": "stream",
     "text": [
      "jhu-usc.edu_STAD.HumanMethylation27.1.lvl-3.TCGA-BR-4255-01A-01D-1129-05.gdc_hg38.txt\n"
     ]
    },
    {
     "name": "stderr",
     "output_type": "stream",
     "text": [
      " 14%|█▎        | 357/2603 [1:55:53<12:29:34, 20.02s/it]"
     ]
    },
    {
     "name": "stdout",
     "output_type": "stream",
     "text": [
      "jhu-usc.edu_STAD.HumanMethylation27.2.lvl-3.TCGA-BR-4366-01A-01D-1156-05.gdc_hg38.txt\n"
     ]
    },
    {
     "name": "stderr",
     "output_type": "stream",
     "text": [
      " 14%|█▍        | 358/2603 [1:56:15<12:48:09, 20.53s/it]"
     ]
    },
    {
     "name": "stdout",
     "output_type": "stream",
     "text": [
      "jhu-usc.edu_STAD.HumanMethylation27.1.lvl-3.TCGA-BR-4279-11A-01D-1129-05.gdc_hg38.txt\n"
     ]
    },
    {
     "name": "stderr",
     "output_type": "stream",
     "text": [
      " 14%|█▍        | 359/2603 [1:56:36<12:56:57, 20.77s/it]"
     ]
    },
    {
     "name": "stdout",
     "output_type": "stream",
     "text": [
      "jhu-usc.edu_STAD.HumanMethylation27.2.lvl-3.TCGA-CG-4305-01A-01D-1156-05.gdc_hg38.txt\n"
     ]
    },
    {
     "name": "stderr",
     "output_type": "stream",
     "text": [
      " 14%|█▍        | 360/2603 [1:56:59<13:27:02, 21.59s/it]"
     ]
    },
    {
     "name": "stdout",
     "output_type": "stream",
     "text": [
      "jhu-usc.edu_STAD.HumanMethylation27.1.lvl-3.TCGA-BR-4267-11A-01D-1129-05.gdc_hg38.txt\n"
     ]
    },
    {
     "name": "stderr",
     "output_type": "stream",
     "text": [
      " 14%|█▍        | 361/2603 [1:57:25<14:12:09, 22.81s/it]"
     ]
    },
    {
     "name": "stdout",
     "output_type": "stream",
     "text": [
      "jhu-usc.edu_STAD.HumanMethylation27.1.lvl-3.TCGA-BR-4255-11A-01D-1129-05.gdc_hg38.txt\n"
     ]
    },
    {
     "name": "stderr",
     "output_type": "stream",
     "text": [
      " 14%|█▍        | 362/2603 [1:57:47<14:05:42, 22.64s/it]"
     ]
    },
    {
     "name": "stdout",
     "output_type": "stream",
     "text": [
      "jhu-usc.edu_STAD.HumanMethylation27.2.lvl-3.TCGA-CG-4449-01A-01D-1156-05.gdc_hg38.txt\n"
     ]
    },
    {
     "name": "stderr",
     "output_type": "stream",
     "text": [
      " 14%|█▍        | 363/2603 [1:58:12<14:27:18, 23.23s/it]"
     ]
    },
    {
     "name": "stdout",
     "output_type": "stream",
     "text": [
      "jhu-usc.edu_STAD.HumanMethylation27.1.lvl-3.TCGA-BR-4188-11A-01D-1129-05.gdc_hg38.txt\n"
     ]
    },
    {
     "name": "stderr",
     "output_type": "stream",
     "text": [
      " 14%|█▍        | 364/2603 [1:58:33<14:07:24, 22.71s/it]"
     ]
    },
    {
     "name": "stdout",
     "output_type": "stream",
     "text": [
      "jhu-usc.edu_READ.HumanMethylation27.5.lvl-3.TCGA-AG-3881-01A-01D-0904-05.gdc_hg38.txt\n"
     ]
    },
    {
     "name": "stderr",
     "output_type": "stream",
     "text": [
      " 14%|█▍        | 365/2603 [1:58:56<14:06:09, 22.69s/it]"
     ]
    },
    {
     "name": "stdout",
     "output_type": "stream",
     "text": [
      "jhu-usc.edu_READ.HumanMethylation27.1.lvl-3.TCGA-AF-2691-01A-01D-0820-05.gdc_hg38.txt\n"
     ]
    },
    {
     "name": "stderr",
     "output_type": "stream",
     "text": [
      " 14%|█▍        | 366/2603 [1:59:18<14:02:42, 22.60s/it]"
     ]
    },
    {
     "name": "stdout",
     "output_type": "stream",
     "text": [
      "jhu-usc.edu_READ.HumanMethylation27.7.lvl-3.TCGA-AG-3896-01A-01D-1116-05.gdc_hg38.txt\n"
     ]
    },
    {
     "name": "stderr",
     "output_type": "stream",
     "text": [
      " 14%|█▍        | 367/2603 [1:59:39<13:41:43, 22.05s/it]"
     ]
    },
    {
     "name": "stdout",
     "output_type": "stream",
     "text": [
      "jhu-usc.edu_READ.HumanMethylation27.2.lvl-3.TCGA-AG-3600-01A-01D-0825-05.gdc_hg38.txt\n"
     ]
    },
    {
     "name": "stderr",
     "output_type": "stream",
     "text": [
      " 14%|█▍        | 368/2603 [2:00:03<14:00:56, 22.58s/it]"
     ]
    },
    {
     "name": "stdout",
     "output_type": "stream",
     "text": [
      "jhu-usc.edu_READ.HumanMethylation27.1.lvl-3.TCGA-AG-3594-01A-02D-0820-05.gdc_hg38.txt\n"
     ]
    },
    {
     "name": "stderr",
     "output_type": "stream",
     "text": [
      " 14%|█▍        | 369/2603 [2:00:31<15:04:46, 24.30s/it]"
     ]
    },
    {
     "name": "stdout",
     "output_type": "stream",
     "text": [
      "jhu-usc.edu_GBM.HumanMethylation27.8.lvl-3.TCGA-19-1787-01B-01D-0915-05.gdc_hg38.txt\n"
     ]
    },
    {
     "name": "stderr",
     "output_type": "stream",
     "text": [
      " 14%|█▍        | 370/2603 [2:00:55<14:55:27, 24.06s/it]"
     ]
    },
    {
     "name": "stdout",
     "output_type": "stream",
     "text": [
      "jhu-usc.edu_GBM.HumanMethylation27.6.lvl-3.TCGA-27-2519-01A-01D-0788-05.gdc_hg38.txt\n"
     ]
    },
    {
     "name": "stderr",
     "output_type": "stream",
     "text": [
      " 14%|█▍        | 371/2603 [2:01:16<14:24:13, 23.23s/it]"
     ]
    },
    {
     "name": "stdout",
     "output_type": "stream",
     "text": [
      "jhu-usc.edu_STAD.HumanMethylation27.2.lvl-3.TCGA-BR-4367-11A-01D-1156-05.gdc_hg38.txt\n"
     ]
    },
    {
     "name": "stderr",
     "output_type": "stream",
     "text": [
      " 14%|█▍        | 372/2603 [2:01:40<14:25:14, 23.27s/it]"
     ]
    },
    {
     "name": "stdout",
     "output_type": "stream",
     "text": [
      "jhu-usc.edu_STAD.HumanMethylation27.1.lvl-3.TCGA-BR-4280-01A-01D-1129-05.gdc_hg38.txt\n"
     ]
    },
    {
     "name": "stderr",
     "output_type": "stream",
     "text": [
      " 14%|█▍        | 373/2603 [2:02:01<14:01:52, 22.65s/it]"
     ]
    },
    {
     "name": "stdout",
     "output_type": "stream",
     "text": [
      "jhu-usc.edu_COAD.HumanMethylation27.7.lvl-3.TCGA-AY-4070-01A-01D-1110-05.gdc_hg38.txt\n"
     ]
    },
    {
     "name": "stderr",
     "output_type": "stream",
     "text": [
      " 14%|█▍        | 374/2603 [2:02:22<13:48:51, 22.31s/it]"
     ]
    },
    {
     "name": "stdout",
     "output_type": "stream",
     "text": [
      "jhu-usc.edu_COAD.HumanMethylation27.6.lvl-3.TCGA-AA-3846-01A-01D-1020-05.gdc_hg38.txt\n"
     ]
    },
    {
     "name": "stderr",
     "output_type": "stream",
     "text": [
      " 14%|█▍        | 375/2603 [2:02:41<13:11:52, 21.33s/it]"
     ]
    },
    {
     "name": "stdout",
     "output_type": "stream",
     "text": [
      "jhu-usc.edu_COAD.HumanMethylation27.3.lvl-3.TCGA-AA-A00L-01A-01D-A004-05.gdc_hg38.txt\n"
     ]
    },
    {
     "name": "stderr",
     "output_type": "stream",
     "text": [
      " 14%|█▍        | 376/2603 [2:03:01<12:55:03, 20.88s/it]"
     ]
    },
    {
     "name": "stdout",
     "output_type": "stream",
     "text": [
      "jhu-usc.edu_COAD.HumanMethylation27.8.lvl-3.TCGA-AA-A03F-11A-12D-A081-05.gdc_hg38.txt\n"
     ]
    },
    {
     "name": "stderr",
     "output_type": "stream",
     "text": [
      " 14%|█▍        | 377/2603 [2:03:25<13:33:13, 21.92s/it]"
     ]
    },
    {
     "name": "stdout",
     "output_type": "stream",
     "text": [
      "jhu-usc.edu_STAD.HumanMethylation27.1.lvl-3.TCGA-BR-4253-11A-01D-1129-05.gdc_hg38.txt\n"
     ]
    },
    {
     "name": "stderr",
     "output_type": "stream",
     "text": [
      " 15%|█▍        | 378/2603 [2:03:47<13:26:42, 21.75s/it]"
     ]
    },
    {
     "name": "stdout",
     "output_type": "stream",
     "text": [
      "jhu-usc.edu_STAD.HumanMethylation27.2.lvl-3.TCGA-BR-4368-11A-01D-1156-05.gdc_hg38.txt\n"
     ]
    },
    {
     "name": "stderr",
     "output_type": "stream",
     "text": [
      " 15%|█▍        | 379/2603 [2:04:12<14:04:42, 22.79s/it]"
     ]
    },
    {
     "name": "stdout",
     "output_type": "stream",
     "text": [
      "jhu-usc.edu_STAD.HumanMethylation27.2.lvl-3.TCGA-BR-4371-11A-01D-1156-05.gdc_hg38.txt\n"
     ]
    },
    {
     "name": "stderr",
     "output_type": "stream",
     "text": [
      " 15%|█▍        | 380/2603 [2:04:35<14:01:07, 22.70s/it]"
     ]
    },
    {
     "name": "stdout",
     "output_type": "stream",
     "text": [
      "jhu-usc.edu_STAD.HumanMethylation27.2.lvl-3.TCGA-CG-4306-01A-01D-1156-05.gdc_hg38.txt\n"
     ]
    },
    {
     "name": "stderr",
     "output_type": "stream",
     "text": [
      " 15%|█▍        | 381/2603 [2:04:58<14:11:02, 22.98s/it]"
     ]
    },
    {
     "name": "stdout",
     "output_type": "stream",
     "text": [
      "jhu-usc.edu_STAD.HumanMethylation27.2.lvl-3.TCGA-CG-4476-01A-01D-1156-05.gdc_hg38.txt\n"
     ]
    },
    {
     "name": "stderr",
     "output_type": "stream",
     "text": [
      " 15%|█▍        | 382/2603 [2:05:18<13:37:22, 22.08s/it]"
     ]
    },
    {
     "name": "stdout",
     "output_type": "stream",
     "text": [
      "jhu-usc.edu_STAD.HumanMethylation27.2.lvl-3.TCGA-CG-4462-01A-01D-1156-05.gdc_hg38.txt\n"
     ]
    },
    {
     "name": "stderr",
     "output_type": "stream",
     "text": [
      " 15%|█▍        | 383/2603 [2:05:38<13:10:52, 21.38s/it]"
     ]
    },
    {
     "name": "stdout",
     "output_type": "stream",
     "text": [
      "jhu-usc.edu_KIRC.HumanMethylation27.5.lvl-3.TCGA-BP-5001-01A-01D-1332-05.gdc_hg38.txt\n"
     ]
    },
    {
     "name": "stderr",
     "output_type": "stream",
     "text": [
      " 15%|█▍        | 384/2603 [2:06:00<13:15:21, 21.51s/it]"
     ]
    },
    {
     "name": "stdout",
     "output_type": "stream",
     "text": [
      "jhu-usc.edu_KIRC.HumanMethylation27.3.lvl-3.TCGA-BP-4159-01A-02D-1284-05.gdc_hg38.txt\n"
     ]
    },
    {
     "name": "stderr",
     "output_type": "stream",
     "text": [
      " 15%|█▍        | 385/2603 [2:06:22<13:19:48, 21.64s/it]"
     ]
    },
    {
     "name": "stdout",
     "output_type": "stream",
     "text": [
      "jhu-usc.edu_KIRC.HumanMethylation27.3.lvl-3.TCGA-BP-4327-01A-01D-1284-05.gdc_hg38.txt\n"
     ]
    },
    {
     "name": "stderr",
     "output_type": "stream",
     "text": [
      " 15%|█▍        | 386/2603 [2:06:42<13:06:07, 21.28s/it]"
     ]
    },
    {
     "name": "stdout",
     "output_type": "stream",
     "text": [
      "jhu-usc.edu_KIRC.HumanMethylation27.4.lvl-3.TCGA-CZ-4858-01A-01D-1303-05.gdc_hg38.txt\n"
     ]
    },
    {
     "name": "stderr",
     "output_type": "stream",
     "text": [
      " 15%|█▍        | 387/2603 [2:07:04<13:12:37, 21.46s/it]"
     ]
    },
    {
     "name": "stdout",
     "output_type": "stream",
     "text": [
      "jhu-usc.edu_KIRC.HumanMethylation27.3.lvl-3.TCGA-BP-4352-01A-01D-1284-05.gdc_hg38.txt\n"
     ]
    },
    {
     "name": "stderr",
     "output_type": "stream",
     "text": [
      " 15%|█▍        | 388/2603 [2:07:24<12:56:29, 21.03s/it]"
     ]
    },
    {
     "name": "stdout",
     "output_type": "stream",
     "text": [
      "jhu-usc.edu_KIRC.HumanMethylation27.4.lvl-3.TCGA-CZ-4860-11A-01D-1303-05.gdc_hg38.txt\n"
     ]
    },
    {
     "name": "stderr",
     "output_type": "stream",
     "text": [
      " 15%|█▍        | 389/2603 [2:07:47<13:19:47, 21.67s/it]"
     ]
    },
    {
     "name": "stdout",
     "output_type": "stream",
     "text": [
      "jhu-usc.edu_KIRC.HumanMethylation27.2.lvl-3.TCGA-B8-4154-11A-01D-1186-05.gdc_hg38.txt\n"
     ]
    },
    {
     "name": "stderr",
     "output_type": "stream",
     "text": [
      " 15%|█▍        | 390/2603 [2:08:08<13:09:35, 21.41s/it]"
     ]
    },
    {
     "name": "stdout",
     "output_type": "stream",
     "text": [
      "jhu-usc.edu_KIRC.HumanMethylation27.5.lvl-3.TCGA-BP-4975-11A-01D-1332-05.gdc_hg38.txt\n"
     ]
    },
    {
     "name": "stderr",
     "output_type": "stream",
     "text": [
      " 15%|█▌        | 391/2603 [2:08:26<12:32:17, 20.41s/it]"
     ]
    },
    {
     "name": "stdout",
     "output_type": "stream",
     "text": [
      "jhu-usc.edu_STAD.HumanMethylation27.1.lvl-3.TCGA-BR-4191-01A-02D-1129-05.gdc_hg38.txt\n"
     ]
    },
    {
     "name": "stderr",
     "output_type": "stream",
     "text": [
      " 15%|█▌        | 392/2603 [2:08:46<12:22:11, 20.14s/it]"
     ]
    },
    {
     "name": "stdout",
     "output_type": "stream",
     "text": [
      "jhu-usc.edu_STAD.HumanMethylation27.1.lvl-3.TCGA-BR-4294-11A-01D-1129-05.gdc_hg38.txt\n"
     ]
    },
    {
     "name": "stderr",
     "output_type": "stream",
     "text": [
      " 15%|█▌        | 393/2603 [2:09:06<12:20:39, 20.11s/it]"
     ]
    },
    {
     "name": "stdout",
     "output_type": "stream",
     "text": [
      "jhu-usc.edu_KIRC.HumanMethylation27.3.lvl-3.TCGA-BP-4345-01A-01D-1284-05.gdc_hg38.txt\n"
     ]
    },
    {
     "name": "stderr",
     "output_type": "stream",
     "text": [
      " 15%|█▌        | 394/2603 [2:09:25<12:10:52, 19.85s/it]"
     ]
    },
    {
     "name": "stdout",
     "output_type": "stream",
     "text": [
      "jhu-usc.edu_KIRC.HumanMethylation27.4.lvl-3.TCGA-CJ-4888-01A-01D-1303-05.gdc_hg38.txt\n"
     ]
    },
    {
     "name": "stderr",
     "output_type": "stream",
     "text": [
      " 15%|█▌        | 395/2603 [2:09:44<12:05:18, 19.71s/it]"
     ]
    },
    {
     "name": "stdout",
     "output_type": "stream",
     "text": [
      "jhu-usc.edu_KIRC.HumanMethylation27.4.lvl-3.TCGA-BP-4807-11A-01D-1303-05.gdc_hg38.txt\n"
     ]
    },
    {
     "name": "stderr",
     "output_type": "stream",
     "text": [
      " 15%|█▌        | 396/2603 [2:10:04<12:07:09, 19.77s/it]"
     ]
    },
    {
     "name": "stdout",
     "output_type": "stream",
     "text": [
      "jhu-usc.edu_KIRC.HumanMethylation27.3.lvl-3.TCGA-BP-4158-11A-01D-1284-05.gdc_hg38.txt\n"
     ]
    },
    {
     "name": "stderr",
     "output_type": "stream",
     "text": [
      " 15%|█▌        | 397/2603 [2:10:23<11:54:44, 19.44s/it]"
     ]
    },
    {
     "name": "stdout",
     "output_type": "stream",
     "text": [
      "jhu-usc.edu_STAD.HumanMethylation27.1.lvl-3.TCGA-BR-4188-01A-01D-1129-05.gdc_hg38.txt\n"
     ]
    },
    {
     "name": "stderr",
     "output_type": "stream",
     "text": [
      " 15%|█▌        | 398/2603 [2:10:42<11:49:56, 19.32s/it]"
     ]
    },
    {
     "name": "stdout",
     "output_type": "stream",
     "text": [
      "jhu-usc.edu_STAD.HumanMethylation27.2.lvl-3.TCGA-BR-4363-11A-01D-1156-05.gdc_hg38.txt\n"
     ]
    },
    {
     "name": "stderr",
     "output_type": "stream",
     "text": [
      " 15%|█▌        | 399/2603 [2:11:01<11:52:59, 19.41s/it]"
     ]
    },
    {
     "name": "stdout",
     "output_type": "stream",
     "text": [
      "jhu-usc.edu_KIRC.HumanMethylation27.3.lvl-3.TCGA-BP-4337-11A-01D-1284-05.gdc_hg38.txt\n"
     ]
    },
    {
     "name": "stderr",
     "output_type": "stream",
     "text": [
      " 15%|█▌        | 400/2603 [2:11:21<11:49:16, 19.32s/it]"
     ]
    },
    {
     "name": "stdout",
     "output_type": "stream",
     "text": [
      "jhu-usc.edu_KIRC.HumanMethylation27.2.lvl-3.TCGA-CJ-4641-01A-01D-1186-05.gdc_hg38.txt\n"
     ]
    },
    {
     "name": "stderr",
     "output_type": "stream",
     "text": [
      " 15%|█▌        | 401/2603 [2:11:40<11:46:54, 19.26s/it]"
     ]
    },
    {
     "name": "stdout",
     "output_type": "stream",
     "text": [
      "jhu-usc.edu_KIRC.HumanMethylation27.1.lvl-3.TCGA-AK-3465-01A-01D-0859-05.gdc_hg38.txt\n"
     ]
    },
    {
     "name": "stderr",
     "output_type": "stream",
     "text": [
      " 15%|█▌        | 402/2603 [2:12:00<11:59:55, 19.63s/it]"
     ]
    },
    {
     "name": "stdout",
     "output_type": "stream",
     "text": [
      "jhu-usc.edu_KIRC.HumanMethylation27.4.lvl-3.TCGA-BP-4784-11A-01D-1303-05.gdc_hg38.txt\n"
     ]
    },
    {
     "name": "stderr",
     "output_type": "stream",
     "text": [
      " 15%|█▌        | 403/2603 [2:12:22<12:28:35, 20.42s/it]"
     ]
    },
    {
     "name": "stdout",
     "output_type": "stream",
     "text": [
      "jhu-usc.edu_KIRC.HumanMethylation27.1.lvl-3.TCGA-A3-3308-01A-01D-0859-05.gdc_hg38.txt\n"
     ]
    },
    {
     "name": "stderr",
     "output_type": "stream",
     "text": [
      " 16%|█▌        | 404/2603 [2:12:42<12:23:38, 20.29s/it]"
     ]
    },
    {
     "name": "stdout",
     "output_type": "stream",
     "text": [
      "jhu-usc.edu_KIRC.HumanMethylation27.3.lvl-3.TCGA-BP-4326-01A-01D-1284-05.gdc_hg38.txt\n"
     ]
    },
    {
     "name": "stderr",
     "output_type": "stream",
     "text": [
      " 16%|█▌        | 405/2603 [2:13:03<12:32:00, 20.53s/it]"
     ]
    },
    {
     "name": "stdout",
     "output_type": "stream",
     "text": [
      "jhu-usc.edu_STAD.HumanMethylation27.1.lvl-3.TCGA-BR-4183-01A-02D-1129-05.gdc_hg38.txt\n"
     ]
    },
    {
     "name": "stderr",
     "output_type": "stream",
     "text": [
      " 16%|█▌        | 406/2603 [2:13:23<12:20:57, 20.24s/it]"
     ]
    },
    {
     "name": "stdout",
     "output_type": "stream",
     "text": [
      "jhu-usc.edu_STAD.HumanMethylation27.2.lvl-3.TCGA-CG-4477-01A-01D-1156-05.gdc_hg38.txt\n"
     ]
    },
    {
     "name": "stderr",
     "output_type": "stream",
     "text": [
      " 16%|█▌        | 407/2603 [2:13:42<12:02:14, 19.73s/it]"
     ]
    },
    {
     "name": "stdout",
     "output_type": "stream",
     "text": [
      "jhu-usc.edu_STAD.HumanMethylation27.2.lvl-3.TCGA-CG-4455-01A-01D-1156-05.gdc_hg38.txt\n"
     ]
    },
    {
     "name": "stderr",
     "output_type": "stream",
     "text": [
      " 16%|█▌        | 408/2603 [2:14:02<12:05:13, 19.82s/it]"
     ]
    },
    {
     "name": "stdout",
     "output_type": "stream",
     "text": [
      "jhu-usc.edu_STAD.HumanMethylation27.1.lvl-3.TCGA-BR-4253-01A-01D-1129-05.gdc_hg38.txt\n"
     ]
    },
    {
     "name": "stderr",
     "output_type": "stream",
     "text": [
      " 16%|█▌        | 409/2603 [2:14:23<12:18:42, 20.20s/it]"
     ]
    },
    {
     "name": "stdout",
     "output_type": "stream",
     "text": [
      "jhu-usc.edu_STAD.HumanMethylation27.1.lvl-3.TCGA-BR-4257-01A-01D-1129-05.gdc_hg38.txt\n"
     ]
    },
    {
     "name": "stderr",
     "output_type": "stream",
     "text": [
      " 16%|█▌        | 410/2603 [2:14:42<12:03:28, 19.79s/it]"
     ]
    },
    {
     "name": "stdout",
     "output_type": "stream",
     "text": [
      "jhu-usc.edu_COAD.HumanMethylation27.6.lvl-3.TCGA-AA-3530-01A-01D-1020-05.gdc_hg38.txt\n"
     ]
    },
    {
     "name": "stderr",
     "output_type": "stream",
     "text": [
      " 16%|█▌        | 411/2603 [2:15:00<11:52:29, 19.50s/it]"
     ]
    },
    {
     "name": "stdout",
     "output_type": "stream",
     "text": [
      "jhu-usc.edu_COAD.HumanMethylation27.4.lvl-3.TCGA-AA-A02W-01A-01D-A00B-05.gdc_hg38.txt\n"
     ]
    },
    {
     "name": "stderr",
     "output_type": "stream",
     "text": [
      " 16%|█▌        | 412/2603 [2:15:20<11:48:03, 19.39s/it]"
     ]
    },
    {
     "name": "stdout",
     "output_type": "stream",
     "text": [
      "jhu-usc.edu_COAD.HumanMethylation27.1.lvl-3.TCGA-A6-2683-11A-01D-1551-05.gdc_hg38.txt\n"
     ]
    },
    {
     "name": "stderr",
     "output_type": "stream",
     "text": [
      " 16%|█▌        | 413/2603 [2:15:39<11:48:36, 19.41s/it]"
     ]
    },
    {
     "name": "stdout",
     "output_type": "stream",
     "text": [
      "jhu-usc.edu_COAD.HumanMethylation27.4.lvl-3.TCGA-AA-A02J-01A-01D-A00B-05.gdc_hg38.txt\n"
     ]
    },
    {
     "name": "stderr",
     "output_type": "stream",
     "text": [
      " 16%|█▌        | 414/2603 [2:16:00<12:08:37, 19.97s/it]"
     ]
    },
    {
     "name": "stdout",
     "output_type": "stream",
     "text": [
      "jhu-usc.edu_COAD.HumanMethylation27.8.lvl-3.TCGA-AA-A01P-11A-11D-A081-05.gdc_hg38.txt\n"
     ]
    },
    {
     "name": "stderr",
     "output_type": "stream",
     "text": [
      " 16%|█▌        | 415/2603 [2:16:21<12:14:34, 20.14s/it]"
     ]
    },
    {
     "name": "stdout",
     "output_type": "stream",
     "text": [
      "jhu-usc.edu_COAD.HumanMethylation27.8.lvl-3.TCGA-AA-A01P-01A-21D-A081-05.gdc_hg38.txt\n"
     ]
    },
    {
     "name": "stderr",
     "output_type": "stream",
     "text": [
      " 16%|█▌        | 416/2603 [2:16:40<12:05:30, 19.90s/it]"
     ]
    },
    {
     "name": "stdout",
     "output_type": "stream",
     "text": [
      "jhu-usc.edu_KIRC.HumanMethylation27.4.lvl-3.TCGA-B0-4836-01A-01D-1303-05.gdc_hg38.txt\n"
     ]
    },
    {
     "name": "stderr",
     "output_type": "stream",
     "text": [
      " 16%|█▌        | 417/2603 [2:17:04<12:45:01, 21.00s/it]"
     ]
    },
    {
     "name": "stdout",
     "output_type": "stream",
     "text": [
      "jhu-usc.edu_COAD.HumanMethylation27.5.lvl-3.TCGA-AA-3833-01A-01D-0904-05.gdc_hg38.txt\n"
     ]
    },
    {
     "name": "stderr",
     "output_type": "stream",
     "text": [
      " 16%|█▌        | 418/2603 [2:17:26<12:58:02, 21.36s/it]"
     ]
    },
    {
     "name": "stdout",
     "output_type": "stream",
     "text": [
      "jhu-usc.edu_COAD.HumanMethylation27.7.lvl-3.TCGA-AA-3966-01A-01D-1110-05.gdc_hg38.txt\n"
     ]
    },
    {
     "name": "stderr",
     "output_type": "stream",
     "text": [
      " 16%|█▌        | 419/2603 [2:17:54<14:10:47, 23.37s/it]"
     ]
    },
    {
     "name": "stdout",
     "output_type": "stream",
     "text": [
      "jhu-usc.edu_COAD.HumanMethylation27.4.lvl-3.TCGA-AA-A01K-01A-01D-A00B-05.gdc_hg38.txt\n"
     ]
    },
    {
     "name": "stderr",
     "output_type": "stream",
     "text": [
      " 16%|█▌        | 420/2603 [2:18:16<13:51:16, 22.85s/it]"
     ]
    },
    {
     "name": "stdout",
     "output_type": "stream",
     "text": [
      "jhu-usc.edu_KIRC.HumanMethylation27.4.lvl-3.TCGA-CZ-4857-11A-01D-1303-05.gdc_hg38.txt\n"
     ]
    }
   ],
   "source": [
    "#Retrieving data using file ids\n",
    "data_endpt = \"https://api.gdc.cancer.gov/data\"\n",
    "#params = {\"ids\": file_uuid_list}\n",
    "for file_id in tqdm.tqdm(file_uuid_list):\n",
    "    params = {\"ids\": [file_id]}\n",
    "    response = requests.post(data_endpt, data = json.dumps(params), headers = {\"Content-Type\": \"application/json\"})\n",
    "    response_head_cd = response.headers[\"Content-Disposition\"]\n",
    "    file_name = './temp/temp_methyl.txt'\n",
    "    with open(file_name, \"wb\") as output_file:\n",
    "        output_file.write(response.content)\n",
    "        f = open('./temp/temp_methyl.txt','r')\n",
    "        df = pd.read_csv('./temp/temp_methyl.txt', sep='\\t')\n",
    "        df = df.set_index('Composite Element REF')\n",
    "        df = df.reindex(index = assay_27)\n",
    "        df = df.reset_index()\n",
    "        df2 = df.drop(['Chromosome','Composite Element REF','Start','End','Transcript_ID','Position_to_TSS','CGI_Coordinate','Feature_Type'],axis=1).dropna()\n",
    "        df2 = df2[df2[\"Gene_Symbol\"] != '.']\n",
    "        df2 = df2[df2[\"Gene_Type\"] != '.']\n",
    "        df2 = df2.reset_index().drop(['index'],axis=1)\n",
    "        gene_set = set()\n",
    "        for genes in df2[\"Gene_Symbol\"].to_list():\n",
    "            for gene in genes.split(';'):\n",
    "                gene_set.add(gene)\n",
    "        df2['Gene_Symbol_Set'] = df2['Gene_Symbol'].apply(lambda x: ';'.join(list(set(x.split(';')))))\n",
    "        df2 = df2.drop(['Gene_Symbol','Gene_Type'],axis=1)\n",
    "        df3 = pd.DataFrame(index = gene_set,columns = ['beta_values'])\n",
    "        for i in range(df2.shape[0]):\n",
    "            for gene in df2.iloc[i]['Gene_Symbol_Set'].split(';'):        \n",
    "                out = df3.loc[gene]\n",
    "                if out.isna().to_list()[0]:\n",
    "                    df3.loc[gene]['beta_values'] = str(df2.iloc[i]['Beta_value'])[:6]\n",
    "                else:\n",
    "                    df3.loc[gene]['beta_values'] = out['beta_values'] + ';' + str(df2.iloc[i]['Beta_value'])[:6]\n",
    "        print(response_head_cd.split('filename=')[1])\n",
    "        df3.to_csv('./methyl_files_27/' + response_head_cd.split('filename=')[1])"
   ]
  },
  {
   "cell_type": "code",
   "execution_count": null,
   "metadata": {},
   "outputs": [],
   "source": []
  }
 ],
 "metadata": {
  "kernelspec": {
   "display_name": "Python camdefaultenv",
   "language": "python",
   "name": "camdefaultenv"
  },
  "language_info": {
   "codemirror_mode": {
    "name": "ipython",
    "version": 3
   },
   "file_extension": ".py",
   "mimetype": "text/x-python",
   "name": "python",
   "nbconvert_exporter": "python",
   "pygments_lexer": "ipython3",
   "version": "3.8.2"
  }
 },
 "nbformat": 4,
 "nbformat_minor": 4
}
